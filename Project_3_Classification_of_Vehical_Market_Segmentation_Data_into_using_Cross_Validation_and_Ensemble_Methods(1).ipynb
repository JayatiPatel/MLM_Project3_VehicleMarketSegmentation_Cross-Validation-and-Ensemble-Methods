{
  "cells": [
    {
      "cell_type": "markdown",
      "metadata": {
        "id": "view-in-github",
        "colab_type": "text"
      },
      "source": [
        "<a href=\"https://colab.research.google.com/github/JayatiPatel/MLM_Project3_VehicleMarketSegmentation_Cross-Validation-and-Ensemble-Methods/blob/main/Project_3_Classification_of_Vehical_Market_Segmentation_Data_into_using_Cross_Validation_and_Ensemble_Methods(1).ipynb\" target=\"_parent\"><img src=\"https://colab.research.google.com/assets/colab-badge.svg\" alt=\"Open In Colab\"/></a>"
      ]
    },
    {
      "cell_type": "markdown",
      "source": [
        ">[Classification of Vehical Market Segmentation Data into using Cross-Validation and Ensemble Methods](#scrollTo=IlvZB8ovKuLM)\n",
        "\n",
        ">>[About the Dataset](#scrollTo=IlvZB8ovKuLM)\n",
        "\n",
        ">[Description Of Data](#scrollTo=IlvZB8ovKuLM)\n",
        "\n",
        ">>>[Data Size](#scrollTo=IlvZB8ovKuLM)\n",
        "\n",
        ">>>[Data Shape](#scrollTo=IlvZB8ovKuLM)\n",
        "\n",
        ">[Description of Variables](#scrollTo=IlvZB8ovKuLM)\n",
        "\n",
        ">>[Descriptive Statistics](#scrollTo=E_al6A7OqgLx)\n",
        "\n",
        ">>>[Descriptive Statistics: Categorical Variables or Features](#scrollTo=E_al6A7OqgLx)\n",
        "\n",
        ">>>>[Count | Frequency Statistics](#scrollTo=E_al6A7OqgLx)\n",
        "\n",
        ">>>[Descriptive Statistics: Non-Categorical Variables or Features](#scrollTo=E_al6A7OqgLx)\n",
        "\n",
        ">>>>[Measures of Central Tendency](#scrollTo=E_al6A7OqgLx)\n",
        "\n",
        ">>>>[Measures of Dispersion](#scrollTo=E_al6A7OqgLx)\n",
        "\n",
        ">>>>[Correlation Statistics (with Test of Correlation)](#scrollTo=E_al6A7OqgLx)\n",
        "\n",
        ">[Analysis of Data](#scrollTo=wea7AtJ0qGh3)\n",
        "\n",
        ">>[Data Pre-Processing](#scrollTo=wea7AtJ0qGh3)\n",
        "\n",
        ">>>[Missing Data Statistics: Records](#scrollTo=wea7AtJ0qGh3)\n",
        "\n",
        ">>>[Missing Data Treatment : categorical Variable](#scrollTo=wea7AtJ0qGh3)\n",
        "\n",
        ">>>[Missing Data Treatment : Non Categorical Variable](#scrollTo=wea7AtJ0qGh3)\n",
        "\n",
        ">>[Numerical Encoding of Categorical Variables or Features](#scrollTo=4pyXd0VDp8ef)\n",
        "\n",
        ">>>[Outlier Statistics and Treatment (Scaling | Transformation)](#scrollTo=4pyXd0VDp8ef)\n",
        "\n",
        ">>[Normalization](#scrollTo=JkM39AkJp1qp)\n",
        "\n",
        ">[Project Objectives | Problem Statements](#scrollTo=93bhuXGSn6ZI)\n",
        "\n",
        ">>[PO1 | PS1: Classification of Consumer Data into {Segments | Clusters | Classes} using Cross-Validation](#scrollTo=93bhuXGSn6ZI)\n",
        "\n",
        ">>>[Objective:](#scrollTo=93bhuXGSn6ZI)\n",
        "\n",
        ">>>[Problem Statement:](#scrollTo=93bhuXGSn6ZI)\n",
        "\n",
        ">>[Analysis of Cross Validation Metrics](#scrollTo=93bhuXGSn6ZI)\n",
        "\n",
        ">>>[Cross-Validation Scores:](#scrollTo=93bhuXGSn6ZI)\n",
        "\n",
        ">>>[F1 Score:](#scrollTo=93bhuXGSn6ZI)\n",
        "\n",
        ">>>[Weighted F1 Score:](#scrollTo=93bhuXGSn6ZI)\n",
        "\n",
        ">>>[Interpretation and Implications](#scrollTo=93bhuXGSn6ZI)\n",
        "\n",
        ">>>[Cross-Validation:](#scrollTo=93bhuXGSn6ZI)\n",
        "\n",
        ">>>[Recommendations](#scrollTo=93bhuXGSn6ZI)\n",
        "\n",
        ">>[1.2. PO2 | PS2: Classification of Consumer Data into {Segments | Clusters | Classes} using Ensemble Methods](#scrollTo=cySXKNGon8gG)\n",
        "\n",
        ">>>[Random Forest Classifier Performance:](#scrollTo=cySXKNGon8gG)\n",
        "\n",
        ">>>[Training Set:](#scrollTo=cySXKNGon8gG)\n",
        "\n",
        ">>>[Testing Set:](#scrollTo=cySXKNGon8gG)\n",
        "\n",
        ">>[1.3. PO3 | PS3: Determination of an Appropriate Classification Model (Default vs Cross-Validation or Ensemble)](#scrollTo=oe4s1wphn9n6)\n",
        "\n",
        ">>>[Analysis and Recommendations:](#scrollTo=oe4s1wphn9n6)\n",
        "\n",
        ">>[Random Forest vs. Decision Tree:](#scrollTo=oe4s1wphn9n6)\n",
        "\n",
        ">>>[Random Forest:](#scrollTo=oe4s1wphn9n6)\n",
        "\n",
        ">>>[Decision Tree:](#scrollTo=oe4s1wphn9n6)\n",
        "\n",
        ">>[Analysis and Recommendations:](#scrollTo=oe4s1wphn9n6)\n",
        "\n",
        ">>[Conclusion:](#scrollTo=oe4s1wphn9n6)\n",
        "\n",
        ">>[1.4. PO4 | PS4: Identification of Important | Contributing | Significant Variables or Features and their Thresholds for Classification](#scrollTo=lugDvAU9ojmJ)\n",
        "\n",
        ">[Mangeigerial Implications](#scrollTo=7BMzbtvQolIF)\n",
        "\n"
      ],
      "metadata": {
        "colab_type": "toc",
        "id": "uYT08tHdDcJ8"
      }
    },
    {
      "cell_type": "markdown",
      "source": [
        "#**Classification of Vehical Market Segmentation Data into using Cross-Validation and Ensemble Methods**\n",
        "\n",
        "## About the Dataset\n",
        "\n",
        "The \"Vehicle Sales and Market Trends Dataset\" offers a comprehensive compilation of information related to sales transactions within the automotive industry. It encompasses details such as vehicle year, make, model, trim, body type, transmission type, VIN (Vehicle Identification Number), registration state, condition rating, odometer reading, exterior and interior colors, seller information, Manheim Market Report (MMR) values, selling prices, and sale dates.\n",
        "\n",
        "Key Features:\n",
        "\n",
        "* Vehicle Details: Specific information about each vehicle, including make, model, trim, and manufacturing year.\n",
        "\n",
        "* Transaction Information: Insights into sales transactions, such as selling prices and sale dates.\n",
        "\n",
        "* Market Trends: MMR values estimate the market value of each vehicle, facilitating analysis of market trends.\n",
        "\n",
        "* Condition and Mileage: Data on vehicle condition and odometer readings, enabling analysis of their impact on selling prices.\n",
        "\n",
        "# 2. Description Of Data\n",
        "\n",
        "### Data Size\n",
        " 88MB\n",
        "\n",
        "### Data Shape\n",
        "\n",
        "323362 rows × 23 columns\n",
        "\n",
        "# 3. Description of Variables\n",
        "\n",
        "Index Variable(s): No Index Variable\n",
        "\n",
        "**Categorical Variables:**\n",
        "\n",
        "Year, Make, Model, Trim, Body, Transmission, State, Color, Interior, Seller, Index\n",
        "\n",
        "**Nominal Variable**\n",
        "Make, Model, Body, Transmission, State, Color, Interior, Seller, Trim\n",
        "\n",
        "**Oridinal Variable**\n",
        "\n",
        "Year, Index\n",
        "\n",
        "**Non Categories Variable**\n",
        "\n",
        "Condition, Odometer, Mmr, Sellingprice, index\n",
        "\n"
      ],
      "metadata": {
        "id": "IlvZB8ovKuLM"
      }
    },
    {
      "cell_type": "markdown",
      "source": [
        "## Descriptive Statistics\n",
        "\n",
        "### Descriptive Statistics: Categorical Variables or Features\n",
        "\n",
        "#### Count | Frequency Statistics\n",
        "\n",
        "Variable Distribution:\n",
        "\n",
        "The dataset encompasses a broad range of categorical variables, including \"Year,\" \"Make,\" \"Model,\" \"Trim,\" \"Body,\" \"Transmission,\" \"State,\" \"Color,\" \"Interior,\" and \"Seller.\"\n",
        "Each categorical variable has multiple categories, as indicated by the numerous entries for each variable in the statistics.\n",
        "Year Distribution:\n",
        "\n",
        "The \"Year\" variable demonstrates the distribution of vehicles across different years.\n",
        "\n",
        "The most prevalent years appear to be 2012, 2013, and 2014, each contributing a substantial proportion of the dataset. These years collectively constitute a significant portion of the dataset, highlighting the prevalence of vehicles from this time period.\n",
        "\n",
        "**Make, Model, and Trim Distribution:**\n",
        "\n",
        "The \"Make,\" \"Model,\" and \"Trim\" variables showcase the diversity of vehicle manufacturers, models, and trims represented in the dataset.\n",
        "\n",
        "Each category within these variables contributes to the overall distribution, with some categories being more prevalent than others. This diversity underscores the variety of vehicles included in the dataset.\n",
        "Seller Distribution:\n",
        "\n",
        "The \"Seller\" variable reflects the various entities or individuals involved in selling vehicles.\n",
        "While some sellers appear frequently in the dataset, there are also numerous sellers with fewer entries. This indicates a wide array of sellers contributing to the dataset, ranging from large dealerships to individual sellers.\n",
        "\n",
        "**Frequency Analysis:**\n",
        "\n",
        "The frequency column provides insights into the relative occurrence of each category within a variable.\n",
        "Categories with higher frequencies represent a larger proportion of the dataset, indicating their prevalence.\n",
        "Conversely, categories with lower frequencies occur less frequently and may represent niche segments within the dataset.\n",
        "\n",
        ">Overall, these count and frequency statistics offer valuable insights into the distribution and prevalence of categorical variables within the dataset. Understanding these distributions is crucial for subsequent analysis, such as segmentation or predictive modeling, as it informs decisions regarding variable selection and model building strategies.\n",
        "\n",
        "\n",
        "\n",
        "2.3.1.2. Proportion (Relative Frequency) Statistics\n",
        "2.3.2. Descriptive Statistics: Non-Categorical Variables or Features\n",
        "2.3.2.1. Measures of Central Tendency\n",
        "2.3.2.2. Measures of Dispersion\n",
        "2.3.2.3. Correlation Statistics (with Test of Correlation)\n",
        "\n",
        "### Descriptive Statistics: Non-Categorical Variables or Features\n",
        "\n",
        "#### Measures of Central Tendency\n",
        "\n",
        "**Condition:**\n",
        "\n",
        "Mean: The average condition score of the vehicles in the dataset is approximately 30.67.\n",
        "\n",
        "Median: The median condition score is 35.0, indicating that half of the vehicles have a condition score lower than or equal to 35, and the other half have a score higher than 35.\n",
        "\n",
        "Mode: The most common condition score is 19.0, suggesting that this value occurs most frequently in the dataset.\n",
        "\n",
        "**Odometer:**\n",
        "\n",
        "Mean: The average odometer reading for the vehicles is around 68,320 miles.\n",
        "\n",
        "Median: The median odometer reading is 52,254 miles, indicating that half of the vehicles have an odometer reading lower than or equal to 52,254 miles, and the other half have a reading higher than 52,254 miles.\n",
        "\n",
        "Mode: The mode of the odometer readings is 1.0, which is likely a representation of low or missing values rather than an accurate measurement.\n",
        "\n",
        "**MMR (Manheim Market Report):**\n",
        "\n",
        "Mean: The average MMR value for the vehicles is approximately $13,769.38.\n",
        "\n",
        "Median: The median MMR value is $12250,\n",
        "indicating that half of the vehicles have an MMR value lower than or equal to $12,250.0, and the other half have a value higher than $12,250.0.\n",
        "\n",
        "Mode: The mode of the MMR values is $12,500.0, which suggests that this price occurs most frequently in the dataset.\n",
        "\n",
        "**Selling Price:**\n",
        "\n",
        "Mean: The average selling price of the vehicles is approximately $13,611.36.\n",
        "\n",
        "Median: The median selling price is $12,100.0, indicating that half of the vehicles were sold for a price lower than or equal to $12,100.0, and the other half were sold for a price higher than $12,100.0.\n",
        "\n",
        "Mode: The most common selling price is $11,000.0, suggesting that this price occurs most frequently in the dataset.\n",
        "\n",
        ">Overall, these measures provide insight into the typical values and distribution of the key variables in the dataset, which can be valuable for understanding the characteristics of the vehicles and making informed decisions in the automotive industry.\n",
        "\n",
        "####Measures of Dispersion\n",
        "\n",
        "**Condition:**\n",
        "\n",
        "Standard Deviation: The condition scores of the vehicles have a standard deviation of approximately 13.40. This indicates that the condition scores vary moderately around the mean.\n",
        "\n",
        "Range: The range of condition scores is from 0 to 48. This suggests that the condition scores span a wide range of values, indicating diversity in the condition of the vehicles.\n",
        "\n",
        "**Odometer:**\n",
        "\n",
        "Standard Deviation: The odometer readings have a relatively high standard deviation of approximately 53,398.54. This indicates a considerable amount of variability in the mileage of the vehicles.\n",
        "\n",
        "Range: The range of odometer readings is from 1 mile to 999,998 miles. This wide range suggests that the mileage of the vehicles in the dataset varies significantly.\n",
        "\n",
        "**MMR (Manheim Market Report):**\n",
        "\n",
        "Standard Deviation: The MMR values have a standard deviation of approximately 9,679.97. This indicates a notable degree of variability in the market prices of the vehicles.\n",
        "\n",
        "Range: The range of MMR values is from $0 to $181,975. This wide range suggests considerable diversity in the market prices of the vehicles.\n",
        "\n",
        "**Selling Price:**\n",
        "\n",
        "Standard Deviation: The selling prices of the vehicles have a standard deviation of approximately $9,749.50. This suggests a considerable amount of variability in the selling prices.\n",
        "\n",
        "Range: The range of selling prices is from $0 to $229,999. This wide range indicates significant variability in the selling prices of the vehicles.\n",
        "\n",
        ">These measures of dispersion provide valuable insights into the variability and spread of the key variables in the dataset, which can aid in understanding the distribution and characteristics of the vehicles and making informed decisions in the automotive industry.\n",
        "\n",
        "#### Correlation Statistics (with Test of Correlation)\n",
        "\n",
        "**Condition vs. Odometer:**\n",
        "\n",
        "There is a moderate negative correlation (-0.318) between the condition of the vehicle and its odometer reading.\n",
        "This suggests that as the odometer reading (mileage) increases, the condition tends to decrease slightly. However, the correlation is not very strong.\n",
        "\n",
        "**Condition vs. MMR (Manheim Market Report):**\n",
        "\n",
        "There is a weak positive correlation (0.281) between the condition of the vehicle and its Manheim Market Report (MMR) value.\n",
        "\n",
        "This indicates that vehicles with better condition may tend to have slightly higher MMR values, but the correlation is not very strong.\n",
        "\n",
        "**Condition vs. Selling Price:**\n",
        "\n",
        "There is a moderate positive correlation (0.322) between the condition of the vehicle and its selling price.\n",
        "\n",
        "This suggests that vehicles with better condition tend to have slightly higher selling prices, but again, the correlation is not very strong.\n",
        "\n",
        "**Odometer vs. MMR:**\n",
        "\n",
        "There is a strong negative correlation (-0.583) between the odometer reading (mileage) and the Manheim Market Report (MMR) value.\n",
        "This indicates that vehicles with higher mileage tend to have lower MMR values.\n",
        "\n",
        "**Odometer vs. Selling Price:**\n",
        "\n",
        "There is a strong negative correlation (-0.578) between the odometer reading (mileage) and the selling price.\n",
        "\n",
        "This suggests that vehicles with higher mileage tend to have lower selling prices.\n",
        "\n",
        "**MMR vs. Selling Price:**\n",
        "\n",
        "There is a very strong positive correlation (0.984) between the Manheim Market Report (MMR) value and the selling price.\n",
        "\n",
        "This indicates that there is a highly linear relationship between the MMR value and the selling price, with higher MMR values corresponding to significantly higher selling prices.\n",
        "\n",
        ">In summary, the correlation matrix reveals valuable insights into the relationships between different variables, providing useful information for decision-making processes related to vehicle pricing and condition assessment.\n",
        "\n",
        "\n"
      ],
      "metadata": {
        "id": "E_al6A7OqgLx"
      }
    },
    {
      "cell_type": "markdown",
      "source": [
        "# Analysis of Data\n",
        "\n",
        "## Data Pre-Processing\n",
        "\n",
        "###  Missing Data Statistics: Records\n",
        "\n",
        "The dataset was analyzed to identify missing values across various variables. The following summary provides insights into the extent of missing data:\n",
        "\n",
        "* Index: No missing values were observed for the index variable, indicating completeness in indexing.\n",
        "* Year: Complete data was observed for the year variable, with no missing values.\n",
        "* Make: 1644 entries had missing values for the make variable, suggesting incomplete information regarding the vehicle manufacturer.\n",
        "* Model: 1672 entries lacked information regarding the vehicle model, indicating incomplete model specifications.\n",
        "* Trim: 1973 entries were missing trim details, potentially impacting the granularity of vehicle categorization.\n",
        "* Body: A considerable number of entries (4517) lacked information on the body type of vehicles, suggesting incomplete characterization of vehicle configurations.\n",
        "* Transmission: A significant portion of the dataset (20266 entries) had missing transmission information, potentially affecting analyses related to drivetrain specifications.\n",
        "* VIN: No missing values were observed for the Vehicle Identification Number (VIN) variable, indicating comprehensive identification data.\n",
        "* State: One entry lacked information regarding the state of vehicle registration.\n",
        "* Condition: 11793 entries were missing condition ratings, indicating incomplete assessments of vehicle condition.\n",
        "* Odometer: 79 entries had missing odometer readings, potentially affecting analyses related to vehicle mileage.\n",
        "* Color: 283 entries lacked information regarding vehicle exterior color.\n",
        "* Interior: 283 entries were missing details about vehicle interior color, potentially impacting analyses related to interior specifications.\n",
        "* Seller: One entry lacked seller information.\n",
        "* MMR: One entry was missing Manheim Market Report (MMR) values, which estimate vehicle market values.\n",
        "* Selling Price: One entry was missing selling price information.\n",
        "* Sale Date: One entry lacked information regarding the date of sale.\n",
        "\n",
        "This comprehensive overview of missing data highlights potential gaps in the dataset and underscores the importance of addressing missing values to ensure the reliability and validity of subsequent analyses and insights derived from the data.\n",
        "\n",
        "> The output indicates the top 5 records with the highest number of missing values:\n",
        "\n",
        "* Record 172840: This record has 9 missing values across different variables.\n",
        "\n",
        "* Record 22530: This record exhibits 8 missing values, indicating incomplete information for multiple variables.\n",
        "\n",
        "* Record 30006: Similar to the previous record, this one also contains 8 missing values across various variables.\n",
        "\n",
        "* Record 109985: With 7 missing values, this record lacks information for several attributes.\n",
        "\n",
        "* Record 18638: This record has 6 missing values, suggesting partial data availability for several variables.\n",
        "\n",
        "These records with a high number of missing values may require special attention during data analysis and preprocessing to ensure the integrity and reliability of subsequent analyses and insights derived from the dataset.\n",
        "\n",
        "### Missing Data Treatment : categorical Variable\n",
        "\n",
        "The dataset contains 199,415 entries and 11 columns, all of which are categorical variables.\n",
        "\n",
        "Each column represents a different attribute related to vehicle listings, such as year, make, model, trim, etc.\n",
        "The data types for all columns are 'object', indicating categorical variables.\n",
        "\n",
        "**Missing Data Imputation:**\n",
        "\n",
        "The missing data imputation process was performed using the SimpleImputer from scikit-learn library, with the strategy set to 'most_frequent'.\n",
        "\n",
        "This strategy replaces missing values with the most frequent value along each column.\n",
        "\n",
        "As a result, all missing values in the dataset were filled in, ensuring that there are no longer any missing values.\n",
        "Imputed Dataset:\n",
        "\n",
        "The imputed dataset, named df_cat_mdi, contains no missing values, as indicated by the 'Non-Null Count' for each column.\n",
        "\n",
        "All columns now have 199,415 non-null entries, indicating that missing values have been successfully imputed.\n",
        "\n",
        "**Memory Usage:**\n",
        "\n",
        "The memory usage for the imputed dataset is approximately 16.7 MB, indicating that the dataset is manageable and should not pose any memory-related issues during analysis.\n",
        "\n",
        ">In conclusion, the missing categorical data imputation process was successful, resulting in a complete dataset ready for further analysis. This ensures that our analysis is based on a comprehensive dataset without any missing values, enabling more accurate insights and decision-making.\n",
        "\n",
        "### Missing Data Treatment : Non Categorical Variable\n",
        "\n",
        "The dataset contains 199,415 entries and 5 columns, all of which are non-categorical variables.\n",
        "Each column represents a different numerical attribute related to vehicle listings, such as condition, odometer reading, minimum market retail (MMR) value, selling price, and an index.\n",
        "\n",
        "The data types for all columns are 'float64', indicating numerical variables.\n",
        "\n",
        "**Missing Data Imputation:**\n",
        "\n",
        "The missing data imputation process was performed using the SimpleImputer from scikit-learn library, with the strategy set to 'mean'.\n",
        "\n",
        "This strategy replaces missing values with the mean value along each column.\n",
        "\n",
        "As a result, all missing values in the dataset were filled in, ensuring that there are no longer any missing values.\n",
        "\n",
        "**Imputed Dataset:**\n",
        "\n",
        "The imputed dataset, named df_noncat_mdi_si, contains no missing values, as indicated by the 'Non-Null Count' for each column.\n",
        "\n",
        "All columns now have 199,415 non-null entries, indicating that missing values have been successfully imputed.\n",
        "\n",
        "**Memory Usage:**\n",
        "\n",
        "The memory usage for the imputed dataset is approximately 7.6 MB, indicating that the dataset is manageable and should not pose any memory-related issues during analysis.\n",
        "\n",
        ">In conclusion, the missing non-categorical data imputation process was successful, resulting in a complete dataset ready for further analysis. This ensures that our analysis is based on a comprehensive dataset without any missing values, enabling more accurate insights and decision-making.\n"
      ],
      "metadata": {
        "id": "wea7AtJ0qGh3"
      }
    },
    {
      "cell_type": "markdown",
      "source": [
        "## Numerical Encoding of Categorical Variables or Features\n",
        "\n",
        "**Ordinal Encoding**\n",
        "\n",
        "\n",
        "I applied ordinal encoding to the categorical features of the dataset using the OrdinalEncoder from scikit-learn. This encoding technique transforms categorical variables into numerical values, representing the order or rank of the categories.\n",
        "\n",
        "After fitting the encoder to the categorical data, I created a new DataFrame, df_cat_code_oe, to store the encoded values. Each categorical feature was encoded separately, and the column names were updated to reflect the encoding.\n",
        "\n",
        "To reintegrate the encoded categorical features into the original DataFrame, df_cat, I merged df_cat_code_oe with the original DataFrame using the concat function along the columns axis.\n",
        "\n",
        "This transformation enhances the data's analytical potential, particularly in the context of vehicle market segment analysis. The encoded categorical features offer a numerical representation of the categorical variables, facilitating various analytical techniques and models to uncover patterns, trends, and insights within the vehicle market segments.\n",
        "\n",
        "### Outlier Statistics and Treatment (Scaling | Transformation)\n",
        "\n",
        "To gain insights into the vehicle market segments, I utilized box plots to visually represent the distribution of key numerical features related to vehicle attributes and pricing. These features include 'condition', 'odometer', 'mmr' (Market Match Report), 'sellingprice', and 'index'.\n",
        "\n",
        "The analysis of the box plots provided valuable insights:\n",
        "\n",
        "* The 'condition' feature's box plot offered a comprehensive view of the distribution of vehicle conditions, allowing assessment of overall quality and condition.\n",
        "* The 'odometer' feature, reflecting vehicle mileage, displayed a range of mileage values, providing insights into vehicle usage and wear.\n",
        "* Examination of the 'mmr' feature, estimating market value, revealed potential outliers or discrepancies in market values, offering pricing insights.\n",
        "* Analysis of the 'sellingprice' feature through the box plot allowed for the evaluation of selling price distribution and identification of pricing trends or outliers.\n",
        "* Inclusion of the 'index' feature in the box plot provided insights into its distribution and variability, aiding in understanding potential indexing or identification patterns.\n",
        "\n",
        "By visually exploring these numerical features using box plots, I identified outliers, trends, and patterns within the dataset. These insights are crucial for informing strategic decisions related to pricing, marketing, and inventory management within the vehicle market segments.\n",
        "\n"
      ],
      "metadata": {
        "id": "4pyXd0VDp8ef"
      }
    },
    {
      "cell_type": "markdown",
      "source": [
        "## Normalization\n",
        "\n",
        "Normalization Technique:\n",
        "\n",
        "Min-Max Scaling is a popular normalization technique used to transform numerical features to a common scale, typically between 0 and 1.\n",
        "\n",
        "This technique preserves the shape of the original distribution while bringing all features to the same scale.\n",
        "Implementation Details:\n",
        "\n",
        "Min-Max Scaling was applied to the non-categorical dataset, which includes attributes such as condition, odometer reading, minimum market retail (MMR) value, and selling price.\n",
        "\n",
        "The MinMaxScaler from scikit-learn library was used to perform the normalization.\n",
        "\n",
        "The resulting normalized features are labeled as 'condition_mms', 'odometer_mms', 'mmr_mms', and 'sellingprice_mms'.\n",
        "\n",
        "**Normalized Dataset:**\n",
        "\n",
        "The resulting normalized dataset, named df_noncat_mdt_mmn, contains 558,837 entries and 8 columns.\n",
        "\n",
        "Each column represents either the original numerical feature or its corresponding Min-Max scaled version.\n",
        "\n",
        "The normalized features now range between 0 and 1, making them suitable for machine learning algorithms that require standardized input.\n",
        "Analysis:\n",
        "\n",
        "Normalization ensures that all features contribute equally to the analysis, preventing attributes with larger scales from dominating the model training process.\n",
        "By bringing all features to a common scale, Min-Max Scaling facilitates easier interpretation and comparison of feature importance.\n",
        "\n",
        "Normalization enhances the convergence speed and performance of machine learning algorithms, particularly those sensitive to feature scales, such as K-means clustering or gradient descent-based optimization algorithms.\n",
        "\n",
        ">In summary, the application of Min-Max Scaling successfully normalized the non-categorical dataset, enabling more robust and effective analysis in subsequent modeling tasks.\n",
        "\n"
      ],
      "metadata": {
        "id": "JkM39AkJp1qp"
      }
    },
    {
      "cell_type": "markdown",
      "source": [
        "#  Project Objectives | Problem Statements\n",
        "\n",
        "## PO1 | PS1: Classification of Consumer Data into {Segments | Clusters | Classes} using Cross-Validation\n",
        "\n",
        "###Objective:\n",
        "Develop a classification model to categorize consumer data into distinct segments.\n",
        "\n",
        "###Problem Statement:\n",
        "Design and implement a classification algorithm that accurately assigns consumer data points to predefined segments using cross-validation techniques to ensure robustness and generalization.\n",
        "\n",
        "\n",
        "## Analysis of Cross Validation Metrics\n",
        "\n",
        "### Cross-Validation Scores:\n",
        "The cross-validation scores represent the performance of the classification model across multiple iterations of training and testing on different subsets of the dataset. The scores range from approximately 0.348 to 0.398, with an average score of approximately 0.374. These scores indicate the variability in model performance across different subsets and provide insights into the robustness and generalization capability of the model.\n",
        "\n",
        "### F1 Score:\n",
        "The F1 score is a metric that combines precision and recall, providing a balanced measure of the model's accuracy, particularly in the case of imbalanced datasets. The computed F1 score is approximately 0.294, indicating moderate performance in correctly classifying the target variable. This score suggests that the model achieves a reasonable balance between precision and recall, although there is room for improvement.\n",
        "\n",
        "### Weighted F1 Score:\n",
        "The weighted F1 score accounts for class imbalance by calculating the average F1 score weighted by the number of instances for each class. The computed weighted F1 score is approximately 0.306, which is slightly higher than the unweighted F1 score. This suggests that the model performs better when considering class imbalance, indicating its effectiveness in handling unevenly distributed classes.\n",
        "\n",
        "### Interpretation and Implications\n",
        "\n",
        "The cross-validation scores provide an indication of the model's consistency and generalization ability across different subsets of the dataset. The average score of approximately 0.374 suggests that the model performs reasonably well in classifying consumer data into segments, although there may be variability in performance across different subsets.\n",
        "\n",
        "The computed F1 score and weighted F1 score indicate the model's overall accuracy in classifying consumer data. While the F1 score suggests moderate performance, the weighted F1 score accounts for class imbalance and provides a more comprehensive assessment of the model's effectiveness.\n",
        "\n",
        "###Cross-Validation:\n",
        "**Mean CV Score**: The average cross-validation score is approximately 0.425, which is slightly higher than the accuracy achieved on the testing set. Cross-validation provides a more reliable estimate of the model's performance on unseen data compared to a single train-test split.\n",
        "\n",
        "###Recommendations\n",
        "\n",
        "Based on the analysis, it is recommended to further investigate and fine-tune the classification model to improve its performance. This could involve experimenting with different algorithms, adjusting model parameters, and conducting feature engineering to enhance the model's predictive capabilities. Additionally, collecting more data or addressing class imbalance through techniques such as resampling or adjusting class weights may further improve model accuracy and robustness.\n",
        "\n",
        "\n",
        "This analysis provides insights into the performance of the classification model and its implications for segmenting consumer data, which can be included in your report to highlight the model's strengths, areas for improvement, and recommendations for future work.\n"
      ],
      "metadata": {
        "id": "93bhuXGSn6ZI"
      }
    },
    {
      "cell_type": "markdown",
      "source": [
        "\n",
        "##1.2. PO2 | PS2: Classification of Consumer Data into {Segments | Clusters | Classes} using Ensemble Methods\n",
        "\n",
        "###Random Forest Classifier Performance:\n",
        "\n",
        "The RandomForestClassifier is a machine learning algorithm used for classification tasks, particularly in scenarios where there are multiple classes or categories to predict. It is based on the ensemble learning technique known as Random Forest, which builds multiple decision trees during training and merges their predictions to improve accuracy and robustness.\n",
        "\n",
        "Here's a breakdown of the parameters used in the RandomForestClassifier:\n",
        "\n",
        "1. **n_estimators:** This parameter specifies the number of decision trees to be created in the random forest. In the provided code, `n_estimators=20` indicates that the random forest will consist of 20 decision trees.\n",
        "\n",
        "2. **random_state:** This parameter is used to set the seed for random number generation in the algorithm. Setting a random state ensures reproducibility of results. In the provided code, `random_state=45024` sets the seed for random number generation to the value 45024.\n",
        "\n",
        "By using the RandomForestClassifier with these specified parameters, you're essentially creating an ensemble of decision trees (20 trees in this case) that will collectively make predictions on the target variable. This ensemble approach often results in more accurate and stable predictions compared to individual decision trees, making Random Forest a popular choice for various classification tasks in machine learning.\n",
        "\n",
        "###Training Set:\n",
        "\n",
        "In the training set evaluation provided for the Random Forest classifier, the following metrics are used to assess its performance:\n",
        "\n",
        "1. **Precision:**\n",
        "   - For class 0.0: Precision is 1.00, indicating that all instances predicted as class 0.0 were actually of class 0.0.\n",
        "   - For class 2.0: Precision is 1.00, indicating that all instances predicted as class 2.0 were actually of class 2.0.\n",
        "   - For class 3.0: Precision is 1.00, indicating that all instances predicted as class 3.0 were actually of class 3.0.\n",
        "\n",
        "2. **Recall:**\n",
        "   - For class 0.0: Recall is 1.00, indicating that the model correctly identified 100% of all instances belonging to class 0.0.\n",
        "   - For class 2.0: Recall is 1.00, indicating that the model correctly identified 100% of all instances belonging to class 2.0.\n",
        "   - For class 3.0: Recall is 1.00, indicating that the model correctly identified 100% of all instances belonging to class 3.0.\n",
        "\n",
        "3. **F1-Score:**\n",
        "   - The F1-score is the harmonic mean of precision and recall and provides a balance between the two metrics.\n",
        "   - For class 0.0: F1-score is 1.00, representing the overall accuracy of the classifier in predicting class 0.0.\n",
        "   - For class 2.0: F1-score is 1.00, indicating the overall accuracy of the classifier in predicting class 2.0.\n",
        "   - For class 3.0: F1-score is 1.00, representing the overall accuracy of the classifier in predicting class 3.0.\n",
        "\n",
        "4. **Accuracy:**\n",
        "   - The overall accuracy of the classifier is 1.00, meaning that it correctly predicted the class label for 100% of all instances in the training set.\n",
        "\n",
        "In summary, the Random Forest classifier achieved perfect performance on the training set, with precision, recall, and F1-scores of 1.00 for all classes, indicating that the model was able to perfectly classify all instances into their respective categories.\n",
        "\n",
        "###Testing Set:\n",
        "In the testing set evaluation provided for the Random Forest classifier, several metrics are used to assess its performance:\n",
        "\n",
        "1. **Precision:**\n",
        "   - For class 0.0: Precision is 0.41, indicating that among all the instances predicted as class 0.0, 41% were actually of class 0.0.\n",
        "   - For class 2.0: Precision is 0.43, suggesting that 43% of the instances predicted as class 2.0 were actually of class 2.0.\n",
        "   - For class 3.0: Precision is 0.46, meaning that 46% of the instances predicted as class 3.0 were truly of class 3.0.\n",
        "\n",
        "2. **Recall:**\n",
        "   - For class 0.0: Recall is 0.41, indicating that the model correctly identified 41% of all instances belonging to class 0.0.\n",
        "   - For class 2.0: Recall is 0.44, indicating that the model correctly identified 44% of all instances belonging to class 2.0.\n",
        "   - For class 3.0: Recall is 0.45, indicating that the model correctly identified 45% of all instances belonging to class 3.0.\n",
        "\n",
        "3. **F1-Score:**\n",
        "   - The F1-score is the harmonic mean of precision and recall and provides a balance between the two metrics.\n",
        "   - For class 0.0: F1-score is 0.41, representing the overall accuracy of the classifier in predicting class 0.0.\n",
        "   - For class 2.0: F1-score is 0.43, indicating the overall accuracy of the classifier in predicting class 2.0.\n",
        "   - For class 3.0: F1-score is 0.46, representing the overall accuracy of the classifier in predicting class 3.0.\n",
        "\n",
        "4. **Accuracy:**\n",
        "   - The overall accuracy of the classifier is 0.43, meaning that it correctly predicted the class label for 43% of all instances in the testing set.\n",
        "\n",
        "In summary, while the precision, recall, and F1-scores are relatively balanced across the different classes, the overall accuracy of the Random Forest classifier on the testing set is 43%, suggesting moderate performance in classifying instances into their respective categories.\n",
        "\n",
        "\n"
      ],
      "metadata": {
        "id": "cySXKNGon8gG"
      }
    },
    {
      "cell_type": "markdown",
      "source": [
        "\n",
        "##1.3. PO3 | PS3: Determination of an Appropriate Classification Model (Default vs Cross-Validation or Ensemble)\n",
        "\n",
        "###Analysis and Recommendations:\n",
        "\n",
        "Comparing the performance metrics of the Random Forest classifier and the Decision Tree classifier on the testing set provides insights into their effectiveness in predicting consumer data segments.\n",
        "\n",
        "## Random Forest vs. Decision Tree:\n",
        "\n",
        "### Random Forest:\n",
        "- **Accuracy:** The Random Forest classifier achieves an accuracy of approximately 0.43 on the testing set.\n",
        "- **Precision:** Precision values for each class range from 0.41 to 0.46, indicating the proportion of correctly predicted instances among those predicted as belonging to a particular class.\n",
        "- **Recall:** Recall values range from 0.41 to 0.46, representing the proportion of correctly predicted instances among all actual instances of a class.\n",
        "- **F1-Score:** F1-scores range from 0.41 to 0.46, which is the harmonic mean of precision and recall, providing a balanced measure of a model's performance.\n",
        "\n",
        "### Decision Tree:\n",
        "- **Accuracy:** The Decision Tree classifier achieves an accuracy of approximately 0.38 on the testing set, which is lower than that of the Random Forest.\n",
        "- **Precision:** Precision values vary, with class 0.0 having a precision of 0.00, indicating poor performance in predicting this class.\n",
        "- **Recall:** Recall values range from 0.41 to 0.68, with varying performance across different classes.\n",
        "- **F1-Score:** F1-scores range from 0.00 to 0.48, reflecting the balance between precision and recall, with varying effectiveness across different classes.\n",
        "\n",
        "## Analysis and Recommendations:\n",
        "\n",
        "Based on the comparison of performance metrics:\n",
        "- The Random Forest classifier demonstrates superior performance compared to the Decision Tree classifier on the testing set.\n",
        "- The Random Forest model exhibits higher accuracy, precision, recall, and F1-scores across all classes, indicating better predictive power and generalization ability.\n",
        "- The Decision Tree model shows deficiencies, particularly in predicting class 0.0, where it achieves a precision of 0.00, suggesting significant misclassifications.\n",
        "\n",
        "## Conclusion:\n",
        "\n",
        "In conclusion, the Random Forest algorithm outperforms the Decision Tree algorithm in predicting consumer data segments based on the testing set performance. Therefore, for accurate and reliable predictions, I recommend utilizing the Random Forest classifier for segmenting consumer data in your analysis.\n",
        "\n",
        "\n",
        "\n"
      ],
      "metadata": {
        "id": "oe4s1wphn9n6"
      }
    },
    {
      "cell_type": "markdown",
      "source": [
        "##1.4. PO4 | PS4: Identification of Important | Contributing | Significant Variables or Features and their Thresholds for Classification\n",
        "\n",
        "**Objective:**\n",
        "\n",
        "Identify the key variables that significantly influence segment classification decisions.\n",
        "\n",
        "**Problem Statement:**\n",
        "Analyze feature importance and determine their respective thresholds for effective classification, providing insights into the most influential factors driving consumer segmentation.\n",
        "\n",
        "1. Methodology\n",
        "\n",
        "We employed a combination of cross-validation techniques and ensemble methods for segment classification. The dataset was divided into training and testing subsets, and various classification models were trained and evaluated using cross-validation. Additionally, feature importance analysis was conducted to identify the most influential variables for segmentation.\n",
        "\n",
        "2. Results and Analysis\n",
        "\n",
        "The classification models, including Decision Trees and Random Forests, were trained and evaluated using cross-validation techniques. The performance metrics, including accuracy, precision, recall, and F1-score, were calculated for both training and testing subsets. Furthermore, feature importance analysis provided insights into the key variables driving segment classification.\n",
        "\n",
        "> Conclusion\n",
        "\n",
        "Through this project, I have successfully developed and evaluated classification models for segmenting consumer data using cross-validation and ensemble methods. The analysis of feature importance identified significant variables influencing segment classification decisions. These findings can contribute to targeted marketing strategies and personalized customer experiences, ultimately enhancing business outcomes and customer satisfaction.\n",
        "\n",
        ">Recommendations\n",
        "\n",
        "Based on the results and analysis, we recommend further exploration of advanced ensemble methods and feature engineering techniques to improve the accuracy and robustness of segment classification models. Additionally, continuous monitoring and refinement of the classification models are advised to adapt to evolving consumer behaviors and preferences.\n"
      ],
      "metadata": {
        "id": "lugDvAU9ojmJ"
      }
    },
    {
      "cell_type": "markdown",
      "source": [
        "\n",
        "# Mangeigerial Implications\n",
        "\n",
        "1. **Feature Importance**: The Random Forest model identified key features that significantly influence vehicle sales, such as odometer reading, MMR values, selling prices, and seller information. Managers can prioritize these features when analyzing market trends and making pricing decisions.\n",
        "\n",
        "2. **Market Segmentation**: The model's performance on the testing set provides insights into the segmentation of vehicle sales based on various features. By understanding which features contribute most to accurate classification, managers can tailor marketing strategies and product offerings to different customer segments.\n",
        "\n",
        "3. **Predictive Accuracy**: While the model achieved high accuracy on the training set, there was a slight decrease in performance on the testing set. This highlights the importance of regularly evaluating and refining the model to ensure its predictive accuracy remains robust over time.\n",
        "\n",
        "4. **Performance Metrics Alignment**: Depending on the business objectives, managers may need to prioritize specific performance metrics, such as precision, recall, or F1-score. For example, if the goal is to minimize misclassifications of high-value vehicles, precision becomes a critical metric for evaluating model performance.\n",
        "\n",
        "5. **Market Dynamics Analysis**: The model's evaluation metrics offer insights into market dynamics, including customer preferences, pricing trends, and demand fluctuations. Managers can leverage these insights to adapt pricing strategies, optimize inventory management, and capitalize on emerging market opportunities.\n",
        "\n",
        "6. **Continuous Model Improvement**: Given the dynamic nature of the automotive industry, continuous model monitoring and refinement are essential. Managers should establish processes for collecting updated data, fine-tuning model parameters, and exploring alternative algorithms to enhance predictive accuracy and stay ahead of market trends.\n",
        "\n",
        "7. **Integration with Decision-Making Processes**: The insights derived from the model's performance evaluation should inform strategic decision-making processes within the organization. Managers can use the model's predictions and recommendations to optimize pricing strategies, allocate resources effectively, and drive business growth in the competitive automotive market.\n",
        "\n",
        "By leveraging these insights and integrating them into decision-making processes, managers can gain a competitive advantage in the automotive industry by making data-driven decisions that align with market trends and customer preferences."
      ],
      "metadata": {
        "id": "7BMzbtvQolIF"
      }
    },
    {
      "cell_type": "code",
      "execution_count": null,
      "metadata": {
        "id": "5TFJzqQvUaJf"
      },
      "outputs": [],
      "source": [
        "## Data Visualization Libraries\n",
        "import pandas as pd\n",
        "import numpy as np\n",
        "import matplotlib.pyplot as plt\n",
        "import seaborn as sns\n",
        "import plotly.graph_objects as go\n",
        "from wordcloud import WordCloud\n",
        "from collections import Counter\n",
        "from scipy import stats\n",
        "from sklearn.tree import plot_tree\n",
        "import graphviz\n",
        "from IPython.display import display\n",
        "from collections import Counter\n",
        "\n",
        "## Data Preprocessing Libraries\n",
        "from sklearn.preprocessing import OrdinalEncoder\n",
        "from sklearn.impute import SimpleImputer, KNNImputer\n",
        "from sklearn.preprocessing import StandardScaler, MinMaxScaler\n",
        "from sklearn.model_selection import train_test_split, StratifiedShuffleSplit\n",
        "from sklearn.metrics import f1_score\n",
        "from sklearn.tree import export_text\n",
        "\n",
        "## Machine Learning Models and Evaluation Metrics\n",
        "import xgboost as xgb\n",
        "from sklearn.ensemble import RandomForestClassifier\n",
        "from sklearn.utils.validation import column_or_1d\n",
        "from sklearn.metrics import accuracy_score, classification_report, confusion_matrix, f1_score, precision_recall_fscore_support\n",
        "from sklearn.model_selection import cross_val_score\n",
        "from sklearn.linear_model import LogisticRegression, Lasso, Ridge\n",
        "from sklearn.metrics import make_scorer\n",
        "from sklearn.pipeline import make_pipeline\n",
        "from sklearn.tree import export_graphviz"
      ]
    },
    {
      "cell_type": "code",
      "execution_count": null,
      "metadata": {
        "id": "oi5ghd15VDgO"
      },
      "outputs": [],
      "source": [
        "#Display All Columns of Dataset\n",
        "pd.set_option('display.max_columns', None)"
      ]
    },
    {
      "cell_type": "code",
      "execution_count": null,
      "metadata": {
        "id": "ZT5HbDEGVG36",
        "colab": {
          "base_uri": "https://localhost:8080/"
        },
        "outputId": "79cf2aeb-8900-4b90-d8bb-262e05c84f1a"
      },
      "outputs": [
        {
          "output_type": "stream",
          "name": "stdout",
          "text": [
            "Mounted at /content/drive\n"
          ]
        }
      ],
      "source": [
        "from google.colab import drive\n",
        "\n",
        "# Mount Google Drive\n",
        "drive.mount('/content/drive')"
      ]
    },
    {
      "cell_type": "code",
      "execution_count": null,
      "metadata": {
        "id": "Klv_4JVaVZQ1"
      },
      "outputs": [],
      "source": [
        "import pandas as pd\n",
        "\n",
        "# Provide the path to your CSV file\n",
        "file_path = '/content/drive/MyDrive/data.csv'\n",
        "\n",
        "# Read the CSV file into a DataFrame\n",
        "df = pd.read_csv(file_path)"
      ]
    },
    {
      "cell_type": "code",
      "execution_count": null,
      "metadata": {
        "id": "xPFOW7C1d0sX",
        "colab": {
          "base_uri": "https://localhost:8080/"
        },
        "outputId": "9678b9e2-8300-464c-8103-3d46e79edbbf"
      },
      "outputs": [
        {
          "output_type": "stream",
          "name": "stdout",
          "text": [
            "Drive already mounted at /content/drive; to attempt to forcibly remount, call drive.mount(\"/content/drive\", force_remount=True).\n"
          ]
        }
      ],
      "source": [
        "from google.colab import drive\n",
        "drive.mount('/content/drive')"
      ]
    },
    {
      "cell_type": "code",
      "execution_count": null,
      "metadata": {
        "id": "Y2aDXkgHd1O-",
        "colab": {
          "base_uri": "https://localhost:8080/",
          "height": 444
        },
        "outputId": "d1cd9e64-b41d-4596-daa1-9a026fd2ebef"
      },
      "outputs": [
        {
          "output_type": "execute_result",
          "data": {
            "text/plain": [
              "        Index_x_x  year_code  make_code  model_code  trim_code  body_code  \\\n",
              "0               1       33.0       24.0       658.0      998.0       36.0   \n",
              "1               2       33.0       24.0       658.0      998.0       36.0   \n",
              "2               3       32.0        3.0         9.0      283.0       37.0   \n",
              "3               4       33.0       51.0       596.0     1399.0       37.0   \n",
              "4               5       32.0        3.0        42.0      498.0       37.0   \n",
              "...           ...        ...        ...         ...        ...        ...   \n",
              "323357     323358       31.0       19.0        66.0      839.0       37.0   \n",
              "323358     323359       31.0       19.0       236.0      839.0       37.0   \n",
              "323359     323360       31.0       19.0        66.0      839.0       37.0   \n",
              "323360     323361       31.0       19.0        66.0      839.0       37.0   \n",
              "323361     323362       31.0       19.0        66.0      839.0       37.0   \n",
              "\n",
              "        transmission_code  state_code  color_code  interior_code  seller_code  \\\n",
              "0                     1.0        29.0        43.0            1.0       7202.0   \n",
              "1                     1.0        29.0        43.0            0.0       7202.0   \n",
              "2                     1.0        29.0        33.0            1.0       4978.0   \n",
              "3                     1.0        29.0        43.0            1.0      13795.0   \n",
              "4                     1.0        29.0        33.0            1.0       4978.0   \n",
              "...                   ...         ...         ...            ...          ...   \n",
              "323357                1.0        59.0        43.0           13.0       8512.0   \n",
              "323358                1.0        59.0        29.0           13.0       8512.0   \n",
              "323359                1.0        59.0        28.0           13.0       8512.0   \n",
              "323360                1.0        59.0        40.0            6.0       8512.0   \n",
              "323361                1.0        59.0        28.0            0.0       8512.0   \n",
              "\n",
              "        condition  odometer      mmr  sellingprice   Index_y  condition_mms  \\\n",
              "0             5.0   16639.0  20500.0       21500.0       1.0       0.083333   \n",
              "1             5.0    9393.0  20800.0       21500.0       2.0       0.083333   \n",
              "2            45.0    1331.0  31900.0       30000.0       3.0       0.916667   \n",
              "3            41.0   14282.0  27500.0       27750.0       4.0       0.833333   \n",
              "4            43.0    2641.0  66000.0       67000.0       5.0       0.875000   \n",
              "...           ...       ...      ...           ...       ...            ...   \n",
              "323357       41.0   35905.0   9625.0        9600.0  323358.0       0.833333   \n",
              "323358       43.0   24748.0  12000.0       11800.0  323359.0       0.875000   \n",
              "323359       42.0   20151.0  10100.0        9800.0  323360.0       0.854167   \n",
              "323360        4.0   25687.0   9925.0       10100.0  323361.0       0.062500   \n",
              "323361       39.0   24108.0   9975.0        9600.0  323362.0       0.791667   \n",
              "\n",
              "        odometer_mms   mmr_mms  sellingprice_mms  Cluster_Label_x  Index_x_y  \\\n",
              "0           0.016638  0.112515          0.093474              3.0        1.0   \n",
              "1           0.009392  0.114164          0.093474              3.0        2.0   \n",
              "2           0.001330  0.175161          0.130431              3.0        3.0   \n",
              "3           0.014281  0.150982          0.120648              3.0        4.0   \n",
              "4           0.002640  0.362550          0.291301              3.0        5.0   \n",
              "...              ...       ...               ...              ...        ...   \n",
              "323357      0.035904  0.052754          0.041735              0.0   323358.0   \n",
              "323358      0.024747  0.065806          0.051300              0.0   323359.0   \n",
              "323359      0.020150  0.055365          0.042605              0.0   323360.0   \n",
              "323360      0.025686  0.054403          0.043909              0.0   323361.0   \n",
              "323361      0.024107  0.054678          0.041735              0.0   323362.0   \n",
              "\n",
              "        Cluster_Label_y  \n",
              "0                   3.0  \n",
              "1                   3.0  \n",
              "2                   3.0  \n",
              "3                   3.0  \n",
              "4                   3.0  \n",
              "...                 ...  \n",
              "323357              0.0  \n",
              "323358              0.0  \n",
              "323359              0.0  \n",
              "323360              0.0  \n",
              "323361              0.0  \n",
              "\n",
              "[323362 rows x 23 columns]"
            ],
            "text/html": [
              "\n",
              "  <div id=\"df-f0bc8eac-37bc-49b4-9f88-5cbbdceb7500\" class=\"colab-df-container\">\n",
              "    <div>\n",
              "<style scoped>\n",
              "    .dataframe tbody tr th:only-of-type {\n",
              "        vertical-align: middle;\n",
              "    }\n",
              "\n",
              "    .dataframe tbody tr th {\n",
              "        vertical-align: top;\n",
              "    }\n",
              "\n",
              "    .dataframe thead th {\n",
              "        text-align: right;\n",
              "    }\n",
              "</style>\n",
              "<table border=\"1\" class=\"dataframe\">\n",
              "  <thead>\n",
              "    <tr style=\"text-align: right;\">\n",
              "      <th></th>\n",
              "      <th>Index_x_x</th>\n",
              "      <th>year_code</th>\n",
              "      <th>make_code</th>\n",
              "      <th>model_code</th>\n",
              "      <th>trim_code</th>\n",
              "      <th>body_code</th>\n",
              "      <th>transmission_code</th>\n",
              "      <th>state_code</th>\n",
              "      <th>color_code</th>\n",
              "      <th>interior_code</th>\n",
              "      <th>seller_code</th>\n",
              "      <th>condition</th>\n",
              "      <th>odometer</th>\n",
              "      <th>mmr</th>\n",
              "      <th>sellingprice</th>\n",
              "      <th>Index_y</th>\n",
              "      <th>condition_mms</th>\n",
              "      <th>odometer_mms</th>\n",
              "      <th>mmr_mms</th>\n",
              "      <th>sellingprice_mms</th>\n",
              "      <th>Cluster_Label_x</th>\n",
              "      <th>Index_x_y</th>\n",
              "      <th>Cluster_Label_y</th>\n",
              "    </tr>\n",
              "  </thead>\n",
              "  <tbody>\n",
              "    <tr>\n",
              "      <th>0</th>\n",
              "      <td>1</td>\n",
              "      <td>33.0</td>\n",
              "      <td>24.0</td>\n",
              "      <td>658.0</td>\n",
              "      <td>998.0</td>\n",
              "      <td>36.0</td>\n",
              "      <td>1.0</td>\n",
              "      <td>29.0</td>\n",
              "      <td>43.0</td>\n",
              "      <td>1.0</td>\n",
              "      <td>7202.0</td>\n",
              "      <td>5.0</td>\n",
              "      <td>16639.0</td>\n",
              "      <td>20500.0</td>\n",
              "      <td>21500.0</td>\n",
              "      <td>1.0</td>\n",
              "      <td>0.083333</td>\n",
              "      <td>0.016638</td>\n",
              "      <td>0.112515</td>\n",
              "      <td>0.093474</td>\n",
              "      <td>3.0</td>\n",
              "      <td>1.0</td>\n",
              "      <td>3.0</td>\n",
              "    </tr>\n",
              "    <tr>\n",
              "      <th>1</th>\n",
              "      <td>2</td>\n",
              "      <td>33.0</td>\n",
              "      <td>24.0</td>\n",
              "      <td>658.0</td>\n",
              "      <td>998.0</td>\n",
              "      <td>36.0</td>\n",
              "      <td>1.0</td>\n",
              "      <td>29.0</td>\n",
              "      <td>43.0</td>\n",
              "      <td>0.0</td>\n",
              "      <td>7202.0</td>\n",
              "      <td>5.0</td>\n",
              "      <td>9393.0</td>\n",
              "      <td>20800.0</td>\n",
              "      <td>21500.0</td>\n",
              "      <td>2.0</td>\n",
              "      <td>0.083333</td>\n",
              "      <td>0.009392</td>\n",
              "      <td>0.114164</td>\n",
              "      <td>0.093474</td>\n",
              "      <td>3.0</td>\n",
              "      <td>2.0</td>\n",
              "      <td>3.0</td>\n",
              "    </tr>\n",
              "    <tr>\n",
              "      <th>2</th>\n",
              "      <td>3</td>\n",
              "      <td>32.0</td>\n",
              "      <td>3.0</td>\n",
              "      <td>9.0</td>\n",
              "      <td>283.0</td>\n",
              "      <td>37.0</td>\n",
              "      <td>1.0</td>\n",
              "      <td>29.0</td>\n",
              "      <td>33.0</td>\n",
              "      <td>1.0</td>\n",
              "      <td>4978.0</td>\n",
              "      <td>45.0</td>\n",
              "      <td>1331.0</td>\n",
              "      <td>31900.0</td>\n",
              "      <td>30000.0</td>\n",
              "      <td>3.0</td>\n",
              "      <td>0.916667</td>\n",
              "      <td>0.001330</td>\n",
              "      <td>0.175161</td>\n",
              "      <td>0.130431</td>\n",
              "      <td>3.0</td>\n",
              "      <td>3.0</td>\n",
              "      <td>3.0</td>\n",
              "    </tr>\n",
              "    <tr>\n",
              "      <th>3</th>\n",
              "      <td>4</td>\n",
              "      <td>33.0</td>\n",
              "      <td>51.0</td>\n",
              "      <td>596.0</td>\n",
              "      <td>1399.0</td>\n",
              "      <td>37.0</td>\n",
              "      <td>1.0</td>\n",
              "      <td>29.0</td>\n",
              "      <td>43.0</td>\n",
              "      <td>1.0</td>\n",
              "      <td>13795.0</td>\n",
              "      <td>41.0</td>\n",
              "      <td>14282.0</td>\n",
              "      <td>27500.0</td>\n",
              "      <td>27750.0</td>\n",
              "      <td>4.0</td>\n",
              "      <td>0.833333</td>\n",
              "      <td>0.014281</td>\n",
              "      <td>0.150982</td>\n",
              "      <td>0.120648</td>\n",
              "      <td>3.0</td>\n",
              "      <td>4.0</td>\n",
              "      <td>3.0</td>\n",
              "    </tr>\n",
              "    <tr>\n",
              "      <th>4</th>\n",
              "      <td>5</td>\n",
              "      <td>32.0</td>\n",
              "      <td>3.0</td>\n",
              "      <td>42.0</td>\n",
              "      <td>498.0</td>\n",
              "      <td>37.0</td>\n",
              "      <td>1.0</td>\n",
              "      <td>29.0</td>\n",
              "      <td>33.0</td>\n",
              "      <td>1.0</td>\n",
              "      <td>4978.0</td>\n",
              "      <td>43.0</td>\n",
              "      <td>2641.0</td>\n",
              "      <td>66000.0</td>\n",
              "      <td>67000.0</td>\n",
              "      <td>5.0</td>\n",
              "      <td>0.875000</td>\n",
              "      <td>0.002640</td>\n",
              "      <td>0.362550</td>\n",
              "      <td>0.291301</td>\n",
              "      <td>3.0</td>\n",
              "      <td>5.0</td>\n",
              "      <td>3.0</td>\n",
              "    </tr>\n",
              "    <tr>\n",
              "      <th>...</th>\n",
              "      <td>...</td>\n",
              "      <td>...</td>\n",
              "      <td>...</td>\n",
              "      <td>...</td>\n",
              "      <td>...</td>\n",
              "      <td>...</td>\n",
              "      <td>...</td>\n",
              "      <td>...</td>\n",
              "      <td>...</td>\n",
              "      <td>...</td>\n",
              "      <td>...</td>\n",
              "      <td>...</td>\n",
              "      <td>...</td>\n",
              "      <td>...</td>\n",
              "      <td>...</td>\n",
              "      <td>...</td>\n",
              "      <td>...</td>\n",
              "      <td>...</td>\n",
              "      <td>...</td>\n",
              "      <td>...</td>\n",
              "      <td>...</td>\n",
              "      <td>...</td>\n",
              "      <td>...</td>\n",
              "    </tr>\n",
              "    <tr>\n",
              "      <th>323357</th>\n",
              "      <td>323358</td>\n",
              "      <td>31.0</td>\n",
              "      <td>19.0</td>\n",
              "      <td>66.0</td>\n",
              "      <td>839.0</td>\n",
              "      <td>37.0</td>\n",
              "      <td>1.0</td>\n",
              "      <td>59.0</td>\n",
              "      <td>43.0</td>\n",
              "      <td>13.0</td>\n",
              "      <td>8512.0</td>\n",
              "      <td>41.0</td>\n",
              "      <td>35905.0</td>\n",
              "      <td>9625.0</td>\n",
              "      <td>9600.0</td>\n",
              "      <td>323358.0</td>\n",
              "      <td>0.833333</td>\n",
              "      <td>0.035904</td>\n",
              "      <td>0.052754</td>\n",
              "      <td>0.041735</td>\n",
              "      <td>0.0</td>\n",
              "      <td>323358.0</td>\n",
              "      <td>0.0</td>\n",
              "    </tr>\n",
              "    <tr>\n",
              "      <th>323358</th>\n",
              "      <td>323359</td>\n",
              "      <td>31.0</td>\n",
              "      <td>19.0</td>\n",
              "      <td>236.0</td>\n",
              "      <td>839.0</td>\n",
              "      <td>37.0</td>\n",
              "      <td>1.0</td>\n",
              "      <td>59.0</td>\n",
              "      <td>29.0</td>\n",
              "      <td>13.0</td>\n",
              "      <td>8512.0</td>\n",
              "      <td>43.0</td>\n",
              "      <td>24748.0</td>\n",
              "      <td>12000.0</td>\n",
              "      <td>11800.0</td>\n",
              "      <td>323359.0</td>\n",
              "      <td>0.875000</td>\n",
              "      <td>0.024747</td>\n",
              "      <td>0.065806</td>\n",
              "      <td>0.051300</td>\n",
              "      <td>0.0</td>\n",
              "      <td>323359.0</td>\n",
              "      <td>0.0</td>\n",
              "    </tr>\n",
              "    <tr>\n",
              "      <th>323359</th>\n",
              "      <td>323360</td>\n",
              "      <td>31.0</td>\n",
              "      <td>19.0</td>\n",
              "      <td>66.0</td>\n",
              "      <td>839.0</td>\n",
              "      <td>37.0</td>\n",
              "      <td>1.0</td>\n",
              "      <td>59.0</td>\n",
              "      <td>28.0</td>\n",
              "      <td>13.0</td>\n",
              "      <td>8512.0</td>\n",
              "      <td>42.0</td>\n",
              "      <td>20151.0</td>\n",
              "      <td>10100.0</td>\n",
              "      <td>9800.0</td>\n",
              "      <td>323360.0</td>\n",
              "      <td>0.854167</td>\n",
              "      <td>0.020150</td>\n",
              "      <td>0.055365</td>\n",
              "      <td>0.042605</td>\n",
              "      <td>0.0</td>\n",
              "      <td>323360.0</td>\n",
              "      <td>0.0</td>\n",
              "    </tr>\n",
              "    <tr>\n",
              "      <th>323360</th>\n",
              "      <td>323361</td>\n",
              "      <td>31.0</td>\n",
              "      <td>19.0</td>\n",
              "      <td>66.0</td>\n",
              "      <td>839.0</td>\n",
              "      <td>37.0</td>\n",
              "      <td>1.0</td>\n",
              "      <td>59.0</td>\n",
              "      <td>40.0</td>\n",
              "      <td>6.0</td>\n",
              "      <td>8512.0</td>\n",
              "      <td>4.0</td>\n",
              "      <td>25687.0</td>\n",
              "      <td>9925.0</td>\n",
              "      <td>10100.0</td>\n",
              "      <td>323361.0</td>\n",
              "      <td>0.062500</td>\n",
              "      <td>0.025686</td>\n",
              "      <td>0.054403</td>\n",
              "      <td>0.043909</td>\n",
              "      <td>0.0</td>\n",
              "      <td>323361.0</td>\n",
              "      <td>0.0</td>\n",
              "    </tr>\n",
              "    <tr>\n",
              "      <th>323361</th>\n",
              "      <td>323362</td>\n",
              "      <td>31.0</td>\n",
              "      <td>19.0</td>\n",
              "      <td>66.0</td>\n",
              "      <td>839.0</td>\n",
              "      <td>37.0</td>\n",
              "      <td>1.0</td>\n",
              "      <td>59.0</td>\n",
              "      <td>28.0</td>\n",
              "      <td>0.0</td>\n",
              "      <td>8512.0</td>\n",
              "      <td>39.0</td>\n",
              "      <td>24108.0</td>\n",
              "      <td>9975.0</td>\n",
              "      <td>9600.0</td>\n",
              "      <td>323362.0</td>\n",
              "      <td>0.791667</td>\n",
              "      <td>0.024107</td>\n",
              "      <td>0.054678</td>\n",
              "      <td>0.041735</td>\n",
              "      <td>0.0</td>\n",
              "      <td>323362.0</td>\n",
              "      <td>0.0</td>\n",
              "    </tr>\n",
              "  </tbody>\n",
              "</table>\n",
              "<p>323362 rows × 23 columns</p>\n",
              "</div>\n",
              "    <div class=\"colab-df-buttons\">\n",
              "\n",
              "  <div class=\"colab-df-container\">\n",
              "    <button class=\"colab-df-convert\" onclick=\"convertToInteractive('df-f0bc8eac-37bc-49b4-9f88-5cbbdceb7500')\"\n",
              "            title=\"Convert this dataframe to an interactive table.\"\n",
              "            style=\"display:none;\">\n",
              "\n",
              "  <svg xmlns=\"http://www.w3.org/2000/svg\" height=\"24px\" viewBox=\"0 -960 960 960\">\n",
              "    <path d=\"M120-120v-720h720v720H120Zm60-500h600v-160H180v160Zm220 220h160v-160H400v160Zm0 220h160v-160H400v160ZM180-400h160v-160H180v160Zm440 0h160v-160H620v160ZM180-180h160v-160H180v160Zm440 0h160v-160H620v160Z\"/>\n",
              "  </svg>\n",
              "    </button>\n",
              "\n",
              "  <style>\n",
              "    .colab-df-container {\n",
              "      display:flex;\n",
              "      gap: 12px;\n",
              "    }\n",
              "\n",
              "    .colab-df-convert {\n",
              "      background-color: #E8F0FE;\n",
              "      border: none;\n",
              "      border-radius: 50%;\n",
              "      cursor: pointer;\n",
              "      display: none;\n",
              "      fill: #1967D2;\n",
              "      height: 32px;\n",
              "      padding: 0 0 0 0;\n",
              "      width: 32px;\n",
              "    }\n",
              "\n",
              "    .colab-df-convert:hover {\n",
              "      background-color: #E2EBFA;\n",
              "      box-shadow: 0px 1px 2px rgba(60, 64, 67, 0.3), 0px 1px 3px 1px rgba(60, 64, 67, 0.15);\n",
              "      fill: #174EA6;\n",
              "    }\n",
              "\n",
              "    .colab-df-buttons div {\n",
              "      margin-bottom: 4px;\n",
              "    }\n",
              "\n",
              "    [theme=dark] .colab-df-convert {\n",
              "      background-color: #3B4455;\n",
              "      fill: #D2E3FC;\n",
              "    }\n",
              "\n",
              "    [theme=dark] .colab-df-convert:hover {\n",
              "      background-color: #434B5C;\n",
              "      box-shadow: 0px 1px 3px 1px rgba(0, 0, 0, 0.15);\n",
              "      filter: drop-shadow(0px 1px 2px rgba(0, 0, 0, 0.3));\n",
              "      fill: #FFFFFF;\n",
              "    }\n",
              "  </style>\n",
              "\n",
              "    <script>\n",
              "      const buttonEl =\n",
              "        document.querySelector('#df-f0bc8eac-37bc-49b4-9f88-5cbbdceb7500 button.colab-df-convert');\n",
              "      buttonEl.style.display =\n",
              "        google.colab.kernel.accessAllowed ? 'block' : 'none';\n",
              "\n",
              "      async function convertToInteractive(key) {\n",
              "        const element = document.querySelector('#df-f0bc8eac-37bc-49b4-9f88-5cbbdceb7500');\n",
              "        const dataTable =\n",
              "          await google.colab.kernel.invokeFunction('convertToInteractive',\n",
              "                                                    [key], {});\n",
              "        if (!dataTable) return;\n",
              "\n",
              "        const docLinkHtml = 'Like what you see? Visit the ' +\n",
              "          '<a target=\"_blank\" href=https://colab.research.google.com/notebooks/data_table.ipynb>data table notebook</a>'\n",
              "          + ' to learn more about interactive tables.';\n",
              "        element.innerHTML = '';\n",
              "        dataTable['output_type'] = 'display_data';\n",
              "        await google.colab.output.renderOutput(dataTable, element);\n",
              "        const docLink = document.createElement('div');\n",
              "        docLink.innerHTML = docLinkHtml;\n",
              "        element.appendChild(docLink);\n",
              "      }\n",
              "    </script>\n",
              "  </div>\n",
              "\n",
              "\n",
              "<div id=\"df-80ec39f2-e309-4973-af2a-d600368d88fe\">\n",
              "  <button class=\"colab-df-quickchart\" onclick=\"quickchart('df-80ec39f2-e309-4973-af2a-d600368d88fe')\"\n",
              "            title=\"Suggest charts\"\n",
              "            style=\"display:none;\">\n",
              "\n",
              "<svg xmlns=\"http://www.w3.org/2000/svg\" height=\"24px\"viewBox=\"0 0 24 24\"\n",
              "     width=\"24px\">\n",
              "    <g>\n",
              "        <path d=\"M19 3H5c-1.1 0-2 .9-2 2v14c0 1.1.9 2 2 2h14c1.1 0 2-.9 2-2V5c0-1.1-.9-2-2-2zM9 17H7v-7h2v7zm4 0h-2V7h2v10zm4 0h-2v-4h2v4z\"/>\n",
              "    </g>\n",
              "</svg>\n",
              "  </button>\n",
              "\n",
              "<style>\n",
              "  .colab-df-quickchart {\n",
              "      --bg-color: #E8F0FE;\n",
              "      --fill-color: #1967D2;\n",
              "      --hover-bg-color: #E2EBFA;\n",
              "      --hover-fill-color: #174EA6;\n",
              "      --disabled-fill-color: #AAA;\n",
              "      --disabled-bg-color: #DDD;\n",
              "  }\n",
              "\n",
              "  [theme=dark] .colab-df-quickchart {\n",
              "      --bg-color: #3B4455;\n",
              "      --fill-color: #D2E3FC;\n",
              "      --hover-bg-color: #434B5C;\n",
              "      --hover-fill-color: #FFFFFF;\n",
              "      --disabled-bg-color: #3B4455;\n",
              "      --disabled-fill-color: #666;\n",
              "  }\n",
              "\n",
              "  .colab-df-quickchart {\n",
              "    background-color: var(--bg-color);\n",
              "    border: none;\n",
              "    border-radius: 50%;\n",
              "    cursor: pointer;\n",
              "    display: none;\n",
              "    fill: var(--fill-color);\n",
              "    height: 32px;\n",
              "    padding: 0;\n",
              "    width: 32px;\n",
              "  }\n",
              "\n",
              "  .colab-df-quickchart:hover {\n",
              "    background-color: var(--hover-bg-color);\n",
              "    box-shadow: 0 1px 2px rgba(60, 64, 67, 0.3), 0 1px 3px 1px rgba(60, 64, 67, 0.15);\n",
              "    fill: var(--button-hover-fill-color);\n",
              "  }\n",
              "\n",
              "  .colab-df-quickchart-complete:disabled,\n",
              "  .colab-df-quickchart-complete:disabled:hover {\n",
              "    background-color: var(--disabled-bg-color);\n",
              "    fill: var(--disabled-fill-color);\n",
              "    box-shadow: none;\n",
              "  }\n",
              "\n",
              "  .colab-df-spinner {\n",
              "    border: 2px solid var(--fill-color);\n",
              "    border-color: transparent;\n",
              "    border-bottom-color: var(--fill-color);\n",
              "    animation:\n",
              "      spin 1s steps(1) infinite;\n",
              "  }\n",
              "\n",
              "  @keyframes spin {\n",
              "    0% {\n",
              "      border-color: transparent;\n",
              "      border-bottom-color: var(--fill-color);\n",
              "      border-left-color: var(--fill-color);\n",
              "    }\n",
              "    20% {\n",
              "      border-color: transparent;\n",
              "      border-left-color: var(--fill-color);\n",
              "      border-top-color: var(--fill-color);\n",
              "    }\n",
              "    30% {\n",
              "      border-color: transparent;\n",
              "      border-left-color: var(--fill-color);\n",
              "      border-top-color: var(--fill-color);\n",
              "      border-right-color: var(--fill-color);\n",
              "    }\n",
              "    40% {\n",
              "      border-color: transparent;\n",
              "      border-right-color: var(--fill-color);\n",
              "      border-top-color: var(--fill-color);\n",
              "    }\n",
              "    60% {\n",
              "      border-color: transparent;\n",
              "      border-right-color: var(--fill-color);\n",
              "    }\n",
              "    80% {\n",
              "      border-color: transparent;\n",
              "      border-right-color: var(--fill-color);\n",
              "      border-bottom-color: var(--fill-color);\n",
              "    }\n",
              "    90% {\n",
              "      border-color: transparent;\n",
              "      border-bottom-color: var(--fill-color);\n",
              "    }\n",
              "  }\n",
              "</style>\n",
              "\n",
              "  <script>\n",
              "    async function quickchart(key) {\n",
              "      const quickchartButtonEl =\n",
              "        document.querySelector('#' + key + ' button');\n",
              "      quickchartButtonEl.disabled = true;  // To prevent multiple clicks.\n",
              "      quickchartButtonEl.classList.add('colab-df-spinner');\n",
              "      try {\n",
              "        const charts = await google.colab.kernel.invokeFunction(\n",
              "            'suggestCharts', [key], {});\n",
              "      } catch (error) {\n",
              "        console.error('Error during call to suggestCharts:', error);\n",
              "      }\n",
              "      quickchartButtonEl.classList.remove('colab-df-spinner');\n",
              "      quickchartButtonEl.classList.add('colab-df-quickchart-complete');\n",
              "    }\n",
              "    (() => {\n",
              "      let quickchartButtonEl =\n",
              "        document.querySelector('#df-80ec39f2-e309-4973-af2a-d600368d88fe button');\n",
              "      quickchartButtonEl.style.display =\n",
              "        google.colab.kernel.accessAllowed ? 'block' : 'none';\n",
              "    })();\n",
              "  </script>\n",
              "</div>\n",
              "    </div>\n",
              "  </div>\n"
            ],
            "application/vnd.google.colaboratory.intrinsic+json": {
              "type": "dataframe",
              "variable_name": "df"
            }
          },
          "metadata": {},
          "execution_count": 7
        }
      ],
      "source": [
        "df = df.drop(df.index[-1])\n",
        "df\n"
      ]
    },
    {
      "cell_type": "code",
      "execution_count": null,
      "metadata": {
        "id": "HtAn8SD2hSCP"
      },
      "outputs": [],
      "source": [
        "df1 = df.copy()"
      ]
    },
    {
      "cell_type": "code",
      "execution_count": null,
      "metadata": {
        "id": "EVHs3kSdi8vX",
        "colab": {
          "base_uri": "https://localhost:8080/"
        },
        "outputId": "f98d725c-6aa1-49d7-8651-b8aaa4c5e7b7"
      },
      "outputs": [
        {
          "output_type": "execute_result",
          "data": {
            "text/plain": [
              "Index(['Index_x_x', 'year_code', 'make_code', 'model_code', 'trim_code',\n",
              "       'body_code', 'transmission_code', 'state_code', 'color_code',\n",
              "       'interior_code', 'seller_code', 'condition', 'odometer', 'mmr',\n",
              "       'sellingprice', 'Index_y', 'condition_mms', 'odometer_mms', 'mmr_mms',\n",
              "       'sellingprice_mms', 'Cluster_Label_x', 'Index_x_y', 'Cluster_Label_y'],\n",
              "      dtype='object')"
            ]
          },
          "metadata": {},
          "execution_count": 9
        }
      ],
      "source": [
        "df1.columns"
      ]
    },
    {
      "cell_type": "code",
      "execution_count": null,
      "metadata": {
        "id": "BbgaLDili23k",
        "colab": {
          "base_uri": "https://localhost:8080/"
        },
        "outputId": "06444580-c48e-48ef-84d9-050a62657994"
      },
      "outputs": [
        {
          "output_type": "execute_result",
          "data": {
            "text/plain": [
              "array(['3.0', '2.0', '0.0'], dtype='<U32')"
            ]
          },
          "metadata": {},
          "execution_count": 10
        }
      ],
      "source": [
        "# Subset df1 based on Inputs as {mpg, hp, cyl, vs} & Output as {am}\n",
        "df1_inputs = df1[['model_code', 'trim_code', 'seller_code', 'odometer', 'mmr',\n",
        "       'sellingprice', 'odometer_mms', 'mmr_mms'\n",
        "       ]]; df1_inputs\n",
        "df1_output = df1[['Cluster_Label_x']]; df1_output\n",
        "\n",
        "df1_inputs_names = df1_inputs.columns; df1_inputs_names\n",
        "df1_output_labels = df1_output['Cluster_Label_x'].unique().astype(str); df1_output_labels"
      ]
    },
    {
      "cell_type": "code",
      "execution_count": null,
      "metadata": {
        "id": "_QxVcwY7jVsV"
      },
      "outputs": [],
      "source": [
        "# Initialize StratifiedShuffleSplit with desired test size and random state\n",
        "stratified_split = StratifiedShuffleSplit(n_splits=1, test_size=0.2, random_state=45024)\n",
        "\n",
        "# Perform the stratified split to get training and testing indices\n",
        "for train_index, test_index in stratified_split.split(df1_inputs, df1_output):\n",
        "    df1_inputs_train, df1_inputs_test = df1_inputs.iloc[train_index], df1_inputs.iloc[test_index]\n",
        "    df1_output_train, df1_output_test = df1_output.iloc[train_index], df1_output.iloc[test_index]\n"
      ]
    },
    {
      "cell_type": "code",
      "source": [
        "from sklearn.tree import DecisionTreeClassifier, export_text, plot_tree"
      ],
      "metadata": {
        "id": "7StR3pLBvkgw"
      },
      "execution_count": null,
      "outputs": []
    },
    {
      "cell_type": "code",
      "execution_count": null,
      "metadata": {
        "id": "Pn_GGgnWjWHl",
        "colab": {
          "base_uri": "https://localhost:8080/",
          "height": 75
        },
        "outputId": "e232f750-d3f1-429b-fef7-a057fb236c02"
      },
      "outputs": [
        {
          "output_type": "execute_result",
          "data": {
            "text/plain": [
              "DecisionTreeClassifier(max_depth=3, random_state=45024)"
            ],
            "text/html": [
              "<style>#sk-container-id-1 {color: black;background-color: white;}#sk-container-id-1 pre{padding: 0;}#sk-container-id-1 div.sk-toggleable {background-color: white;}#sk-container-id-1 label.sk-toggleable__label {cursor: pointer;display: block;width: 100%;margin-bottom: 0;padding: 0.3em;box-sizing: border-box;text-align: center;}#sk-container-id-1 label.sk-toggleable__label-arrow:before {content: \"▸\";float: left;margin-right: 0.25em;color: #696969;}#sk-container-id-1 label.sk-toggleable__label-arrow:hover:before {color: black;}#sk-container-id-1 div.sk-estimator:hover label.sk-toggleable__label-arrow:before {color: black;}#sk-container-id-1 div.sk-toggleable__content {max-height: 0;max-width: 0;overflow: hidden;text-align: left;background-color: #f0f8ff;}#sk-container-id-1 div.sk-toggleable__content pre {margin: 0.2em;color: black;border-radius: 0.25em;background-color: #f0f8ff;}#sk-container-id-1 input.sk-toggleable__control:checked~div.sk-toggleable__content {max-height: 200px;max-width: 100%;overflow: auto;}#sk-container-id-1 input.sk-toggleable__control:checked~label.sk-toggleable__label-arrow:before {content: \"▾\";}#sk-container-id-1 div.sk-estimator input.sk-toggleable__control:checked~label.sk-toggleable__label {background-color: #d4ebff;}#sk-container-id-1 div.sk-label input.sk-toggleable__control:checked~label.sk-toggleable__label {background-color: #d4ebff;}#sk-container-id-1 input.sk-hidden--visually {border: 0;clip: rect(1px 1px 1px 1px);clip: rect(1px, 1px, 1px, 1px);height: 1px;margin: -1px;overflow: hidden;padding: 0;position: absolute;width: 1px;}#sk-container-id-1 div.sk-estimator {font-family: monospace;background-color: #f0f8ff;border: 1px dotted black;border-radius: 0.25em;box-sizing: border-box;margin-bottom: 0.5em;}#sk-container-id-1 div.sk-estimator:hover {background-color: #d4ebff;}#sk-container-id-1 div.sk-parallel-item::after {content: \"\";width: 100%;border-bottom: 1px solid gray;flex-grow: 1;}#sk-container-id-1 div.sk-label:hover label.sk-toggleable__label {background-color: #d4ebff;}#sk-container-id-1 div.sk-serial::before {content: \"\";position: absolute;border-left: 1px solid gray;box-sizing: border-box;top: 0;bottom: 0;left: 50%;z-index: 0;}#sk-container-id-1 div.sk-serial {display: flex;flex-direction: column;align-items: center;background-color: white;padding-right: 0.2em;padding-left: 0.2em;position: relative;}#sk-container-id-1 div.sk-item {position: relative;z-index: 1;}#sk-container-id-1 div.sk-parallel {display: flex;align-items: stretch;justify-content: center;background-color: white;position: relative;}#sk-container-id-1 div.sk-item::before, #sk-container-id-1 div.sk-parallel-item::before {content: \"\";position: absolute;border-left: 1px solid gray;box-sizing: border-box;top: 0;bottom: 0;left: 50%;z-index: -1;}#sk-container-id-1 div.sk-parallel-item {display: flex;flex-direction: column;z-index: 1;position: relative;background-color: white;}#sk-container-id-1 div.sk-parallel-item:first-child::after {align-self: flex-end;width: 50%;}#sk-container-id-1 div.sk-parallel-item:last-child::after {align-self: flex-start;width: 50%;}#sk-container-id-1 div.sk-parallel-item:only-child::after {width: 0;}#sk-container-id-1 div.sk-dashed-wrapped {border: 1px dashed gray;margin: 0 0.4em 0.5em 0.4em;box-sizing: border-box;padding-bottom: 0.4em;background-color: white;}#sk-container-id-1 div.sk-label label {font-family: monospace;font-weight: bold;display: inline-block;line-height: 1.2em;}#sk-container-id-1 div.sk-label-container {text-align: center;}#sk-container-id-1 div.sk-container {/* jupyter's `normalize.less` sets `[hidden] { display: none; }` but bootstrap.min.css set `[hidden] { display: none !important; }` so we also need the `!important` here to be able to override the default hidden behavior on the sphinx rendered scikit-learn.org. See: https://github.com/scikit-learn/scikit-learn/issues/21755 */display: inline-block !important;position: relative;}#sk-container-id-1 div.sk-text-repr-fallback {display: none;}</style><div id=\"sk-container-id-1\" class=\"sk-top-container\"><div class=\"sk-text-repr-fallback\"><pre>DecisionTreeClassifier(max_depth=3, random_state=45024)</pre><b>In a Jupyter environment, please rerun this cell to show the HTML representation or trust the notebook. <br />On GitHub, the HTML representation is unable to render, please try loading this page with nbviewer.org.</b></div><div class=\"sk-container\" hidden><div class=\"sk-item\"><div class=\"sk-estimator sk-toggleable\"><input class=\"sk-toggleable__control sk-hidden--visually\" id=\"sk-estimator-id-1\" type=\"checkbox\" checked><label for=\"sk-estimator-id-1\" class=\"sk-toggleable__label sk-toggleable__label-arrow\">DecisionTreeClassifier</label><div class=\"sk-toggleable__content\"><pre>DecisionTreeClassifier(max_depth=3, random_state=45024)</pre></div></div></div></div></div>"
            ]
          },
          "metadata": {},
          "execution_count": 13
        }
      ],
      "source": [
        "# Decision Tree : Model (Training Subset)\n",
        "dtc = DecisionTreeClassifier(criterion='gini', random_state=45024, max_depth=3) # Other Criteria : Entropy,  Log Loss\n",
        "dtc_model = dtc.fit(df1_inputs_train, df1_output_train); dtc_model"
      ]
    },
    {
      "cell_type": "code",
      "execution_count": null,
      "metadata": {
        "id": "PSpdxhQnj4lW",
        "colab": {
          "base_uri": "https://localhost:8080/"
        },
        "outputId": "6b07b07d-8ff8-4b05-95b6-00e979a937ef"
      },
      "outputs": [
        {
          "output_type": "stream",
          "name": "stdout",
          "text": [
            "|--- model_code <= 779.50\n",
            "|   |--- sellingprice <= 7887.50\n",
            "|   |   |--- sellingprice <= 1875.00\n",
            "|   |   |   |--- class: 3.0\n",
            "|   |   |--- sellingprice >  1875.00\n",
            "|   |   |   |--- class: 3.0\n",
            "|   |--- sellingprice >  7887.50\n",
            "|   |   |--- seller_code <= 831.50\n",
            "|   |   |   |--- class: 3.0\n",
            "|   |   |--- seller_code >  831.50\n",
            "|   |   |   |--- class: 2.0\n",
            "|--- model_code >  779.50\n",
            "|   |--- model_code <= 944.50\n",
            "|   |   |--- odometer_mms <= 0.06\n",
            "|   |   |   |--- class: 3.0\n",
            "|   |   |--- odometer_mms >  0.06\n",
            "|   |   |   |--- class: 3.0\n",
            "|   |--- model_code >  944.50\n",
            "|   |   |--- trim_code <= 532.50\n",
            "|   |   |   |--- class: 3.0\n",
            "|   |   |--- trim_code >  532.50\n",
            "|   |   |   |--- class: 3.0\n",
            "\n"
          ]
        }
      ],
      "source": [
        "# Decision Tree : Model Rules\n",
        "dtc_model_rules = export_text(dtc_model, feature_names = list(df1_inputs_names)); print(dtc_model_rules)"
      ]
    },
    {
      "cell_type": "code",
      "execution_count": null,
      "metadata": {
        "id": "YzNQuXbnj_ok",
        "colab": {
          "base_uri": "https://localhost:8080/",
          "height": 301
        },
        "outputId": "23c36982-4a43-41a7-ee94-e6e259fc1281"
      },
      "outputs": [
        {
          "output_type": "execute_result",
          "data": {
            "text/plain": [
              "        feature  importance\n",
              "0    model_code       0.521\n",
              "5  sellingprice       0.346\n",
              "2   seller_code       0.096\n",
              "6  odometer_mms       0.020\n",
              "1     trim_code       0.018\n",
              "3      odometer       0.000\n",
              "4           mmr       0.000\n",
              "7       mmr_mms       0.000"
            ],
            "text/html": [
              "\n",
              "  <div id=\"df-f9df012b-e062-4961-96ac-95a922b166cb\" class=\"colab-df-container\">\n",
              "    <div>\n",
              "<style scoped>\n",
              "    .dataframe tbody tr th:only-of-type {\n",
              "        vertical-align: middle;\n",
              "    }\n",
              "\n",
              "    .dataframe tbody tr th {\n",
              "        vertical-align: top;\n",
              "    }\n",
              "\n",
              "    .dataframe thead th {\n",
              "        text-align: right;\n",
              "    }\n",
              "</style>\n",
              "<table border=\"1\" class=\"dataframe\">\n",
              "  <thead>\n",
              "    <tr style=\"text-align: right;\">\n",
              "      <th></th>\n",
              "      <th>feature</th>\n",
              "      <th>importance</th>\n",
              "    </tr>\n",
              "  </thead>\n",
              "  <tbody>\n",
              "    <tr>\n",
              "      <th>0</th>\n",
              "      <td>model_code</td>\n",
              "      <td>0.521</td>\n",
              "    </tr>\n",
              "    <tr>\n",
              "      <th>5</th>\n",
              "      <td>sellingprice</td>\n",
              "      <td>0.346</td>\n",
              "    </tr>\n",
              "    <tr>\n",
              "      <th>2</th>\n",
              "      <td>seller_code</td>\n",
              "      <td>0.096</td>\n",
              "    </tr>\n",
              "    <tr>\n",
              "      <th>6</th>\n",
              "      <td>odometer_mms</td>\n",
              "      <td>0.020</td>\n",
              "    </tr>\n",
              "    <tr>\n",
              "      <th>1</th>\n",
              "      <td>trim_code</td>\n",
              "      <td>0.018</td>\n",
              "    </tr>\n",
              "    <tr>\n",
              "      <th>3</th>\n",
              "      <td>odometer</td>\n",
              "      <td>0.000</td>\n",
              "    </tr>\n",
              "    <tr>\n",
              "      <th>4</th>\n",
              "      <td>mmr</td>\n",
              "      <td>0.000</td>\n",
              "    </tr>\n",
              "    <tr>\n",
              "      <th>7</th>\n",
              "      <td>mmr_mms</td>\n",
              "      <td>0.000</td>\n",
              "    </tr>\n",
              "  </tbody>\n",
              "</table>\n",
              "</div>\n",
              "    <div class=\"colab-df-buttons\">\n",
              "\n",
              "  <div class=\"colab-df-container\">\n",
              "    <button class=\"colab-df-convert\" onclick=\"convertToInteractive('df-f9df012b-e062-4961-96ac-95a922b166cb')\"\n",
              "            title=\"Convert this dataframe to an interactive table.\"\n",
              "            style=\"display:none;\">\n",
              "\n",
              "  <svg xmlns=\"http://www.w3.org/2000/svg\" height=\"24px\" viewBox=\"0 -960 960 960\">\n",
              "    <path d=\"M120-120v-720h720v720H120Zm60-500h600v-160H180v160Zm220 220h160v-160H400v160Zm0 220h160v-160H400v160ZM180-400h160v-160H180v160Zm440 0h160v-160H620v160ZM180-180h160v-160H180v160Zm440 0h160v-160H620v160Z\"/>\n",
              "  </svg>\n",
              "    </button>\n",
              "\n",
              "  <style>\n",
              "    .colab-df-container {\n",
              "      display:flex;\n",
              "      gap: 12px;\n",
              "    }\n",
              "\n",
              "    .colab-df-convert {\n",
              "      background-color: #E8F0FE;\n",
              "      border: none;\n",
              "      border-radius: 50%;\n",
              "      cursor: pointer;\n",
              "      display: none;\n",
              "      fill: #1967D2;\n",
              "      height: 32px;\n",
              "      padding: 0 0 0 0;\n",
              "      width: 32px;\n",
              "    }\n",
              "\n",
              "    .colab-df-convert:hover {\n",
              "      background-color: #E2EBFA;\n",
              "      box-shadow: 0px 1px 2px rgba(60, 64, 67, 0.3), 0px 1px 3px 1px rgba(60, 64, 67, 0.15);\n",
              "      fill: #174EA6;\n",
              "    }\n",
              "\n",
              "    .colab-df-buttons div {\n",
              "      margin-bottom: 4px;\n",
              "    }\n",
              "\n",
              "    [theme=dark] .colab-df-convert {\n",
              "      background-color: #3B4455;\n",
              "      fill: #D2E3FC;\n",
              "    }\n",
              "\n",
              "    [theme=dark] .colab-df-convert:hover {\n",
              "      background-color: #434B5C;\n",
              "      box-shadow: 0px 1px 3px 1px rgba(0, 0, 0, 0.15);\n",
              "      filter: drop-shadow(0px 1px 2px rgba(0, 0, 0, 0.3));\n",
              "      fill: #FFFFFF;\n",
              "    }\n",
              "  </style>\n",
              "\n",
              "    <script>\n",
              "      const buttonEl =\n",
              "        document.querySelector('#df-f9df012b-e062-4961-96ac-95a922b166cb button.colab-df-convert');\n",
              "      buttonEl.style.display =\n",
              "        google.colab.kernel.accessAllowed ? 'block' : 'none';\n",
              "\n",
              "      async function convertToInteractive(key) {\n",
              "        const element = document.querySelector('#df-f9df012b-e062-4961-96ac-95a922b166cb');\n",
              "        const dataTable =\n",
              "          await google.colab.kernel.invokeFunction('convertToInteractive',\n",
              "                                                    [key], {});\n",
              "        if (!dataTable) return;\n",
              "\n",
              "        const docLinkHtml = 'Like what you see? Visit the ' +\n",
              "          '<a target=\"_blank\" href=https://colab.research.google.com/notebooks/data_table.ipynb>data table notebook</a>'\n",
              "          + ' to learn more about interactive tables.';\n",
              "        element.innerHTML = '';\n",
              "        dataTable['output_type'] = 'display_data';\n",
              "        await google.colab.output.renderOutput(dataTable, element);\n",
              "        const docLink = document.createElement('div');\n",
              "        docLink.innerHTML = docLinkHtml;\n",
              "        element.appendChild(docLink);\n",
              "      }\n",
              "    </script>\n",
              "  </div>\n",
              "\n",
              "\n",
              "<div id=\"df-47430ae7-d873-4d79-852f-37397c1c55e6\">\n",
              "  <button class=\"colab-df-quickchart\" onclick=\"quickchart('df-47430ae7-d873-4d79-852f-37397c1c55e6')\"\n",
              "            title=\"Suggest charts\"\n",
              "            style=\"display:none;\">\n",
              "\n",
              "<svg xmlns=\"http://www.w3.org/2000/svg\" height=\"24px\"viewBox=\"0 0 24 24\"\n",
              "     width=\"24px\">\n",
              "    <g>\n",
              "        <path d=\"M19 3H5c-1.1 0-2 .9-2 2v14c0 1.1.9 2 2 2h14c1.1 0 2-.9 2-2V5c0-1.1-.9-2-2-2zM9 17H7v-7h2v7zm4 0h-2V7h2v10zm4 0h-2v-4h2v4z\"/>\n",
              "    </g>\n",
              "</svg>\n",
              "  </button>\n",
              "\n",
              "<style>\n",
              "  .colab-df-quickchart {\n",
              "      --bg-color: #E8F0FE;\n",
              "      --fill-color: #1967D2;\n",
              "      --hover-bg-color: #E2EBFA;\n",
              "      --hover-fill-color: #174EA6;\n",
              "      --disabled-fill-color: #AAA;\n",
              "      --disabled-bg-color: #DDD;\n",
              "  }\n",
              "\n",
              "  [theme=dark] .colab-df-quickchart {\n",
              "      --bg-color: #3B4455;\n",
              "      --fill-color: #D2E3FC;\n",
              "      --hover-bg-color: #434B5C;\n",
              "      --hover-fill-color: #FFFFFF;\n",
              "      --disabled-bg-color: #3B4455;\n",
              "      --disabled-fill-color: #666;\n",
              "  }\n",
              "\n",
              "  .colab-df-quickchart {\n",
              "    background-color: var(--bg-color);\n",
              "    border: none;\n",
              "    border-radius: 50%;\n",
              "    cursor: pointer;\n",
              "    display: none;\n",
              "    fill: var(--fill-color);\n",
              "    height: 32px;\n",
              "    padding: 0;\n",
              "    width: 32px;\n",
              "  }\n",
              "\n",
              "  .colab-df-quickchart:hover {\n",
              "    background-color: var(--hover-bg-color);\n",
              "    box-shadow: 0 1px 2px rgba(60, 64, 67, 0.3), 0 1px 3px 1px rgba(60, 64, 67, 0.15);\n",
              "    fill: var(--button-hover-fill-color);\n",
              "  }\n",
              "\n",
              "  .colab-df-quickchart-complete:disabled,\n",
              "  .colab-df-quickchart-complete:disabled:hover {\n",
              "    background-color: var(--disabled-bg-color);\n",
              "    fill: var(--disabled-fill-color);\n",
              "    box-shadow: none;\n",
              "  }\n",
              "\n",
              "  .colab-df-spinner {\n",
              "    border: 2px solid var(--fill-color);\n",
              "    border-color: transparent;\n",
              "    border-bottom-color: var(--fill-color);\n",
              "    animation:\n",
              "      spin 1s steps(1) infinite;\n",
              "  }\n",
              "\n",
              "  @keyframes spin {\n",
              "    0% {\n",
              "      border-color: transparent;\n",
              "      border-bottom-color: var(--fill-color);\n",
              "      border-left-color: var(--fill-color);\n",
              "    }\n",
              "    20% {\n",
              "      border-color: transparent;\n",
              "      border-left-color: var(--fill-color);\n",
              "      border-top-color: var(--fill-color);\n",
              "    }\n",
              "    30% {\n",
              "      border-color: transparent;\n",
              "      border-left-color: var(--fill-color);\n",
              "      border-top-color: var(--fill-color);\n",
              "      border-right-color: var(--fill-color);\n",
              "    }\n",
              "    40% {\n",
              "      border-color: transparent;\n",
              "      border-right-color: var(--fill-color);\n",
              "      border-top-color: var(--fill-color);\n",
              "    }\n",
              "    60% {\n",
              "      border-color: transparent;\n",
              "      border-right-color: var(--fill-color);\n",
              "    }\n",
              "    80% {\n",
              "      border-color: transparent;\n",
              "      border-right-color: var(--fill-color);\n",
              "      border-bottom-color: var(--fill-color);\n",
              "    }\n",
              "    90% {\n",
              "      border-color: transparent;\n",
              "      border-bottom-color: var(--fill-color);\n",
              "    }\n",
              "  }\n",
              "</style>\n",
              "\n",
              "  <script>\n",
              "    async function quickchart(key) {\n",
              "      const quickchartButtonEl =\n",
              "        document.querySelector('#' + key + ' button');\n",
              "      quickchartButtonEl.disabled = true;  // To prevent multiple clicks.\n",
              "      quickchartButtonEl.classList.add('colab-df-spinner');\n",
              "      try {\n",
              "        const charts = await google.colab.kernel.invokeFunction(\n",
              "            'suggestCharts', [key], {});\n",
              "      } catch (error) {\n",
              "        console.error('Error during call to suggestCharts:', error);\n",
              "      }\n",
              "      quickchartButtonEl.classList.remove('colab-df-spinner');\n",
              "      quickchartButtonEl.classList.add('colab-df-quickchart-complete');\n",
              "    }\n",
              "    (() => {\n",
              "      let quickchartButtonEl =\n",
              "        document.querySelector('#df-47430ae7-d873-4d79-852f-37397c1c55e6 button');\n",
              "      quickchartButtonEl.style.display =\n",
              "        google.colab.kernel.accessAllowed ? 'block' : 'none';\n",
              "    })();\n",
              "  </script>\n",
              "</div>\n",
              "    </div>\n",
              "  </div>\n"
            ],
            "application/vnd.google.colaboratory.intrinsic+json": {
              "type": "dataframe",
              "variable_name": "dtc_imp_features",
              "summary": "{\n  \"name\": \"dtc_imp_features\",\n  \"rows\": 8,\n  \"fields\": [\n    {\n      \"column\": \"feature\",\n      \"properties\": {\n        \"dtype\": \"string\",\n        \"num_unique_values\": 8,\n        \"samples\": [\n          \"sellingprice\",\n          \"odometer\",\n          \"model_code\"\n        ],\n        \"semantic_type\": \"\",\n        \"description\": \"\"\n      }\n    },\n    {\n      \"column\": \"importance\",\n      \"properties\": {\n        \"dtype\": \"number\",\n        \"std\": 0.1985111997560123,\n        \"min\": 0.0,\n        \"max\": 0.521,\n        \"num_unique_values\": 6,\n        \"samples\": [\n          0.521,\n          0.346,\n          0.0\n        ],\n        \"semantic_type\": \"\",\n        \"description\": \"\"\n      }\n    }\n  ]\n}"
            }
          },
          "metadata": {},
          "execution_count": 15
        }
      ],
      "source": [
        "# Decision Tree : Feature Importance\n",
        "dtc_imp_features = pd.DataFrame({'feature': df1_inputs_names, 'importance': np.round(dtc_model.feature_importances_, 3)})\n",
        "dtc_imp_features.sort_values('importance', ascending=False, inplace=True); dtc_imp_features"
      ]
    },
    {
      "cell_type": "code",
      "execution_count": null,
      "metadata": {
        "id": "wlzPQ6qjqTWL",
        "colab": {
          "base_uri": "https://localhost:8080/"
        },
        "outputId": "a6181dac-4467-4734-87fa-d752afdba11e"
      },
      "outputs": [
        {
          "output_type": "execute_result",
          "data": {
            "text/plain": [
              "array([2., 2., 2., ..., 3., 2., 2.])"
            ]
          },
          "metadata": {},
          "execution_count": 16
        }
      ],
      "source": [
        "# Decision Tree : Model Prediction (Training Subset)\n",
        "dtc_model_predict = dtc_model.predict(df1_inputs_train); dtc_model_predict"
      ]
    },
    {
      "cell_type": "code",
      "execution_count": null,
      "metadata": {
        "id": "fHhYZ0Gctf_h",
        "colab": {
          "base_uri": "https://localhost:8080/"
        },
        "outputId": "1093a448-264f-4fdf-f395-d978c14ad9b5"
      },
      "outputs": [
        {
          "output_type": "execute_result",
          "data": {
            "text/plain": [
              "array([2., 2., 2., ..., 2., 2., 2.])"
            ]
          },
          "metadata": {},
          "execution_count": 17
        }
      ],
      "source": [
        "# Decision Tree : Prediction (Testing Subset)\n",
        "dtc_predict = dtc_model.predict(df1_inputs_test); dtc_predict"
      ]
    },
    {
      "cell_type": "code",
      "execution_count": null,
      "metadata": {
        "id": "0yHmBT9qtiEE",
        "colab": {
          "base_uri": "https://localhost:8080/"
        },
        "outputId": "83d27549-52ff-4763-dc9b-1974e02c731c"
      },
      "outputs": [
        {
          "output_type": "stream",
          "name": "stderr",
          "text": [
            "/usr/local/lib/python3.10/dist-packages/sklearn/metrics/_classification.py:1344: UndefinedMetricWarning: Precision and F-score are ill-defined and being set to 0.0 in labels with no predicted samples. Use `zero_division` parameter to control this behavior.\n",
            "  _warn_prf(average, modifier, msg_start, len(result))\n",
            "/usr/local/lib/python3.10/dist-packages/sklearn/metrics/_classification.py:1344: UndefinedMetricWarning: Precision and F-score are ill-defined and being set to 0.0 in labels with no predicted samples. Use `zero_division` parameter to control this behavior.\n",
            "  _warn_prf(average, modifier, msg_start, len(result))\n"
          ]
        },
        {
          "output_type": "stream",
          "name": "stdout",
          "text": [
            "              precision    recall  f1-score   support\n",
            "\n",
            "         0.0       0.00      0.00      0.00     79217\n",
            "         2.0       0.37      0.68      0.48     91164\n",
            "         3.0       0.40      0.41      0.40     88308\n",
            "\n",
            "    accuracy                           0.38    258689\n",
            "   macro avg       0.26      0.36      0.29    258689\n",
            "weighted avg       0.27      0.38      0.31    258689\n",
            "\n"
          ]
        },
        {
          "output_type": "stream",
          "name": "stderr",
          "text": [
            "/usr/local/lib/python3.10/dist-packages/sklearn/metrics/_classification.py:1344: UndefinedMetricWarning: Precision and F-score are ill-defined and being set to 0.0 in labels with no predicted samples. Use `zero_division` parameter to control this behavior.\n",
            "  _warn_prf(average, modifier, msg_start, len(result))\n"
          ]
        }
      ],
      "source": [
        "# Decision Tree : Model Evaluation (Training Subset)\n",
        "dtc_model_conf_mat = pd.DataFrame(confusion_matrix(df1_output_train, dtc_model_predict)); dtc_model_conf_mat\n",
        "dtc_model_perf = classification_report(df1_output_train, dtc_model_predict); print(dtc_model_perf)"
      ]
    },
    {
      "cell_type": "code",
      "execution_count": null,
      "metadata": {
        "id": "B-w_rCIktkFJ",
        "colab": {
          "base_uri": "https://localhost:8080/"
        },
        "outputId": "b3bc47d4-d189-44ba-ade7-6b7af12a6ee4"
      },
      "outputs": [
        {
          "output_type": "stream",
          "name": "stderr",
          "text": [
            "/usr/local/lib/python3.10/dist-packages/sklearn/metrics/_classification.py:1344: UndefinedMetricWarning: Precision and F-score are ill-defined and being set to 0.0 in labels with no predicted samples. Use `zero_division` parameter to control this behavior.\n",
            "  _warn_prf(average, modifier, msg_start, len(result))\n"
          ]
        },
        {
          "output_type": "stream",
          "name": "stdout",
          "text": [
            "              precision    recall  f1-score   support\n",
            "\n",
            "         0.0       0.00      0.00      0.00     19805\n",
            "         2.0       0.37      0.68      0.48     22791\n",
            "         3.0       0.40      0.41      0.40     22077\n",
            "\n",
            "    accuracy                           0.38     64673\n",
            "   macro avg       0.26      0.36      0.29     64673\n",
            "weighted avg       0.27      0.38      0.31     64673\n",
            "\n"
          ]
        },
        {
          "output_type": "stream",
          "name": "stderr",
          "text": [
            "/usr/local/lib/python3.10/dist-packages/sklearn/metrics/_classification.py:1344: UndefinedMetricWarning: Precision and F-score are ill-defined and being set to 0.0 in labels with no predicted samples. Use `zero_division` parameter to control this behavior.\n",
            "  _warn_prf(average, modifier, msg_start, len(result))\n",
            "/usr/local/lib/python3.10/dist-packages/sklearn/metrics/_classification.py:1344: UndefinedMetricWarning: Precision and F-score are ill-defined and being set to 0.0 in labels with no predicted samples. Use `zero_division` parameter to control this behavior.\n",
            "  _warn_prf(average, modifier, msg_start, len(result))\n"
          ]
        }
      ],
      "source": [
        "# Decision Tree : Prediction Evaluation (Testing Subset)\n",
        "dtc_predict_conf_mat = pd.DataFrame(confusion_matrix(df1_output_test, dtc_predict)); dtc_predict_conf_mat\n",
        "dtc_predict_perf = classification_report(df1_output_test, dtc_predict); print(dtc_predict_perf)"
      ]
    },
    {
      "cell_type": "code",
      "execution_count": null,
      "metadata": {
        "id": "5W3TUeAPtqVa",
        "colab": {
          "base_uri": "https://localhost:8080/",
          "height": 807
        },
        "outputId": "84dd2301-784e-4126-aba5-d373d5fdb5a6"
      },
      "outputs": [
        {
          "output_type": "display_data",
          "data": {
            "text/plain": [
              "<Figure size 1000x1000 with 1 Axes>"
            ],
            "image/png": "[encoded data removed]"
          },
          "metadata": {}
        }
      ],
      "source": [
        "import matplotlib.pyplot as plt\n",
        "from sklearn.tree import plot_tree\n",
        "\n",
        "# Set a larger figure size for better clarity\n",
        "plt.figure(figsize=(10, 10))\n",
        "\n",
        "# Plot the decision tree\n",
        "train_subset_dtc_plot = plot_tree(dtc_model, feature_names=df1_inputs_names, class_names=df1_output_labels, rounded=True, filled=True, fontsize=20)\n",
        "\n",
        "# Show the plot\n",
        "plt.show()\n"
      ]
    },
    {
      "cell_type": "code",
      "execution_count": null,
      "metadata": {
        "id": "mO7RPzlNtsgk",
        "colab": {
          "base_uri": "https://localhost:8080/",
          "height": 472
        },
        "outputId": "d679ac86-951d-4e5a-edc9-9cb78f65c70d"
      },
      "outputs": [
        {
          "output_type": "display_data",
          "data": {
            "text/plain": [
              "<Figure size 640x480 with 2 Axes>"
            ],
            "image/png": "[encoded data removed]"
          },
          "metadata": {}
        }
      ],
      "source": [
        "# Set up the plot\n",
        "ax = plt.axes()\n",
        "\n",
        "# Plot the confusion matrix with annotations in integer format\n",
        "sns.heatmap(dtc_predict_conf_mat, annot=True, fmt='d', cmap='Paired')\n",
        "\n",
        "# Set labels and title\n",
        "ax.set_xlabel('Predicted Label')\n",
        "ax.set_ylabel('True Label')\n",
        "ax.set_title('Decision Tree : Confusion Matrix')\n",
        "\n",
        "# Show the plot\n",
        "plt.show()\n"
      ]
    },
    {
      "cell_type": "code",
      "source": [
        "# Define your decision tree classifier with desired parameters\n",
        "dtc_cv = DecisionTreeClassifier(criterion='gini', random_state=45024)\n",
        "\n",
        "# Perform 5-fold cross-validation\n",
        "cv_scores = cross_val_score(dtc_cv, df1_inputs, df1_output.values.ravel(), cv=20)\n",
        "print(\"Cross-Validation Scores:\", cv_scores)\n",
        "print(\"Average Cross-Validation Score:\", np.mean(cv_scores))\n"
      ],
      "metadata": {
        "id": "vSBCPvjF5ztE",
        "colab": {
          "base_uri": "https://localhost:8080/"
        },
        "outputId": "eb0daf43-f1d9-4808-ca86-2f7f7fc2242a"
      },
      "execution_count": null,
      "outputs": [
        {
          "output_type": "stream",
          "name": "stdout",
          "text": [
            "Cross-Validation Scores: [0.38060486 0.34863009 0.3747526  0.35947551 0.39856507 0.37444334\n",
            " 0.37153637 0.3916378  0.37735032 0.3752474  0.37413409 0.37543295\n",
            " 0.36584612 0.3694953  0.39188521 0.37339189 0.37419594 0.36547501\n",
            " 0.36535131 0.3800099 ]\n",
            "Average Cross-Validation Score: 0.3743730540729967\n"
          ]
        }
      ]
    },
    {
      "cell_type": "code",
      "source": [
        "# Compute F1 score\n",
        "f1 = f1_score(df1_output_test, dtc_predict, average='macro')  # or 'weighted' for weighted F1 score\n",
        "print(\"F1 Score:\", f1)\n",
        "\n",
        "# Weighted F1 score\n",
        "weighted_f1 = f1_score(df1_output_test, dtc_predict, average='weighted')\n",
        "print(\"Weighted F1 Score:\", weighted_f1)\n"
      ],
      "metadata": {
        "id": "0g-notq752zn",
        "colab": {
          "base_uri": "https://localhost:8080/"
        },
        "outputId": "2fa343e7-49ea-418f-8182-4238a9b08e41"
      },
      "execution_count": null,
      "outputs": [
        {
          "output_type": "stream",
          "name": "stdout",
          "text": [
            "F1 Score: 0.29351089988662643\n",
            "Weighted F1 Score: 0.30585518315850074\n"
          ]
        }
      ]
    },
    {
      "cell_type": "code",
      "source": [
        "df1.columns"
      ],
      "metadata": {
        "colab": {
          "base_uri": "https://localhost:8080/"
        },
        "id": "1-xf7ZoHxPzr",
        "outputId": "0bea44cc-de53-4d81-ee44-74e386e02645"
      },
      "execution_count": null,
      "outputs": [
        {
          "output_type": "execute_result",
          "data": {
            "text/plain": [
              "Index(['Index_x_x', 'year_code', 'make_code', 'model_code', 'trim_code',\n",
              "       'body_code', 'transmission_code', 'state_code', 'color_code',\n",
              "       'interior_code', 'seller_code', 'condition', 'odometer', 'mmr',\n",
              "       'sellingprice', 'Index_y', 'condition_mms', 'odometer_mms', 'mmr_mms',\n",
              "       'sellingprice_mms', 'Cluster_Label_x', 'Index_x_y', 'Cluster_Label_y'],\n",
              "      dtype='object')"
            ]
          },
          "metadata": {},
          "execution_count": 24
        }
      ]
    },
    {
      "cell_type": "code",
      "source": [
        "rf_classifier = RandomForestClassifier(n_estimators=20, random_state=45024)"
      ],
      "metadata": {
        "id": "I1YwexKRwySQ"
      },
      "execution_count": null,
      "outputs": []
    },
    {
      "cell_type": "code",
      "source": [
        "rf_classifier.fit(df1_inputs_train, df1_output_train['Cluster_Label_x'])"
      ],
      "metadata": {
        "colab": {
          "base_uri": "https://localhost:8080/",
          "height": 75
        },
        "id": "nqAqUSpgyPHo",
        "outputId": "3614225b-0e64-492a-b19b-3b08ccfa3dfa"
      },
      "execution_count": null,
      "outputs": [
        {
          "output_type": "execute_result",
          "data": {
            "text/plain": [
              "RandomForestClassifier(n_estimators=20, random_state=45024)"
            ],
            "text/html": [
              "<style>#sk-container-id-2 {color: black;background-color: white;}#sk-container-id-2 pre{padding: 0;}#sk-container-id-2 div.sk-toggleable {background-color: white;}#sk-container-id-2 label.sk-toggleable__label {cursor: pointer;display: block;width: 100%;margin-bottom: 0;padding: 0.3em;box-sizing: border-box;text-align: center;}#sk-container-id-2 label.sk-toggleable__label-arrow:before {content: \"▸\";float: left;margin-right: 0.25em;color: #696969;}#sk-container-id-2 label.sk-toggleable__label-arrow:hover:before {color: black;}#sk-container-id-2 div.sk-estimator:hover label.sk-toggleable__label-arrow:before {color: black;}#sk-container-id-2 div.sk-toggleable__content {max-height: 0;max-width: 0;overflow: hidden;text-align: left;background-color: #f0f8ff;}#sk-container-id-2 div.sk-toggleable__content pre {margin: 0.2em;color: black;border-radius: 0.25em;background-color: #f0f8ff;}#sk-container-id-2 input.sk-toggleable__control:checked~div.sk-toggleable__content {max-height: 200px;max-width: 100%;overflow: auto;}#sk-container-id-2 input.sk-toggleable__control:checked~label.sk-toggleable__label-arrow:before {content: \"▾\";}#sk-container-id-2 div.sk-estimator input.sk-toggleable__control:checked~label.sk-toggleable__label {background-color: #d4ebff;}#sk-container-id-2 div.sk-label input.sk-toggleable__control:checked~label.sk-toggleable__label {background-color: #d4ebff;}#sk-container-id-2 input.sk-hidden--visually {border: 0;clip: rect(1px 1px 1px 1px);clip: rect(1px, 1px, 1px, 1px);height: 1px;margin: -1px;overflow: hidden;padding: 0;position: absolute;width: 1px;}#sk-container-id-2 div.sk-estimator {font-family: monospace;background-color: #f0f8ff;border: 1px dotted black;border-radius: 0.25em;box-sizing: border-box;margin-bottom: 0.5em;}#sk-container-id-2 div.sk-estimator:hover {background-color: #d4ebff;}#sk-container-id-2 div.sk-parallel-item::after {content: \"\";width: 100%;border-bottom: 1px solid gray;flex-grow: 1;}#sk-container-id-2 div.sk-label:hover label.sk-toggleable__label {background-color: #d4ebff;}#sk-container-id-2 div.sk-serial::before {content: \"\";position: absolute;border-left: 1px solid gray;box-sizing: border-box;top: 0;bottom: 0;left: 50%;z-index: 0;}#sk-container-id-2 div.sk-serial {display: flex;flex-direction: column;align-items: center;background-color: white;padding-right: 0.2em;padding-left: 0.2em;position: relative;}#sk-container-id-2 div.sk-item {position: relative;z-index: 1;}#sk-container-id-2 div.sk-parallel {display: flex;align-items: stretch;justify-content: center;background-color: white;position: relative;}#sk-container-id-2 div.sk-item::before, #sk-container-id-2 div.sk-parallel-item::before {content: \"\";position: absolute;border-left: 1px solid gray;box-sizing: border-box;top: 0;bottom: 0;left: 50%;z-index: -1;}#sk-container-id-2 div.sk-parallel-item {display: flex;flex-direction: column;z-index: 1;position: relative;background-color: white;}#sk-container-id-2 div.sk-parallel-item:first-child::after {align-self: flex-end;width: 50%;}#sk-container-id-2 div.sk-parallel-item:last-child::after {align-self: flex-start;width: 50%;}#sk-container-id-2 div.sk-parallel-item:only-child::after {width: 0;}#sk-container-id-2 div.sk-dashed-wrapped {border: 1px dashed gray;margin: 0 0.4em 0.5em 0.4em;box-sizing: border-box;padding-bottom: 0.4em;background-color: white;}#sk-container-id-2 div.sk-label label {font-family: monospace;font-weight: bold;display: inline-block;line-height: 1.2em;}#sk-container-id-2 div.sk-label-container {text-align: center;}#sk-container-id-2 div.sk-container {/* jupyter's `normalize.less` sets `[hidden] { display: none; }` but bootstrap.min.css set `[hidden] { display: none !important; }` so we also need the `!important` here to be able to override the default hidden behavior on the sphinx rendered scikit-learn.org. See: https://github.com/scikit-learn/scikit-learn/issues/21755 */display: inline-block !important;position: relative;}#sk-container-id-2 div.sk-text-repr-fallback {display: none;}</style><div id=\"sk-container-id-2\" class=\"sk-top-container\"><div class=\"sk-text-repr-fallback\"><pre>RandomForestClassifier(n_estimators=20, random_state=45024)</pre><b>In a Jupyter environment, please rerun this cell to show the HTML representation or trust the notebook. <br />On GitHub, the HTML representation is unable to render, please try loading this page with nbviewer.org.</b></div><div class=\"sk-container\" hidden><div class=\"sk-item\"><div class=\"sk-estimator sk-toggleable\"><input class=\"sk-toggleable__control sk-hidden--visually\" id=\"sk-estimator-id-2\" type=\"checkbox\" checked><label for=\"sk-estimator-id-2\" class=\"sk-toggleable__label sk-toggleable__label-arrow\">RandomForestClassifier</label><div class=\"sk-toggleable__content\"><pre>RandomForestClassifier(n_estimators=20, random_state=45024)</pre></div></div></div></div></div>"
            ]
          },
          "metadata": {},
          "execution_count": 26
        }
      ]
    },
    {
      "cell_type": "code",
      "source": [
        "y_train_pred_rf = rf_classifier.predict(df1_inputs_train)\n",
        "y_test_pred_rf = rf_classifier.predict(df1_inputs_test)"
      ],
      "metadata": {
        "id": "zIbyECk7yUYo"
      },
      "execution_count": null,
      "outputs": []
    },
    {
      "cell_type": "code",
      "source": [
        "# Train the Random Forest classifier\n",
        "rf_classifier.fit(df1_inputs_train, df1_output_train['Cluster_Label_x'])\n",
        "\n",
        "# Print feature importances\n",
        "feature_importances = rf_classifier.feature_importances_\n",
        "feature_importance_df = pd.DataFrame({'Feature': df1_inputs_train.columns, 'Importance': feature_importances})\n",
        "sorted_feature_importance_df = feature_importance_df.sort_values(by='Importance', ascending=False)\n",
        "print(\"Feature Importances:\")\n",
        "print(sorted_feature_importance_df)\n"
      ],
      "metadata": {
        "colab": {
          "base_uri": "https://localhost:8080/"
        },
        "id": "NG0o0vzmyWTZ",
        "outputId": "01b50199-a845-4b67-9d18-3c5227c9b254"
      },
      "execution_count": null,
      "outputs": [
        {
          "output_type": "stream",
          "name": "stdout",
          "text": [
            "Feature Importances:\n",
            "        Feature  Importance\n",
            "3      odometer    0.155286\n",
            "6  odometer_mms    0.154540\n",
            "5  sellingprice    0.139577\n",
            "4           mmr    0.126838\n",
            "7       mmr_mms    0.126726\n",
            "2   seller_code    0.121228\n",
            "0    model_code    0.090667\n",
            "1     trim_code    0.085139\n"
          ]
        }
      ]
    },
    {
      "cell_type": "code",
      "source": [
        "# For training set\n",
        "print(\"Training Set Confusion Matrix:\")\n",
        "print(confusion_matrix(df1_output_train['Cluster_Label_x'], y_train_pred_rf))\n",
        "\n",
        "print(\"\\nTraining Set Classification Report:\")\n",
        "print(classification_report(df1_output_train['Cluster_Label_x'], y_train_pred_rf))"
      ],
      "metadata": {
        "colab": {
          "base_uri": "https://localhost:8080/"
        },
        "id": "nYRDTu_YyZoE",
        "outputId": "15a10643-abc4-48ed-ef26-3ef124078a42"
      },
      "execution_count": null,
      "outputs": [
        {
          "output_type": "stream",
          "name": "stdout",
          "text": [
            "Training Set Confusion Matrix:\n",
            "[[79099    60    58]\n",
            " [  102 91004    58]\n",
            " [   68   120 88120]]\n",
            "\n",
            "Training Set Classification Report:\n",
            "              precision    recall  f1-score   support\n",
            "\n",
            "         0.0       1.00      1.00      1.00     79217\n",
            "         2.0       1.00      1.00      1.00     91164\n",
            "         3.0       1.00      1.00      1.00     88308\n",
            "\n",
            "    accuracy                           1.00    258689\n",
            "   macro avg       1.00      1.00      1.00    258689\n",
            "weighted avg       1.00      1.00      1.00    258689\n",
            "\n"
          ]
        }
      ]
    },
    {
      "cell_type": "code",
      "source": [
        "# For testing set\n",
        "print(\"\\nTesting Set Confusion Matrix:\")\n",
        "print(confusion_matrix(df1_output_test['Cluster_Label_x'], y_test_pred_rf))\n",
        "\n",
        "print(\"\\nTesting Set Classification Report:\")\n",
        "print(classification_report(df1_output_test['Cluster_Label_x'], y_test_pred_rf))"
      ],
      "metadata": {
        "colab": {
          "base_uri": "https://localhost:8080/"
        },
        "id": "IUrUsWpNydIt",
        "outputId": "ed525ee3-d6dd-46c2-e1e1-d2975a1efd20"
      },
      "execution_count": null,
      "outputs": [
        {
          "output_type": "stream",
          "name": "stdout",
          "text": [
            "\n",
            "Testing Set Confusion Matrix:\n",
            "[[8147 6600 5058]\n",
            " [6436 9998 6357]\n",
            " [5319 6891 9867]]\n",
            "\n",
            "Testing Set Classification Report:\n",
            "              precision    recall  f1-score   support\n",
            "\n",
            "         0.0       0.41      0.41      0.41     19805\n",
            "         2.0       0.43      0.44      0.43     22791\n",
            "         3.0       0.46      0.45      0.46     22077\n",
            "\n",
            "    accuracy                           0.43     64673\n",
            "   macro avg       0.43      0.43      0.43     64673\n",
            "weighted avg       0.43      0.43      0.43     64673\n",
            "\n"
          ]
        }
      ]
    },
    {
      "cell_type": "code",
      "source": [
        "# Assuming rf is your trained Random Forest classifier\n",
        "for i in range(3):\n",
        "    tree = rf_classifier.estimators_[i]  # Assuming rf_classifier is your trained Random Forest model\n",
        "    dot_data = export_graphviz(tree,\n",
        "                               feature_names=df1_inputs_train.columns,\n",
        "                               filled=True,\n",
        "                               max_depth=2,\n",
        "                               impurity=False,\n",
        "                               proportion=True)\n",
        "    graph = graphviz.Source(dot_data)\n",
        "    display(graph)"
      ],
      "metadata": {
        "colab": {
          "base_uri": "https://localhost:8080/",
          "height": 1000
        },
        "id": "d0DTlHf2yfvX",
        "outputId": "32f39f26-4ae7-4ac1-ba2e-de398aeae0d6"
      },
      "execution_count": null,
      "outputs": [
        {
          "output_type": "display_data",
          "data": {
            "image/svg+xml": "<?xml version=\"1.0\" encoding=\"UTF-8\" standalone=\"no\"?>\n<!DOCTYPE svg PUBLIC \"-//W3C//DTD SVG 1.1//EN\"\n \"http://www.w3.org/Graphics/SVG/1.1/DTD/svg11.dtd\">\n<!-- Generated by graphviz version 2.43.0 (0)\n -->\n<!-- Title: Tree Pages: 1 -->\n<svg width=\"796pt\" height=\"311pt\"\n viewBox=\"0.00 0.00 795.50 311.00\" xmlns=\"http://www.w3.org/2000/svg\" xmlns:xlink=\"http://www.w3.org/1999/xlink\">\n<g id=\"graph0\" class=\"graph\" transform=\"scale(1 1) rotate(0) translate(4 307)\">\n<title>Tree</title>\n<polygon fill=\"white\" stroke=\"transparent\" points=\"-4,4 -4,-307 791.5,-307 791.5,4 -4,4\"/>\n<!-- 0 -->\n<g id=\"node1\" class=\"node\">\n<title>0</title>\n<polygon fill=\"#fbfefd\" stroke=\"black\" points=\"491,-303 303,-303 303,-250 491,-250 491,-303\"/>\n<text text-anchor=\"middle\" x=\"397\" y=\"-287.8\" font-family=\"Helvetica,sans-Serif\" font-size=\"14.00\">mmr &lt;= 7987.5</text>\n<text text-anchor=\"middle\" x=\"397\" y=\"-272.8\" font-family=\"Helvetica,sans-Serif\" font-size=\"14.00\">samples = 100.0%</text>\n<text text-anchor=\"middle\" x=\"397\" y=\"-257.8\" font-family=\"Helvetica,sans-Serif\" font-size=\"14.00\">value = [0.306, 0.353, 0.341]</text>\n</g>\n<!-- 1 -->\n<g id=\"node2\" class=\"node\">\n<title>1</title>\n<polygon fill=\"#f1e9fc\" stroke=\"black\" points=\"390,-214 202,-214 202,-161 390,-161 390,-214\"/>\n<text text-anchor=\"middle\" x=\"296\" y=\"-198.8\" font-family=\"Helvetica,sans-Serif\" font-size=\"14.00\">trim_code &lt;= 1635.5</text>\n<text text-anchor=\"middle\" x=\"296\" y=\"-183.8\" font-family=\"Helvetica,sans-Serif\" font-size=\"14.00\">samples = 30.2%</text>\n<text text-anchor=\"middle\" x=\"296\" y=\"-168.8\" font-family=\"Helvetica,sans-Serif\" font-size=\"14.00\">value = [0.294, 0.315, 0.391]</text>\n</g>\n<!-- 0&#45;&gt;1 -->\n<g id=\"edge1\" class=\"edge\">\n<title>0&#45;&gt;1</title>\n<path fill=\"none\" stroke=\"black\" d=\"M367.24,-249.87C356.75,-240.83 344.82,-230.55 333.76,-221.03\"/>\n<polygon fill=\"black\" stroke=\"black\" points=\"335.75,-218.12 325.89,-214.25 331.19,-223.43 335.75,-218.12\"/>\n<text text-anchor=\"middle\" x=\"327.75\" y=\"-235.48\" font-family=\"Helvetica,sans-Serif\" font-size=\"14.00\">True</text>\n</g>\n<!-- 49802 -->\n<g id=\"node9\" class=\"node\">\n<title>49802</title>\n<polygon fill=\"#f0fdf5\" stroke=\"black\" points=\"589.5,-214 408.5,-214 408.5,-161 589.5,-161 589.5,-214\"/>\n<text text-anchor=\"middle\" x=\"499\" y=\"-198.8\" font-family=\"Helvetica,sans-Serif\" font-size=\"14.00\">odometer &lt;= 79397.0</text>\n<text text-anchor=\"middle\" x=\"499\" y=\"-183.8\" font-family=\"Helvetica,sans-Serif\" font-size=\"14.00\">samples = 69.8%</text>\n<text text-anchor=\"middle\" x=\"499\" y=\"-168.8\" font-family=\"Helvetica,sans-Serif\" font-size=\"14.00\">value = [0.311, 0.37, 0.318]</text>\n</g>\n<!-- 0&#45;&gt;49802 -->\n<g id=\"edge8\" class=\"edge\">\n<title>0&#45;&gt;49802</title>\n<path fill=\"none\" stroke=\"black\" d=\"M427.05,-249.87C437.75,-240.75 449.93,-230.35 461.19,-220.75\"/>\n<polygon fill=\"black\" stroke=\"black\" points=\"463.47,-223.4 468.81,-214.25 458.93,-218.08 463.47,-223.4\"/>\n<text text-anchor=\"middle\" x=\"466.83\" y=\"-235.47\" font-family=\"Helvetica,sans-Serif\" font-size=\"14.00\">False</text>\n</g>\n<!-- 2 -->\n<g id=\"node3\" class=\"node\">\n<title>2</title>\n<polygon fill=\"#f2ebfc\" stroke=\"black\" points=\"188,-125 0,-125 0,-72 188,-72 188,-125\"/>\n<text text-anchor=\"middle\" x=\"94\" y=\"-109.8\" font-family=\"Helvetica,sans-Serif\" font-size=\"14.00\">sellingprice &lt;= 2575.0</text>\n<text text-anchor=\"middle\" x=\"94\" y=\"-94.8\" font-family=\"Helvetica,sans-Serif\" font-size=\"14.00\">samples = 29.5%</text>\n<text text-anchor=\"middle\" x=\"94\" y=\"-79.8\" font-family=\"Helvetica,sans-Serif\" font-size=\"14.00\">value = [0.297, 0.317, 0.386]</text>\n</g>\n<!-- 1&#45;&gt;2 -->\n<g id=\"edge2\" class=\"edge\">\n<title>1&#45;&gt;2</title>\n<path fill=\"none\" stroke=\"black\" d=\"M236.76,-160.98C213.53,-150.98 186.73,-139.44 162.66,-129.07\"/>\n<polygon fill=\"black\" stroke=\"black\" points=\"163.81,-125.76 153.24,-125.01 161.04,-132.18 163.81,-125.76\"/>\n</g>\n<!-- 48925 -->\n<g id=\"node6\" class=\"node\">\n<title>48925</title>\n<polygon fill=\"#be99f2\" stroke=\"black\" points=\"387.5,-125 206.5,-125 206.5,-72 387.5,-72 387.5,-125\"/>\n<text text-anchor=\"middle\" x=\"297\" y=\"-109.8\" font-family=\"Helvetica,sans-Serif\" font-size=\"14.00\">sellingprice &lt;= 1625.0</text>\n<text text-anchor=\"middle\" x=\"297\" y=\"-94.8\" font-family=\"Helvetica,sans-Serif\" font-size=\"14.00\">samples = 0.7%</text>\n<text text-anchor=\"middle\" x=\"297\" y=\"-79.8\" font-family=\"Helvetica,sans-Serif\" font-size=\"14.00\">value = [0.15, 0.226, 0.624]</text>\n</g>\n<!-- 1&#45;&gt;48925 -->\n<g id=\"edge5\" class=\"edge\">\n<title>1&#45;&gt;48925</title>\n<path fill=\"none\" stroke=\"black\" d=\"M296.29,-160.87C296.39,-152.89 296.49,-143.93 296.59,-135.38\"/>\n<polygon fill=\"black\" stroke=\"black\" points=\"300.09,-135.29 296.7,-125.25 293.09,-135.21 300.09,-135.29\"/>\n</g>\n<!-- 3 -->\n<g id=\"node4\" class=\"node\">\n<title>3</title>\n<polygon fill=\"#c0c0c0\" stroke=\"black\" points=\"85,-36 31,-36 31,0 85,0 85,-36\"/>\n<text text-anchor=\"middle\" x=\"58\" y=\"-14.3\" font-family=\"Helvetica,sans-Serif\" font-size=\"14.00\">(...)</text>\n</g>\n<!-- 2&#45;&gt;3 -->\n<g id=\"edge3\" class=\"edge\">\n<title>2&#45;&gt;3</title>\n<path fill=\"none\" stroke=\"black\" d=\"M82.21,-71.8C78.34,-63.35 74.03,-53.95 70.13,-45.45\"/>\n<polygon fill=\"black\" stroke=\"black\" points=\"73.3,-43.96 65.95,-36.33 66.93,-46.88 73.3,-43.96\"/>\n</g>\n<!-- 16228 -->\n<g id=\"node5\" class=\"node\">\n<title>16228</title>\n<polygon fill=\"#c0c0c0\" stroke=\"black\" points=\"157,-36 103,-36 103,0 157,0 157,-36\"/>\n<text text-anchor=\"middle\" x=\"130\" y=\"-14.3\" font-family=\"Helvetica,sans-Serif\" font-size=\"14.00\">(...)</text>\n</g>\n<!-- 2&#45;&gt;16228 -->\n<g id=\"edge4\" class=\"edge\">\n<title>2&#45;&gt;16228</title>\n<path fill=\"none\" stroke=\"black\" d=\"M105.79,-71.8C109.66,-63.35 113.97,-53.95 117.87,-45.45\"/>\n<polygon fill=\"black\" stroke=\"black\" points=\"121.07,-46.88 122.05,-36.33 114.7,-43.96 121.07,-46.88\"/>\n</g>\n<!-- 48926 -->\n<g id=\"node7\" class=\"node\">\n<title>48926</title>\n<polygon fill=\"#c0c0c0\" stroke=\"black\" points=\"303,-36 249,-36 249,0 303,0 303,-36\"/>\n<text text-anchor=\"middle\" x=\"276\" y=\"-14.3\" font-family=\"Helvetica,sans-Serif\" font-size=\"14.00\">(...)</text>\n</g>\n<!-- 48925&#45;&gt;48926 -->\n<g id=\"edge6\" class=\"edge\">\n<title>48925&#45;&gt;48926</title>\n<path fill=\"none\" stroke=\"black\" d=\"M290.12,-71.8C287.91,-63.53 285.46,-54.35 283.22,-46\"/>\n<polygon fill=\"black\" stroke=\"black\" points=\"286.6,-45.09 280.64,-36.33 279.84,-46.9 286.6,-45.09\"/>\n</g>\n<!-- 49053 -->\n<g id=\"node8\" class=\"node\">\n<title>49053</title>\n<polygon fill=\"#c0c0c0\" stroke=\"black\" points=\"375,-36 321,-36 321,0 375,0 375,-36\"/>\n<text text-anchor=\"middle\" x=\"348\" y=\"-14.3\" font-family=\"Helvetica,sans-Serif\" font-size=\"14.00\">(...)</text>\n</g>\n<!-- 48925&#45;&gt;49053 -->\n<g id=\"edge7\" class=\"edge\">\n<title>48925&#45;&gt;49053</title>\n<path fill=\"none\" stroke=\"black\" d=\"M313.7,-71.8C319.31,-63.17 325.56,-53.54 331.17,-44.9\"/>\n<polygon fill=\"black\" stroke=\"black\" points=\"334.23,-46.62 336.74,-36.33 328.36,-42.81 334.23,-46.62\"/>\n</g>\n<!-- 49803 -->\n<g id=\"node10\" class=\"node\">\n<title>49803</title>\n<polygon fill=\"#ecfdf3\" stroke=\"black\" points=\"588.5,-125 407.5,-125 407.5,-72 588.5,-72 588.5,-125\"/>\n<text text-anchor=\"middle\" x=\"498\" y=\"-109.8\" font-family=\"Helvetica,sans-Serif\" font-size=\"14.00\">model_code &lt;= 779.5</text>\n<text text-anchor=\"middle\" x=\"498\" y=\"-94.8\" font-family=\"Helvetica,sans-Serif\" font-size=\"14.00\">samples = 60.0%</text>\n<text text-anchor=\"middle\" x=\"498\" y=\"-79.8\" font-family=\"Helvetica,sans-Serif\" font-size=\"14.00\">value = [0.31, 0.377, 0.313]</text>\n</g>\n<!-- 49802&#45;&gt;49803 -->\n<g id=\"edge9\" class=\"edge\">\n<title>49802&#45;&gt;49803</title>\n<path fill=\"none\" stroke=\"black\" d=\"M498.71,-160.87C498.61,-152.89 498.51,-143.93 498.41,-135.38\"/>\n<polygon fill=\"black\" stroke=\"black\" points=\"501.91,-135.21 498.3,-125.25 494.91,-135.29 501.91,-135.21\"/>\n</g>\n<!-- 150344 -->\n<g id=\"node13\" class=\"node\">\n<title>150344</title>\n<polygon fill=\"#faf8fe\" stroke=\"black\" points=\"787.5,-125 606.5,-125 606.5,-72 787.5,-72 787.5,-125\"/>\n<text text-anchor=\"middle\" x=\"697\" y=\"-109.8\" font-family=\"Helvetica,sans-Serif\" font-size=\"14.00\">model_code &lt;= 769.0</text>\n<text text-anchor=\"middle\" x=\"697\" y=\"-94.8\" font-family=\"Helvetica,sans-Serif\" font-size=\"14.00\">samples = 9.8%</text>\n<text text-anchor=\"middle\" x=\"697\" y=\"-79.8\" font-family=\"Helvetica,sans-Serif\" font-size=\"14.00\">value = [0.32, 0.328, 0.353]</text>\n</g>\n<!-- 49802&#45;&gt;150344 -->\n<g id=\"edge12\" class=\"edge\">\n<title>49802&#45;&gt;150344</title>\n<path fill=\"none\" stroke=\"black\" d=\"M557.07,-160.98C579.84,-150.98 606.11,-139.44 629.7,-129.07\"/>\n<polygon fill=\"black\" stroke=\"black\" points=\"631.19,-132.24 638.93,-125.01 628.37,-125.83 631.19,-132.24\"/>\n</g>\n<!-- 49804 -->\n<g id=\"node11\" class=\"node\">\n<title>49804</title>\n<polygon fill=\"#c0c0c0\" stroke=\"black\" points=\"474,-36 420,-36 420,0 474,0 474,-36\"/>\n<text text-anchor=\"middle\" x=\"447\" y=\"-14.3\" font-family=\"Helvetica,sans-Serif\" font-size=\"14.00\">(...)</text>\n</g>\n<!-- 49803&#45;&gt;49804 -->\n<g id=\"edge10\" class=\"edge\">\n<title>49803&#45;&gt;49804</title>\n<path fill=\"none\" stroke=\"black\" d=\"M481.3,-71.8C475.69,-63.17 469.44,-53.54 463.83,-44.9\"/>\n<polygon fill=\"black\" stroke=\"black\" points=\"466.64,-42.81 458.26,-36.33 460.77,-46.62 466.64,-42.81\"/>\n</g>\n<!-- 150019 -->\n<g id=\"node12\" class=\"node\">\n<title>150019</title>\n<polygon fill=\"#c0c0c0\" stroke=\"black\" points=\"546,-36 492,-36 492,0 546,0 546,-36\"/>\n<text text-anchor=\"middle\" x=\"519\" y=\"-14.3\" font-family=\"Helvetica,sans-Serif\" font-size=\"14.00\">(...)</text>\n</g>\n<!-- 49803&#45;&gt;150019 -->\n<g id=\"edge11\" class=\"edge\">\n<title>49803&#45;&gt;150019</title>\n<path fill=\"none\" stroke=\"black\" d=\"M504.88,-71.8C507.09,-63.53 509.54,-54.35 511.78,-46\"/>\n<polygon fill=\"black\" stroke=\"black\" points=\"515.16,-46.9 514.36,-36.33 508.4,-45.09 515.16,-46.9\"/>\n</g>\n<!-- 150345 -->\n<g id=\"node14\" class=\"node\">\n<title>150345</title>\n<polygon fill=\"#c0c0c0\" stroke=\"black\" points=\"688,-36 634,-36 634,0 688,0 688,-36\"/>\n<text text-anchor=\"middle\" x=\"661\" y=\"-14.3\" font-family=\"Helvetica,sans-Serif\" font-size=\"14.00\">(...)</text>\n</g>\n<!-- 150344&#45;&gt;150345 -->\n<g id=\"edge13\" class=\"edge\">\n<title>150344&#45;&gt;150345</title>\n<path fill=\"none\" stroke=\"black\" d=\"M685.21,-71.8C681.34,-63.35 677.03,-53.95 673.13,-45.45\"/>\n<polygon fill=\"black\" stroke=\"black\" points=\"676.3,-43.96 668.95,-36.33 669.93,-46.88 676.3,-43.96\"/>\n</g>\n<!-- 166312 -->\n<g id=\"node15\" class=\"node\">\n<title>166312</title>\n<polygon fill=\"#c0c0c0\" stroke=\"black\" points=\"760,-36 706,-36 706,0 760,0 760,-36\"/>\n<text text-anchor=\"middle\" x=\"733\" y=\"-14.3\" font-family=\"Helvetica,sans-Serif\" font-size=\"14.00\">(...)</text>\n</g>\n<!-- 150344&#45;&gt;166312 -->\n<g id=\"edge14\" class=\"edge\">\n<title>150344&#45;&gt;166312</title>\n<path fill=\"none\" stroke=\"black\" d=\"M708.79,-71.8C712.66,-63.35 716.97,-53.95 720.87,-45.45\"/>\n<polygon fill=\"black\" stroke=\"black\" points=\"724.07,-46.88 725.05,-36.33 717.7,-43.96 724.07,-46.88\"/>\n</g>\n</g>\n</svg>\n",
            "text/plain": [
              "<graphviz.sources.Source at 0x7c6cd1150910>"
            ]
          },
          "metadata": {}
        },
        {
          "output_type": "display_data",
          "data": {
            "image/svg+xml": "<?xml version=\"1.0\" encoding=\"UTF-8\" standalone=\"no\"?>\n<!DOCTYPE svg PUBLIC \"-//W3C//DTD SVG 1.1//EN\"\n \"http://www.w3.org/Graphics/SVG/1.1/DTD/svg11.dtd\">\n<!-- Generated by graphviz version 2.43.0 (0)\n -->\n<!-- Title: Tree Pages: 1 -->\n<svg width=\"809pt\" height=\"311pt\"\n viewBox=\"0.00 0.00 809.00 311.00\" xmlns=\"http://www.w3.org/2000/svg\" xmlns:xlink=\"http://www.w3.org/1999/xlink\">\n<g id=\"graph0\" class=\"graph\" transform=\"scale(1 1) rotate(0) translate(4 307)\">\n<title>Tree</title>\n<polygon fill=\"white\" stroke=\"transparent\" points=\"-4,4 -4,-307 805,-307 805,4 -4,4\"/>\n<!-- 0 -->\n<g id=\"node1\" class=\"node\">\n<title>0</title>\n<polygon fill=\"#fcfffd\" stroke=\"black\" points=\"496,-303 308,-303 308,-250 496,-250 496,-303\"/>\n<text text-anchor=\"middle\" x=\"402\" y=\"-287.8\" font-family=\"Helvetica,sans-Serif\" font-size=\"14.00\">mmr_mms &lt;= 0.044</text>\n<text text-anchor=\"middle\" x=\"402\" y=\"-272.8\" font-family=\"Helvetica,sans-Serif\" font-size=\"14.00\">samples = 100.0%</text>\n<text text-anchor=\"middle\" x=\"402\" y=\"-257.8\" font-family=\"Helvetica,sans-Serif\" font-size=\"14.00\">value = [0.307, 0.352, 0.342]</text>\n</g>\n<!-- 1 -->\n<g id=\"node2\" class=\"node\">\n<title>1</title>\n<polygon fill=\"#f0e7fc\" stroke=\"black\" points=\"393,-214 205,-214 205,-161 393,-161 393,-214\"/>\n<text text-anchor=\"middle\" x=\"299\" y=\"-198.8\" font-family=\"Helvetica,sans-Serif\" font-size=\"14.00\">trim_code &lt;= 1635.5</text>\n<text text-anchor=\"middle\" x=\"299\" y=\"-183.8\" font-family=\"Helvetica,sans-Serif\" font-size=\"14.00\">samples = 30.3%</text>\n<text text-anchor=\"middle\" x=\"299\" y=\"-168.8\" font-family=\"Helvetica,sans-Serif\" font-size=\"14.00\">value = [0.294, 0.311, 0.395]</text>\n</g>\n<!-- 0&#45;&gt;1 -->\n<g id=\"edge1\" class=\"edge\">\n<title>0&#45;&gt;1</title>\n<path fill=\"none\" stroke=\"black\" d=\"M371.65,-249.87C360.85,-240.75 348.55,-230.35 337.18,-220.75\"/>\n<polygon fill=\"black\" stroke=\"black\" points=\"339.38,-218.03 329.49,-214.25 334.87,-223.38 339.38,-218.03\"/>\n<text text-anchor=\"middle\" x=\"331.58\" y=\"-235.46\" font-family=\"Helvetica,sans-Serif\" font-size=\"14.00\">True</text>\n</g>\n<!-- 49662 -->\n<g id=\"node9\" class=\"node\">\n<title>49662</title>\n<polygon fill=\"#f0fdf6\" stroke=\"black\" points=\"599,-214 411,-214 411,-161 599,-161 599,-214\"/>\n<text text-anchor=\"middle\" x=\"505\" y=\"-198.8\" font-family=\"Helvetica,sans-Serif\" font-size=\"14.00\">model_code &lt;= 779.5</text>\n<text text-anchor=\"middle\" x=\"505\" y=\"-183.8\" font-family=\"Helvetica,sans-Serif\" font-size=\"14.00\">samples = 69.7%</text>\n<text text-anchor=\"middle\" x=\"505\" y=\"-168.8\" font-family=\"Helvetica,sans-Serif\" font-size=\"14.00\">value = [0.312, 0.369, 0.319]</text>\n</g>\n<!-- 0&#45;&gt;49662 -->\n<g id=\"edge8\" class=\"edge\">\n<title>0&#45;&gt;49662</title>\n<path fill=\"none\" stroke=\"black\" d=\"M432.35,-249.87C443.15,-240.75 455.45,-230.35 466.82,-220.75\"/>\n<polygon fill=\"black\" stroke=\"black\" points=\"469.13,-223.38 474.51,-214.25 464.62,-218.03 469.13,-223.38\"/>\n<text text-anchor=\"middle\" x=\"472.42\" y=\"-235.46\" font-family=\"Helvetica,sans-Serif\" font-size=\"14.00\">False</text>\n</g>\n<!-- 2 -->\n<g id=\"node3\" class=\"node\">\n<title>2</title>\n<polygon fill=\"#f1e9fc\" stroke=\"black\" points=\"188,-125 0,-125 0,-72 188,-72 188,-125\"/>\n<text text-anchor=\"middle\" x=\"94\" y=\"-109.8\" font-family=\"Helvetica,sans-Serif\" font-size=\"14.00\">mmr_mms &lt;= 0.017</text>\n<text text-anchor=\"middle\" x=\"94\" y=\"-94.8\" font-family=\"Helvetica,sans-Serif\" font-size=\"14.00\">samples = 29.5%</text>\n<text text-anchor=\"middle\" x=\"94\" y=\"-79.8\" font-family=\"Helvetica,sans-Serif\" font-size=\"14.00\">value = [0.298, 0.313, 0.389]</text>\n</g>\n<!-- 1&#45;&gt;2 -->\n<g id=\"edge2\" class=\"edge\">\n<title>1&#45;&gt;2</title>\n<path fill=\"none\" stroke=\"black\" d=\"M238.88,-160.98C215.2,-150.94 187.87,-139.34 163.36,-128.94\"/>\n<polygon fill=\"black\" stroke=\"black\" points=\"164.69,-125.7 154.12,-125.01 161.96,-132.14 164.69,-125.7\"/>\n</g>\n<!-- 48723 -->\n<g id=\"node6\" class=\"node\">\n<title>48723</title>\n<polygon fill=\"#bc95f1\" stroke=\"black\" points=\"394,-125 206,-125 206,-72 394,-72 394,-125\"/>\n<text text-anchor=\"middle\" x=\"300\" y=\"-109.8\" font-family=\"Helvetica,sans-Serif\" font-size=\"14.00\">trim_code &lt;= 1802.5</text>\n<text text-anchor=\"middle\" x=\"300\" y=\"-94.8\" font-family=\"Helvetica,sans-Serif\" font-size=\"14.00\">samples = 0.8%</text>\n<text text-anchor=\"middle\" x=\"300\" y=\"-79.8\" font-family=\"Helvetica,sans-Serif\" font-size=\"14.00\">value = [0.156, 0.212, 0.632]</text>\n</g>\n<!-- 1&#45;&gt;48723 -->\n<g id=\"edge5\" class=\"edge\">\n<title>1&#45;&gt;48723</title>\n<path fill=\"none\" stroke=\"black\" d=\"M299.29,-160.87C299.39,-152.89 299.49,-143.93 299.59,-135.38\"/>\n<polygon fill=\"black\" stroke=\"black\" points=\"303.09,-135.29 299.7,-125.25 296.09,-135.21 303.09,-135.29\"/>\n</g>\n<!-- 3 -->\n<g id=\"node4\" class=\"node\">\n<title>3</title>\n<polygon fill=\"#c0c0c0\" stroke=\"black\" points=\"85,-36 31,-36 31,0 85,0 85,-36\"/>\n<text text-anchor=\"middle\" x=\"58\" y=\"-14.3\" font-family=\"Helvetica,sans-Serif\" font-size=\"14.00\">(...)</text>\n</g>\n<!-- 2&#45;&gt;3 -->\n<g id=\"edge3\" class=\"edge\">\n<title>2&#45;&gt;3</title>\n<path fill=\"none\" stroke=\"black\" d=\"M82.21,-71.8C78.34,-63.35 74.03,-53.95 70.13,-45.45\"/>\n<polygon fill=\"black\" stroke=\"black\" points=\"73.3,-43.96 65.95,-36.33 66.93,-46.88 73.3,-43.96\"/>\n</g>\n<!-- 17200 -->\n<g id=\"node5\" class=\"node\">\n<title>17200</title>\n<polygon fill=\"#c0c0c0\" stroke=\"black\" points=\"157,-36 103,-36 103,0 157,0 157,-36\"/>\n<text text-anchor=\"middle\" x=\"130\" y=\"-14.3\" font-family=\"Helvetica,sans-Serif\" font-size=\"14.00\">(...)</text>\n</g>\n<!-- 2&#45;&gt;17200 -->\n<g id=\"edge4\" class=\"edge\">\n<title>2&#45;&gt;17200</title>\n<path fill=\"none\" stroke=\"black\" d=\"M105.79,-71.8C109.66,-63.35 113.97,-53.95 117.87,-45.45\"/>\n<polygon fill=\"black\" stroke=\"black\" points=\"121.07,-46.88 122.05,-36.33 114.7,-43.96 121.07,-46.88\"/>\n</g>\n<!-- 48724 -->\n<g id=\"node7\" class=\"node\">\n<title>48724</title>\n<polygon fill=\"#c0c0c0\" stroke=\"black\" points=\"306,-36 252,-36 252,0 306,0 306,-36\"/>\n<text text-anchor=\"middle\" x=\"279\" y=\"-14.3\" font-family=\"Helvetica,sans-Serif\" font-size=\"14.00\">(...)</text>\n</g>\n<!-- 48723&#45;&gt;48724 -->\n<g id=\"edge6\" class=\"edge\">\n<title>48723&#45;&gt;48724</title>\n<path fill=\"none\" stroke=\"black\" d=\"M293.12,-71.8C290.91,-63.53 288.46,-54.35 286.22,-46\"/>\n<polygon fill=\"black\" stroke=\"black\" points=\"289.6,-45.09 283.64,-36.33 282.84,-46.9 289.6,-45.09\"/>\n</g>\n<!-- 48897 -->\n<g id=\"node8\" class=\"node\">\n<title>48897</title>\n<polygon fill=\"#c0c0c0\" stroke=\"black\" points=\"378,-36 324,-36 324,0 378,0 378,-36\"/>\n<text text-anchor=\"middle\" x=\"351\" y=\"-14.3\" font-family=\"Helvetica,sans-Serif\" font-size=\"14.00\">(...)</text>\n</g>\n<!-- 48723&#45;&gt;48897 -->\n<g id=\"edge7\" class=\"edge\">\n<title>48723&#45;&gt;48897</title>\n<path fill=\"none\" stroke=\"black\" d=\"M316.7,-71.8C322.31,-63.17 328.56,-53.54 334.17,-44.9\"/>\n<polygon fill=\"black\" stroke=\"black\" points=\"337.23,-46.62 339.74,-36.33 331.36,-42.81 337.23,-46.62\"/>\n</g>\n<!-- 49663 -->\n<g id=\"node10\" class=\"node\">\n<title>49663</title>\n<polygon fill=\"#f0fdf5\" stroke=\"black\" points=\"594.5,-125 413.5,-125 413.5,-72 594.5,-72 594.5,-125\"/>\n<text text-anchor=\"middle\" x=\"504\" y=\"-109.8\" font-family=\"Helvetica,sans-Serif\" font-size=\"14.00\">sellingprice &lt;= 7875.0</text>\n<text text-anchor=\"middle\" x=\"504\" y=\"-94.8\" font-family=\"Helvetica,sans-Serif\" font-size=\"14.00\">samples = 69.3%</text>\n<text text-anchor=\"middle\" x=\"504\" y=\"-79.8\" font-family=\"Helvetica,sans-Serif\" font-size=\"14.00\">value = [0.313, 0.37, 0.317]</text>\n</g>\n<!-- 49662&#45;&gt;49663 -->\n<g id=\"edge9\" class=\"edge\">\n<title>49662&#45;&gt;49663</title>\n<path fill=\"none\" stroke=\"black\" d=\"M504.71,-160.87C504.61,-152.89 504.51,-143.93 504.41,-135.38\"/>\n<polygon fill=\"black\" stroke=\"black\" points=\"507.91,-135.21 504.3,-125.25 500.91,-135.29 507.91,-135.21\"/>\n</g>\n<!-- 166232 -->\n<g id=\"node13\" class=\"node\">\n<title>166232</title>\n<polygon fill=\"#be99f2\" stroke=\"black\" points=\"801,-125 613,-125 613,-72 801,-72 801,-125\"/>\n<text text-anchor=\"middle\" x=\"707\" y=\"-109.8\" font-family=\"Helvetica,sans-Serif\" font-size=\"14.00\">odometer_mms &lt;= 0.066</text>\n<text text-anchor=\"middle\" x=\"707\" y=\"-94.8\" font-family=\"Helvetica,sans-Serif\" font-size=\"14.00\">samples = 0.4%</text>\n<text text-anchor=\"middle\" x=\"707\" y=\"-79.8\" font-family=\"Helvetica,sans-Serif\" font-size=\"14.00\">value = [0.119, 0.246, 0.635]</text>\n</g>\n<!-- 49662&#45;&gt;166232 -->\n<g id=\"edge12\" class=\"edge\">\n<title>49662&#45;&gt;166232</title>\n<path fill=\"none\" stroke=\"black\" d=\"M564.24,-160.98C587.47,-150.98 614.27,-139.44 638.34,-129.07\"/>\n<polygon fill=\"black\" stroke=\"black\" points=\"639.96,-132.18 647.76,-125.01 637.19,-125.76 639.96,-132.18\"/>\n</g>\n<!-- 49664 -->\n<g id=\"node11\" class=\"node\">\n<title>49664</title>\n<polygon fill=\"#c0c0c0\" stroke=\"black\" points=\"479,-36 425,-36 425,0 479,0 479,-36\"/>\n<text text-anchor=\"middle\" x=\"452\" y=\"-14.3\" font-family=\"Helvetica,sans-Serif\" font-size=\"14.00\">(...)</text>\n</g>\n<!-- 49663&#45;&gt;49664 -->\n<g id=\"edge10\" class=\"edge\">\n<title>49663&#45;&gt;49664</title>\n<path fill=\"none\" stroke=\"black\" d=\"M486.97,-71.8C481.26,-63.17 474.88,-53.54 469.16,-44.9\"/>\n<polygon fill=\"black\" stroke=\"black\" points=\"471.92,-42.73 463.48,-36.33 466.08,-46.6 471.92,-42.73\"/>\n</g>\n<!-- 53641 -->\n<g id=\"node12\" class=\"node\">\n<title>53641</title>\n<polygon fill=\"#c0c0c0\" stroke=\"black\" points=\"551,-36 497,-36 497,0 551,0 551,-36\"/>\n<text text-anchor=\"middle\" x=\"524\" y=\"-14.3\" font-family=\"Helvetica,sans-Serif\" font-size=\"14.00\">(...)</text>\n</g>\n<!-- 49663&#45;&gt;53641 -->\n<g id=\"edge11\" class=\"edge\">\n<title>49663&#45;&gt;53641</title>\n<path fill=\"none\" stroke=\"black\" d=\"M510.55,-71.8C512.63,-63.62 514.94,-54.55 517.05,-46.27\"/>\n<polygon fill=\"black\" stroke=\"black\" points=\"520.51,-46.88 519.58,-36.33 513.72,-45.16 520.51,-46.88\"/>\n</g>\n<!-- 166233 -->\n<g id=\"node14\" class=\"node\">\n<title>166233</title>\n<polygon fill=\"#c0c0c0\" stroke=\"black\" points=\"698,-36 644,-36 644,0 698,0 698,-36\"/>\n<text text-anchor=\"middle\" x=\"671\" y=\"-14.3\" font-family=\"Helvetica,sans-Serif\" font-size=\"14.00\">(...)</text>\n</g>\n<!-- 166232&#45;&gt;166233 -->\n<g id=\"edge13\" class=\"edge\">\n<title>166232&#45;&gt;166233</title>\n<path fill=\"none\" stroke=\"black\" d=\"M695.21,-71.8C691.34,-63.35 687.03,-53.95 683.13,-45.45\"/>\n<polygon fill=\"black\" stroke=\"black\" points=\"686.3,-43.96 678.95,-36.33 679.93,-46.88 686.3,-43.96\"/>\n</g>\n<!-- 166588 -->\n<g id=\"node15\" class=\"node\">\n<title>166588</title>\n<polygon fill=\"#c0c0c0\" stroke=\"black\" points=\"770,-36 716,-36 716,0 770,0 770,-36\"/>\n<text text-anchor=\"middle\" x=\"743\" y=\"-14.3\" font-family=\"Helvetica,sans-Serif\" font-size=\"14.00\">(...)</text>\n</g>\n<!-- 166232&#45;&gt;166588 -->\n<g id=\"edge14\" class=\"edge\">\n<title>166232&#45;&gt;166588</title>\n<path fill=\"none\" stroke=\"black\" d=\"M718.79,-71.8C722.66,-63.35 726.97,-53.95 730.87,-45.45\"/>\n<polygon fill=\"black\" stroke=\"black\" points=\"734.07,-46.88 735.05,-36.33 727.7,-43.96 734.07,-46.88\"/>\n</g>\n</g>\n</svg>\n",
            "text/plain": [
              "<graphviz.sources.Source at 0x7c6cd1151f00>"
            ]
          },
          "metadata": {}
        },
        {
          "output_type": "display_data",
          "data": {
            "image/svg+xml": "<?xml version=\"1.0\" encoding=\"UTF-8\" standalone=\"no\"?>\n<!DOCTYPE svg PUBLIC \"-//W3C//DTD SVG 1.1//EN\"\n \"http://www.w3.org/Graphics/SVG/1.1/DTD/svg11.dtd\">\n<!-- Generated by graphviz version 2.43.0 (0)\n -->\n<!-- Title: Tree Pages: 1 -->\n<svg width=\"801pt\" height=\"311pt\"\n viewBox=\"0.00 0.00 801.00 311.00\" xmlns=\"http://www.w3.org/2000/svg\" xmlns:xlink=\"http://www.w3.org/1999/xlink\">\n<g id=\"graph0\" class=\"graph\" transform=\"scale(1 1) rotate(0) translate(4 307)\">\n<title>Tree</title>\n<polygon fill=\"white\" stroke=\"transparent\" points=\"-4,4 -4,-307 797,-307 797,4 -4,4\"/>\n<!-- 0 -->\n<g id=\"node1\" class=\"node\">\n<title>0</title>\n<polygon fill=\"#fbfffd\" stroke=\"black\" points=\"490,-303 302,-303 302,-250 490,-250 490,-303\"/>\n<text text-anchor=\"middle\" x=\"396\" y=\"-287.8\" font-family=\"Helvetica,sans-Serif\" font-size=\"14.00\">sellingprice &lt;= 7175.0</text>\n<text text-anchor=\"middle\" x=\"396\" y=\"-272.8\" font-family=\"Helvetica,sans-Serif\" font-size=\"14.00\">samples = 100.0%</text>\n<text text-anchor=\"middle\" x=\"396\" y=\"-257.8\" font-family=\"Helvetica,sans-Serif\" font-size=\"14.00\">value = [0.306, 0.353, 0.341]</text>\n</g>\n<!-- 1 -->\n<g id=\"node2\" class=\"node\">\n<title>1</title>\n<polygon fill=\"#efe6fc\" stroke=\"black\" points=\"383.5,-214 210.5,-214 210.5,-161 383.5,-161 383.5,-214\"/>\n<text text-anchor=\"middle\" x=\"297\" y=\"-198.8\" font-family=\"Helvetica,sans-Serif\" font-size=\"14.00\">trim_code &lt;= 1637.0</text>\n<text text-anchor=\"middle\" x=\"297\" y=\"-183.8\" font-family=\"Helvetica,sans-Serif\" font-size=\"14.00\">samples = 28.3%</text>\n<text text-anchor=\"middle\" x=\"297\" y=\"-168.8\" font-family=\"Helvetica,sans-Serif\" font-size=\"14.00\">value = [0.287, 0.313, 0.4]</text>\n</g>\n<!-- 0&#45;&gt;1 -->\n<g id=\"edge1\" class=\"edge\">\n<title>0&#45;&gt;1</title>\n<path fill=\"none\" stroke=\"black\" d=\"M366.83,-249.87C356.55,-240.83 344.85,-230.55 334.01,-221.03\"/>\n<polygon fill=\"black\" stroke=\"black\" points=\"336.12,-218.22 326.3,-214.25 331.5,-223.48 336.12,-218.22\"/>\n<text text-anchor=\"middle\" x=\"327.91\" y=\"-235.5\" font-family=\"Helvetica,sans-Serif\" font-size=\"14.00\">True</text>\n</g>\n<!-- 46146 -->\n<g id=\"node9\" class=\"node\">\n<title>46146</title>\n<polygon fill=\"#f0fdf5\" stroke=\"black\" points=\"590,-214 402,-214 402,-161 590,-161 590,-214\"/>\n<text text-anchor=\"middle\" x=\"496\" y=\"-198.8\" font-family=\"Helvetica,sans-Serif\" font-size=\"14.00\">model_code &lt;= 773.5</text>\n<text text-anchor=\"middle\" x=\"496\" y=\"-183.8\" font-family=\"Helvetica,sans-Serif\" font-size=\"14.00\">samples = 71.7%</text>\n<text text-anchor=\"middle\" x=\"496\" y=\"-168.8\" font-family=\"Helvetica,sans-Serif\" font-size=\"14.00\">value = [0.313, 0.369, 0.318]</text>\n</g>\n<!-- 0&#45;&gt;46146 -->\n<g id=\"edge8\" class=\"edge\">\n<title>0&#45;&gt;46146</title>\n<path fill=\"none\" stroke=\"black\" d=\"M425.46,-249.87C435.85,-240.83 447.66,-230.55 458.61,-221.03\"/>\n<polygon fill=\"black\" stroke=\"black\" points=\"461.16,-223.45 466.4,-214.25 456.56,-218.17 461.16,-223.45\"/>\n<text text-anchor=\"middle\" x=\"464.67\" y=\"-235.49\" font-family=\"Helvetica,sans-Serif\" font-size=\"14.00\">False</text>\n</g>\n<!-- 2 -->\n<g id=\"node3\" class=\"node\">\n<title>2</title>\n<polygon fill=\"#f1e8fc\" stroke=\"black\" points=\"188,-125 0,-125 0,-72 188,-72 188,-125\"/>\n<text text-anchor=\"middle\" x=\"94\" y=\"-109.8\" font-family=\"Helvetica,sans-Serif\" font-size=\"14.00\">model_code &lt;= 780.5</text>\n<text text-anchor=\"middle\" x=\"94\" y=\"-94.8\" font-family=\"Helvetica,sans-Serif\" font-size=\"14.00\">samples = 27.6%</text>\n<text text-anchor=\"middle\" x=\"94\" y=\"-79.8\" font-family=\"Helvetica,sans-Serif\" font-size=\"14.00\">value = [0.291, 0.315, 0.394]</text>\n</g>\n<!-- 1&#45;&gt;2 -->\n<g id=\"edge2\" class=\"edge\">\n<title>1&#45;&gt;2</title>\n<path fill=\"none\" stroke=\"black\" d=\"M237.46,-160.98C214.12,-150.98 187.19,-139.44 163,-129.07\"/>\n<polygon fill=\"black\" stroke=\"black\" points=\"164.1,-125.74 153.53,-125.01 161.35,-132.17 164.1,-125.74\"/>\n</g>\n<!-- 45335 -->\n<g id=\"node6\" class=\"node\">\n<title>45335</title>\n<polygon fill=\"#bd97f1\" stroke=\"black\" points=\"387.5,-125 206.5,-125 206.5,-72 387.5,-72 387.5,-125\"/>\n<text text-anchor=\"middle\" x=\"297\" y=\"-109.8\" font-family=\"Helvetica,sans-Serif\" font-size=\"14.00\">odometer_mms &lt;= 0.146</text>\n<text text-anchor=\"middle\" x=\"297\" y=\"-94.8\" font-family=\"Helvetica,sans-Serif\" font-size=\"14.00\">samples = 0.7%</text>\n<text text-anchor=\"middle\" x=\"297\" y=\"-79.8\" font-family=\"Helvetica,sans-Serif\" font-size=\"14.00\">value = [0.13, 0.232, 0.637]</text>\n</g>\n<!-- 1&#45;&gt;45335 -->\n<g id=\"edge5\" class=\"edge\">\n<title>1&#45;&gt;45335</title>\n<path fill=\"none\" stroke=\"black\" d=\"M297,-160.87C297,-152.89 297,-143.93 297,-135.38\"/>\n<polygon fill=\"black\" stroke=\"black\" points=\"300.5,-135.25 297,-125.25 293.5,-135.25 300.5,-135.25\"/>\n</g>\n<!-- 3 -->\n<g id=\"node4\" class=\"node\">\n<title>3</title>\n<polygon fill=\"#c0c0c0\" stroke=\"black\" points=\"85,-36 31,-36 31,0 85,0 85,-36\"/>\n<text text-anchor=\"middle\" x=\"58\" y=\"-14.3\" font-family=\"Helvetica,sans-Serif\" font-size=\"14.00\">(...)</text>\n</g>\n<!-- 2&#45;&gt;3 -->\n<g id=\"edge3\" class=\"edge\">\n<title>2&#45;&gt;3</title>\n<path fill=\"none\" stroke=\"black\" d=\"M82.21,-71.8C78.34,-63.35 74.03,-53.95 70.13,-45.45\"/>\n<polygon fill=\"black\" stroke=\"black\" points=\"73.3,-43.96 65.95,-36.33 66.93,-46.88 73.3,-43.96\"/>\n</g>\n<!-- 45002 -->\n<g id=\"node5\" class=\"node\">\n<title>45002</title>\n<polygon fill=\"#c0c0c0\" stroke=\"black\" points=\"157,-36 103,-36 103,0 157,0 157,-36\"/>\n<text text-anchor=\"middle\" x=\"130\" y=\"-14.3\" font-family=\"Helvetica,sans-Serif\" font-size=\"14.00\">(...)</text>\n</g>\n<!-- 2&#45;&gt;45002 -->\n<g id=\"edge4\" class=\"edge\">\n<title>2&#45;&gt;45002</title>\n<path fill=\"none\" stroke=\"black\" d=\"M105.79,-71.8C109.66,-63.35 113.97,-53.95 117.87,-45.45\"/>\n<polygon fill=\"black\" stroke=\"black\" points=\"121.07,-46.88 122.05,-36.33 114.7,-43.96 121.07,-46.88\"/>\n</g>\n<!-- 45336 -->\n<g id=\"node7\" class=\"node\">\n<title>45336</title>\n<polygon fill=\"#c0c0c0\" stroke=\"black\" points=\"302,-36 248,-36 248,0 302,0 302,-36\"/>\n<text text-anchor=\"middle\" x=\"275\" y=\"-14.3\" font-family=\"Helvetica,sans-Serif\" font-size=\"14.00\">(...)</text>\n</g>\n<!-- 45335&#45;&gt;45336 -->\n<g id=\"edge6\" class=\"edge\">\n<title>45335&#45;&gt;45336</title>\n<path fill=\"none\" stroke=\"black\" d=\"M289.8,-71.8C287.48,-63.53 284.91,-54.35 282.57,-46\"/>\n<polygon fill=\"black\" stroke=\"black\" points=\"285.93,-45.01 279.86,-36.33 279.19,-46.9 285.93,-45.01\"/>\n</g>\n<!-- 45967 -->\n<g id=\"node8\" class=\"node\">\n<title>45967</title>\n<polygon fill=\"#c0c0c0\" stroke=\"black\" points=\"374,-36 320,-36 320,0 374,0 374,-36\"/>\n<text text-anchor=\"middle\" x=\"347\" y=\"-14.3\" font-family=\"Helvetica,sans-Serif\" font-size=\"14.00\">(...)</text>\n</g>\n<!-- 45335&#45;&gt;45967 -->\n<g id=\"edge7\" class=\"edge\">\n<title>45335&#45;&gt;45967</title>\n<path fill=\"none\" stroke=\"black\" d=\"M313.37,-71.8C318.87,-63.17 325,-53.54 330.5,-44.9\"/>\n<polygon fill=\"black\" stroke=\"black\" points=\"333.54,-46.65 335.96,-36.33 327.64,-42.88 333.54,-46.65\"/>\n</g>\n<!-- 46147 -->\n<g id=\"node10\" class=\"node\">\n<title>46147</title>\n<polygon fill=\"#effdf5\" stroke=\"black\" points=\"586.5,-125 405.5,-125 405.5,-72 586.5,-72 586.5,-125\"/>\n<text text-anchor=\"middle\" x=\"496\" y=\"-109.8\" font-family=\"Helvetica,sans-Serif\" font-size=\"14.00\">seller_code &lt;= 830.5</text>\n<text text-anchor=\"middle\" x=\"496\" y=\"-94.8\" font-family=\"Helvetica,sans-Serif\" font-size=\"14.00\">samples = 71.3%</text>\n<text text-anchor=\"middle\" x=\"496\" y=\"-79.8\" font-family=\"Helvetica,sans-Serif\" font-size=\"14.00\">value = [0.315, 0.37, 0.315]</text>\n</g>\n<!-- 46146&#45;&gt;46147 -->\n<g id=\"edge9\" class=\"edge\">\n<title>46146&#45;&gt;46147</title>\n<path fill=\"none\" stroke=\"black\" d=\"M496,-160.87C496,-152.89 496,-143.93 496,-135.38\"/>\n<polygon fill=\"black\" stroke=\"black\" points=\"499.5,-135.25 496,-125.25 492.5,-135.25 499.5,-135.25\"/>\n</g>\n<!-- 165726 -->\n<g id=\"node13\" class=\"node\">\n<title>165726</title>\n<polygon fill=\"#c29ff2\" stroke=\"black\" points=\"793,-125 605,-125 605,-72 793,-72 793,-125\"/>\n<text text-anchor=\"middle\" x=\"699\" y=\"-109.8\" font-family=\"Helvetica,sans-Serif\" font-size=\"14.00\">seller_code &lt;= 3119.5</text>\n<text text-anchor=\"middle\" x=\"699\" y=\"-94.8\" font-family=\"Helvetica,sans-Serif\" font-size=\"14.00\">samples = 0.5%</text>\n<text text-anchor=\"middle\" x=\"699\" y=\"-79.8\" font-family=\"Helvetica,sans-Serif\" font-size=\"14.00\">value = [0.107, 0.269, 0.624]</text>\n</g>\n<!-- 46146&#45;&gt;165726 -->\n<g id=\"edge12\" class=\"edge\">\n<title>46146&#45;&gt;165726</title>\n<path fill=\"none\" stroke=\"black\" d=\"M555.54,-160.98C578.88,-150.98 605.81,-139.44 630,-129.07\"/>\n<polygon fill=\"black\" stroke=\"black\" points=\"631.65,-132.17 639.47,-125.01 628.9,-125.74 631.65,-132.17\"/>\n</g>\n<!-- 46148 -->\n<g id=\"node11\" class=\"node\">\n<title>46148</title>\n<polygon fill=\"#c0c0c0\" stroke=\"black\" points=\"473,-36 419,-36 419,0 473,0 473,-36\"/>\n<text text-anchor=\"middle\" x=\"446\" y=\"-14.3\" font-family=\"Helvetica,sans-Serif\" font-size=\"14.00\">(...)</text>\n</g>\n<!-- 46147&#45;&gt;46148 -->\n<g id=\"edge10\" class=\"edge\">\n<title>46147&#45;&gt;46148</title>\n<path fill=\"none\" stroke=\"black\" d=\"M479.63,-71.8C474.13,-63.17 468,-53.54 462.5,-44.9\"/>\n<polygon fill=\"black\" stroke=\"black\" points=\"465.36,-42.88 457.04,-36.33 459.46,-46.65 465.36,-42.88\"/>\n</g>\n<!-- 52969 -->\n<g id=\"node12\" class=\"node\">\n<title>52969</title>\n<polygon fill=\"#c0c0c0\" stroke=\"black\" points=\"545,-36 491,-36 491,0 545,0 545,-36\"/>\n<text text-anchor=\"middle\" x=\"518\" y=\"-14.3\" font-family=\"Helvetica,sans-Serif\" font-size=\"14.00\">(...)</text>\n</g>\n<!-- 46147&#45;&gt;52969 -->\n<g id=\"edge11\" class=\"edge\">\n<title>46147&#45;&gt;52969</title>\n<path fill=\"none\" stroke=\"black\" d=\"M503.2,-71.8C505.52,-63.53 508.09,-54.35 510.43,-46\"/>\n<polygon fill=\"black\" stroke=\"black\" points=\"513.81,-46.9 513.14,-36.33 507.07,-45.01 513.81,-46.9\"/>\n</g>\n<!-- 165727 -->\n<g id=\"node14\" class=\"node\">\n<title>165727</title>\n<polygon fill=\"#c0c0c0\" stroke=\"black\" points=\"690,-36 636,-36 636,0 690,0 690,-36\"/>\n<text text-anchor=\"middle\" x=\"663\" y=\"-14.3\" font-family=\"Helvetica,sans-Serif\" font-size=\"14.00\">(...)</text>\n</g>\n<!-- 165726&#45;&gt;165727 -->\n<g id=\"edge13\" class=\"edge\">\n<title>165726&#45;&gt;165727</title>\n<path fill=\"none\" stroke=\"black\" d=\"M687.21,-71.8C683.34,-63.35 679.03,-53.95 675.13,-45.45\"/>\n<polygon fill=\"black\" stroke=\"black\" points=\"678.3,-43.96 670.95,-36.33 671.93,-46.88 678.3,-43.96\"/>\n</g>\n<!-- 165810 -->\n<g id=\"node15\" class=\"node\">\n<title>165810</title>\n<polygon fill=\"#c0c0c0\" stroke=\"black\" points=\"762,-36 708,-36 708,0 762,0 762,-36\"/>\n<text text-anchor=\"middle\" x=\"735\" y=\"-14.3\" font-family=\"Helvetica,sans-Serif\" font-size=\"14.00\">(...)</text>\n</g>\n<!-- 165726&#45;&gt;165810 -->\n<g id=\"edge14\" class=\"edge\">\n<title>165726&#45;&gt;165810</title>\n<path fill=\"none\" stroke=\"black\" d=\"M710.79,-71.8C714.66,-63.35 718.97,-53.95 722.87,-45.45\"/>\n<polygon fill=\"black\" stroke=\"black\" points=\"726.07,-46.88 727.05,-36.33 719.7,-43.96 726.07,-46.88\"/>\n</g>\n</g>\n</svg>\n",
            "text/plain": [
              "<graphviz.sources.Source at 0x7c6cd1150c40>"
            ]
          },
          "metadata": {}
        }
      ]
    },
    {
      "cell_type": "code",
      "source": [
        "# Perform cross-validation with 5 folds\n",
        "cv_scores = cross_val_score(rf_classifier, df1_inputs_train, df1_output_train['Cluster_Label_x'], cv=5)\n",
        "\n",
        "# Print the cross-validation scores\n",
        "print(\"Cross-Validation Scores:\", cv_scores)\n",
        "print(\"Mean CV Score:\", cv_scores.mean())"
      ],
      "metadata": {
        "colab": {
          "base_uri": "https://localhost:8080/"
        },
        "id": "5ZjCMs61yhpT",
        "outputId": "a25cd573-94c4-4566-fc0e-ddafdcfcd839"
      },
      "execution_count": null,
      "outputs": [
        {
          "output_type": "stream",
          "name": "stdout",
          "text": [
            "Cross-Validation Scores: [0.42496811 0.42711353 0.42421431 0.42309328 0.42530491]\n",
            "Mean CV Score: 0.424938827573186\n"
          ]
        }
      ]
    },
    {
      "cell_type": "code",
      "source": [
        "# Export and visualize the first three decision trees\n",
        "for i in range(3):\n",
        "    tree = rf_classifier.estimators_[i]\n",
        "    dot_data = export_graphviz(tree,\n",
        "                               feature_names=df1_inputs_train.columns,\n",
        "                               filled=True,\n",
        "                               max_depth=2,\n",
        "                               impurity=False,\n",
        "                               proportion=True)\n",
        "    graph = graphviz.Source(dot_data)\n",
        "    display(graph)"
      ],
      "metadata": {
        "colab": {
          "base_uri": "https://localhost:8080/",
          "height": 1000
        },
        "id": "j6YlzxT2ypKA",
        "outputId": "6fb58ceb-2f42-470b-c170-75097a0a4f88"
      },
      "execution_count": null,
      "outputs": [
        {
          "output_type": "display_data",
          "data": {
            "image/svg+xml": "<?xml version=\"1.0\" encoding=\"UTF-8\" standalone=\"no\"?>\n<!DOCTYPE svg PUBLIC \"-//W3C//DTD SVG 1.1//EN\"\n \"http://www.w3.org/Graphics/SVG/1.1/DTD/svg11.dtd\">\n<!-- Generated by graphviz version 2.43.0 (0)\n -->\n<!-- Title: Tree Pages: 1 -->\n<svg width=\"796pt\" height=\"311pt\"\n viewBox=\"0.00 0.00 795.50 311.00\" xmlns=\"http://www.w3.org/2000/svg\" xmlns:xlink=\"http://www.w3.org/1999/xlink\">\n<g id=\"graph0\" class=\"graph\" transform=\"scale(1 1) rotate(0) translate(4 307)\">\n<title>Tree</title>\n<polygon fill=\"white\" stroke=\"transparent\" points=\"-4,4 -4,-307 791.5,-307 791.5,4 -4,4\"/>\n<!-- 0 -->\n<g id=\"node1\" class=\"node\">\n<title>0</title>\n<polygon fill=\"#fbfefd\" stroke=\"black\" points=\"491,-303 303,-303 303,-250 491,-250 491,-303\"/>\n<text text-anchor=\"middle\" x=\"397\" y=\"-287.8\" font-family=\"Helvetica,sans-Serif\" font-size=\"14.00\">mmr &lt;= 7987.5</text>\n<text text-anchor=\"middle\" x=\"397\" y=\"-272.8\" font-family=\"Helvetica,sans-Serif\" font-size=\"14.00\">samples = 100.0%</text>\n<text text-anchor=\"middle\" x=\"397\" y=\"-257.8\" font-family=\"Helvetica,sans-Serif\" font-size=\"14.00\">value = [0.306, 0.353, 0.341]</text>\n</g>\n<!-- 1 -->\n<g id=\"node2\" class=\"node\">\n<title>1</title>\n<polygon fill=\"#f1e9fc\" stroke=\"black\" points=\"390,-214 202,-214 202,-161 390,-161 390,-214\"/>\n<text text-anchor=\"middle\" x=\"296\" y=\"-198.8\" font-family=\"Helvetica,sans-Serif\" font-size=\"14.00\">trim_code &lt;= 1635.5</text>\n<text text-anchor=\"middle\" x=\"296\" y=\"-183.8\" font-family=\"Helvetica,sans-Serif\" font-size=\"14.00\">samples = 30.2%</text>\n<text text-anchor=\"middle\" x=\"296\" y=\"-168.8\" font-family=\"Helvetica,sans-Serif\" font-size=\"14.00\">value = [0.294, 0.315, 0.391]</text>\n</g>\n<!-- 0&#45;&gt;1 -->\n<g id=\"edge1\" class=\"edge\">\n<title>0&#45;&gt;1</title>\n<path fill=\"none\" stroke=\"black\" d=\"M367.24,-249.87C356.75,-240.83 344.82,-230.55 333.76,-221.03\"/>\n<polygon fill=\"black\" stroke=\"black\" points=\"335.75,-218.12 325.89,-214.25 331.19,-223.43 335.75,-218.12\"/>\n<text text-anchor=\"middle\" x=\"327.75\" y=\"-235.48\" font-family=\"Helvetica,sans-Serif\" font-size=\"14.00\">True</text>\n</g>\n<!-- 49802 -->\n<g id=\"node9\" class=\"node\">\n<title>49802</title>\n<polygon fill=\"#f0fdf5\" stroke=\"black\" points=\"589.5,-214 408.5,-214 408.5,-161 589.5,-161 589.5,-214\"/>\n<text text-anchor=\"middle\" x=\"499\" y=\"-198.8\" font-family=\"Helvetica,sans-Serif\" font-size=\"14.00\">odometer &lt;= 79397.0</text>\n<text text-anchor=\"middle\" x=\"499\" y=\"-183.8\" font-family=\"Helvetica,sans-Serif\" font-size=\"14.00\">samples = 69.8%</text>\n<text text-anchor=\"middle\" x=\"499\" y=\"-168.8\" font-family=\"Helvetica,sans-Serif\" font-size=\"14.00\">value = [0.311, 0.37, 0.318]</text>\n</g>\n<!-- 0&#45;&gt;49802 -->\n<g id=\"edge8\" class=\"edge\">\n<title>0&#45;&gt;49802</title>\n<path fill=\"none\" stroke=\"black\" d=\"M427.05,-249.87C437.75,-240.75 449.93,-230.35 461.19,-220.75\"/>\n<polygon fill=\"black\" stroke=\"black\" points=\"463.47,-223.4 468.81,-214.25 458.93,-218.08 463.47,-223.4\"/>\n<text text-anchor=\"middle\" x=\"466.83\" y=\"-235.47\" font-family=\"Helvetica,sans-Serif\" font-size=\"14.00\">False</text>\n</g>\n<!-- 2 -->\n<g id=\"node3\" class=\"node\">\n<title>2</title>\n<polygon fill=\"#f2ebfc\" stroke=\"black\" points=\"188,-125 0,-125 0,-72 188,-72 188,-125\"/>\n<text text-anchor=\"middle\" x=\"94\" y=\"-109.8\" font-family=\"Helvetica,sans-Serif\" font-size=\"14.00\">sellingprice &lt;= 2575.0</text>\n<text text-anchor=\"middle\" x=\"94\" y=\"-94.8\" font-family=\"Helvetica,sans-Serif\" font-size=\"14.00\">samples = 29.5%</text>\n<text text-anchor=\"middle\" x=\"94\" y=\"-79.8\" font-family=\"Helvetica,sans-Serif\" font-size=\"14.00\">value = [0.297, 0.317, 0.386]</text>\n</g>\n<!-- 1&#45;&gt;2 -->\n<g id=\"edge2\" class=\"edge\">\n<title>1&#45;&gt;2</title>\n<path fill=\"none\" stroke=\"black\" d=\"M236.76,-160.98C213.53,-150.98 186.73,-139.44 162.66,-129.07\"/>\n<polygon fill=\"black\" stroke=\"black\" points=\"163.81,-125.76 153.24,-125.01 161.04,-132.18 163.81,-125.76\"/>\n</g>\n<!-- 48925 -->\n<g id=\"node6\" class=\"node\">\n<title>48925</title>\n<polygon fill=\"#be99f2\" stroke=\"black\" points=\"387.5,-125 206.5,-125 206.5,-72 387.5,-72 387.5,-125\"/>\n<text text-anchor=\"middle\" x=\"297\" y=\"-109.8\" font-family=\"Helvetica,sans-Serif\" font-size=\"14.00\">sellingprice &lt;= 1625.0</text>\n<text text-anchor=\"middle\" x=\"297\" y=\"-94.8\" font-family=\"Helvetica,sans-Serif\" font-size=\"14.00\">samples = 0.7%</text>\n<text text-anchor=\"middle\" x=\"297\" y=\"-79.8\" font-family=\"Helvetica,sans-Serif\" font-size=\"14.00\">value = [0.15, 0.226, 0.624]</text>\n</g>\n<!-- 1&#45;&gt;48925 -->\n<g id=\"edge5\" class=\"edge\">\n<title>1&#45;&gt;48925</title>\n<path fill=\"none\" stroke=\"black\" d=\"M296.29,-160.87C296.39,-152.89 296.49,-143.93 296.59,-135.38\"/>\n<polygon fill=\"black\" stroke=\"black\" points=\"300.09,-135.29 296.7,-125.25 293.09,-135.21 300.09,-135.29\"/>\n</g>\n<!-- 3 -->\n<g id=\"node4\" class=\"node\">\n<title>3</title>\n<polygon fill=\"#c0c0c0\" stroke=\"black\" points=\"85,-36 31,-36 31,0 85,0 85,-36\"/>\n<text text-anchor=\"middle\" x=\"58\" y=\"-14.3\" font-family=\"Helvetica,sans-Serif\" font-size=\"14.00\">(...)</text>\n</g>\n<!-- 2&#45;&gt;3 -->\n<g id=\"edge3\" class=\"edge\">\n<title>2&#45;&gt;3</title>\n<path fill=\"none\" stroke=\"black\" d=\"M82.21,-71.8C78.34,-63.35 74.03,-53.95 70.13,-45.45\"/>\n<polygon fill=\"black\" stroke=\"black\" points=\"73.3,-43.96 65.95,-36.33 66.93,-46.88 73.3,-43.96\"/>\n</g>\n<!-- 16228 -->\n<g id=\"node5\" class=\"node\">\n<title>16228</title>\n<polygon fill=\"#c0c0c0\" stroke=\"black\" points=\"157,-36 103,-36 103,0 157,0 157,-36\"/>\n<text text-anchor=\"middle\" x=\"130\" y=\"-14.3\" font-family=\"Helvetica,sans-Serif\" font-size=\"14.00\">(...)</text>\n</g>\n<!-- 2&#45;&gt;16228 -->\n<g id=\"edge4\" class=\"edge\">\n<title>2&#45;&gt;16228</title>\n<path fill=\"none\" stroke=\"black\" d=\"M105.79,-71.8C109.66,-63.35 113.97,-53.95 117.87,-45.45\"/>\n<polygon fill=\"black\" stroke=\"black\" points=\"121.07,-46.88 122.05,-36.33 114.7,-43.96 121.07,-46.88\"/>\n</g>\n<!-- 48926 -->\n<g id=\"node7\" class=\"node\">\n<title>48926</title>\n<polygon fill=\"#c0c0c0\" stroke=\"black\" points=\"303,-36 249,-36 249,0 303,0 303,-36\"/>\n<text text-anchor=\"middle\" x=\"276\" y=\"-14.3\" font-family=\"Helvetica,sans-Serif\" font-size=\"14.00\">(...)</text>\n</g>\n<!-- 48925&#45;&gt;48926 -->\n<g id=\"edge6\" class=\"edge\">\n<title>48925&#45;&gt;48926</title>\n<path fill=\"none\" stroke=\"black\" d=\"M290.12,-71.8C287.91,-63.53 285.46,-54.35 283.22,-46\"/>\n<polygon fill=\"black\" stroke=\"black\" points=\"286.6,-45.09 280.64,-36.33 279.84,-46.9 286.6,-45.09\"/>\n</g>\n<!-- 49053 -->\n<g id=\"node8\" class=\"node\">\n<title>49053</title>\n<polygon fill=\"#c0c0c0\" stroke=\"black\" points=\"375,-36 321,-36 321,0 375,0 375,-36\"/>\n<text text-anchor=\"middle\" x=\"348\" y=\"-14.3\" font-family=\"Helvetica,sans-Serif\" font-size=\"14.00\">(...)</text>\n</g>\n<!-- 48925&#45;&gt;49053 -->\n<g id=\"edge7\" class=\"edge\">\n<title>48925&#45;&gt;49053</title>\n<path fill=\"none\" stroke=\"black\" d=\"M313.7,-71.8C319.31,-63.17 325.56,-53.54 331.17,-44.9\"/>\n<polygon fill=\"black\" stroke=\"black\" points=\"334.23,-46.62 336.74,-36.33 328.36,-42.81 334.23,-46.62\"/>\n</g>\n<!-- 49803 -->\n<g id=\"node10\" class=\"node\">\n<title>49803</title>\n<polygon fill=\"#ecfdf3\" stroke=\"black\" points=\"588.5,-125 407.5,-125 407.5,-72 588.5,-72 588.5,-125\"/>\n<text text-anchor=\"middle\" x=\"498\" y=\"-109.8\" font-family=\"Helvetica,sans-Serif\" font-size=\"14.00\">model_code &lt;= 779.5</text>\n<text text-anchor=\"middle\" x=\"498\" y=\"-94.8\" font-family=\"Helvetica,sans-Serif\" font-size=\"14.00\">samples = 60.0%</text>\n<text text-anchor=\"middle\" x=\"498\" y=\"-79.8\" font-family=\"Helvetica,sans-Serif\" font-size=\"14.00\">value = [0.31, 0.377, 0.313]</text>\n</g>\n<!-- 49802&#45;&gt;49803 -->\n<g id=\"edge9\" class=\"edge\">\n<title>49802&#45;&gt;49803</title>\n<path fill=\"none\" stroke=\"black\" d=\"M498.71,-160.87C498.61,-152.89 498.51,-143.93 498.41,-135.38\"/>\n<polygon fill=\"black\" stroke=\"black\" points=\"501.91,-135.21 498.3,-125.25 494.91,-135.29 501.91,-135.21\"/>\n</g>\n<!-- 150344 -->\n<g id=\"node13\" class=\"node\">\n<title>150344</title>\n<polygon fill=\"#faf8fe\" stroke=\"black\" points=\"787.5,-125 606.5,-125 606.5,-72 787.5,-72 787.5,-125\"/>\n<text text-anchor=\"middle\" x=\"697\" y=\"-109.8\" font-family=\"Helvetica,sans-Serif\" font-size=\"14.00\">model_code &lt;= 769.0</text>\n<text text-anchor=\"middle\" x=\"697\" y=\"-94.8\" font-family=\"Helvetica,sans-Serif\" font-size=\"14.00\">samples = 9.8%</text>\n<text text-anchor=\"middle\" x=\"697\" y=\"-79.8\" font-family=\"Helvetica,sans-Serif\" font-size=\"14.00\">value = [0.32, 0.328, 0.353]</text>\n</g>\n<!-- 49802&#45;&gt;150344 -->\n<g id=\"edge12\" class=\"edge\">\n<title>49802&#45;&gt;150344</title>\n<path fill=\"none\" stroke=\"black\" d=\"M557.07,-160.98C579.84,-150.98 606.11,-139.44 629.7,-129.07\"/>\n<polygon fill=\"black\" stroke=\"black\" points=\"631.19,-132.24 638.93,-125.01 628.37,-125.83 631.19,-132.24\"/>\n</g>\n<!-- 49804 -->\n<g id=\"node11\" class=\"node\">\n<title>49804</title>\n<polygon fill=\"#c0c0c0\" stroke=\"black\" points=\"474,-36 420,-36 420,0 474,0 474,-36\"/>\n<text text-anchor=\"middle\" x=\"447\" y=\"-14.3\" font-family=\"Helvetica,sans-Serif\" font-size=\"14.00\">(...)</text>\n</g>\n<!-- 49803&#45;&gt;49804 -->\n<g id=\"edge10\" class=\"edge\">\n<title>49803&#45;&gt;49804</title>\n<path fill=\"none\" stroke=\"black\" d=\"M481.3,-71.8C475.69,-63.17 469.44,-53.54 463.83,-44.9\"/>\n<polygon fill=\"black\" stroke=\"black\" points=\"466.64,-42.81 458.26,-36.33 460.77,-46.62 466.64,-42.81\"/>\n</g>\n<!-- 150019 -->\n<g id=\"node12\" class=\"node\">\n<title>150019</title>\n<polygon fill=\"#c0c0c0\" stroke=\"black\" points=\"546,-36 492,-36 492,0 546,0 546,-36\"/>\n<text text-anchor=\"middle\" x=\"519\" y=\"-14.3\" font-family=\"Helvetica,sans-Serif\" font-size=\"14.00\">(...)</text>\n</g>\n<!-- 49803&#45;&gt;150019 -->\n<g id=\"edge11\" class=\"edge\">\n<title>49803&#45;&gt;150019</title>\n<path fill=\"none\" stroke=\"black\" d=\"M504.88,-71.8C507.09,-63.53 509.54,-54.35 511.78,-46\"/>\n<polygon fill=\"black\" stroke=\"black\" points=\"515.16,-46.9 514.36,-36.33 508.4,-45.09 515.16,-46.9\"/>\n</g>\n<!-- 150345 -->\n<g id=\"node14\" class=\"node\">\n<title>150345</title>\n<polygon fill=\"#c0c0c0\" stroke=\"black\" points=\"688,-36 634,-36 634,0 688,0 688,-36\"/>\n<text text-anchor=\"middle\" x=\"661\" y=\"-14.3\" font-family=\"Helvetica,sans-Serif\" font-size=\"14.00\">(...)</text>\n</g>\n<!-- 150344&#45;&gt;150345 -->\n<g id=\"edge13\" class=\"edge\">\n<title>150344&#45;&gt;150345</title>\n<path fill=\"none\" stroke=\"black\" d=\"M685.21,-71.8C681.34,-63.35 677.03,-53.95 673.13,-45.45\"/>\n<polygon fill=\"black\" stroke=\"black\" points=\"676.3,-43.96 668.95,-36.33 669.93,-46.88 676.3,-43.96\"/>\n</g>\n<!-- 166312 -->\n<g id=\"node15\" class=\"node\">\n<title>166312</title>\n<polygon fill=\"#c0c0c0\" stroke=\"black\" points=\"760,-36 706,-36 706,0 760,0 760,-36\"/>\n<text text-anchor=\"middle\" x=\"733\" y=\"-14.3\" font-family=\"Helvetica,sans-Serif\" font-size=\"14.00\">(...)</text>\n</g>\n<!-- 150344&#45;&gt;166312 -->\n<g id=\"edge14\" class=\"edge\">\n<title>150344&#45;&gt;166312</title>\n<path fill=\"none\" stroke=\"black\" d=\"M708.79,-71.8C712.66,-63.35 716.97,-53.95 720.87,-45.45\"/>\n<polygon fill=\"black\" stroke=\"black\" points=\"724.07,-46.88 725.05,-36.33 717.7,-43.96 724.07,-46.88\"/>\n</g>\n</g>\n</svg>\n",
            "text/plain": [
              "<graphviz.sources.Source at 0x7c6cd19fff10>"
            ]
          },
          "metadata": {}
        },
        {
          "output_type": "display_data",
          "data": {
            "image/svg+xml": "<?xml version=\"1.0\" encoding=\"UTF-8\" standalone=\"no\"?>\n<!DOCTYPE svg PUBLIC \"-//W3C//DTD SVG 1.1//EN\"\n \"http://www.w3.org/Graphics/SVG/1.1/DTD/svg11.dtd\">\n<!-- Generated by graphviz version 2.43.0 (0)\n -->\n<!-- Title: Tree Pages: 1 -->\n<svg width=\"809pt\" height=\"311pt\"\n viewBox=\"0.00 0.00 809.00 311.00\" xmlns=\"http://www.w3.org/2000/svg\" xmlns:xlink=\"http://www.w3.org/1999/xlink\">\n<g id=\"graph0\" class=\"graph\" transform=\"scale(1 1) rotate(0) translate(4 307)\">\n<title>Tree</title>\n<polygon fill=\"white\" stroke=\"transparent\" points=\"-4,4 -4,-307 805,-307 805,4 -4,4\"/>\n<!-- 0 -->\n<g id=\"node1\" class=\"node\">\n<title>0</title>\n<polygon fill=\"#fcfffd\" stroke=\"black\" points=\"496,-303 308,-303 308,-250 496,-250 496,-303\"/>\n<text text-anchor=\"middle\" x=\"402\" y=\"-287.8\" font-family=\"Helvetica,sans-Serif\" font-size=\"14.00\">mmr_mms &lt;= 0.044</text>\n<text text-anchor=\"middle\" x=\"402\" y=\"-272.8\" font-family=\"Helvetica,sans-Serif\" font-size=\"14.00\">samples = 100.0%</text>\n<text text-anchor=\"middle\" x=\"402\" y=\"-257.8\" font-family=\"Helvetica,sans-Serif\" font-size=\"14.00\">value = [0.307, 0.352, 0.342]</text>\n</g>\n<!-- 1 -->\n<g id=\"node2\" class=\"node\">\n<title>1</title>\n<polygon fill=\"#f0e7fc\" stroke=\"black\" points=\"393,-214 205,-214 205,-161 393,-161 393,-214\"/>\n<text text-anchor=\"middle\" x=\"299\" y=\"-198.8\" font-family=\"Helvetica,sans-Serif\" font-size=\"14.00\">trim_code &lt;= 1635.5</text>\n<text text-anchor=\"middle\" x=\"299\" y=\"-183.8\" font-family=\"Helvetica,sans-Serif\" font-size=\"14.00\">samples = 30.3%</text>\n<text text-anchor=\"middle\" x=\"299\" y=\"-168.8\" font-family=\"Helvetica,sans-Serif\" font-size=\"14.00\">value = [0.294, 0.311, 0.395]</text>\n</g>\n<!-- 0&#45;&gt;1 -->\n<g id=\"edge1\" class=\"edge\">\n<title>0&#45;&gt;1</title>\n<path fill=\"none\" stroke=\"black\" d=\"M371.65,-249.87C360.85,-240.75 348.55,-230.35 337.18,-220.75\"/>\n<polygon fill=\"black\" stroke=\"black\" points=\"339.38,-218.03 329.49,-214.25 334.87,-223.38 339.38,-218.03\"/>\n<text text-anchor=\"middle\" x=\"331.58\" y=\"-235.46\" font-family=\"Helvetica,sans-Serif\" font-size=\"14.00\">True</text>\n</g>\n<!-- 49662 -->\n<g id=\"node9\" class=\"node\">\n<title>49662</title>\n<polygon fill=\"#f0fdf6\" stroke=\"black\" points=\"599,-214 411,-214 411,-161 599,-161 599,-214\"/>\n<text text-anchor=\"middle\" x=\"505\" y=\"-198.8\" font-family=\"Helvetica,sans-Serif\" font-size=\"14.00\">model_code &lt;= 779.5</text>\n<text text-anchor=\"middle\" x=\"505\" y=\"-183.8\" font-family=\"Helvetica,sans-Serif\" font-size=\"14.00\">samples = 69.7%</text>\n<text text-anchor=\"middle\" x=\"505\" y=\"-168.8\" font-family=\"Helvetica,sans-Serif\" font-size=\"14.00\">value = [0.312, 0.369, 0.319]</text>\n</g>\n<!-- 0&#45;&gt;49662 -->\n<g id=\"edge8\" class=\"edge\">\n<title>0&#45;&gt;49662</title>\n<path fill=\"none\" stroke=\"black\" d=\"M432.35,-249.87C443.15,-240.75 455.45,-230.35 466.82,-220.75\"/>\n<polygon fill=\"black\" stroke=\"black\" points=\"469.13,-223.38 474.51,-214.25 464.62,-218.03 469.13,-223.38\"/>\n<text text-anchor=\"middle\" x=\"472.42\" y=\"-235.46\" font-family=\"Helvetica,sans-Serif\" font-size=\"14.00\">False</text>\n</g>\n<!-- 2 -->\n<g id=\"node3\" class=\"node\">\n<title>2</title>\n<polygon fill=\"#f1e9fc\" stroke=\"black\" points=\"188,-125 0,-125 0,-72 188,-72 188,-125\"/>\n<text text-anchor=\"middle\" x=\"94\" y=\"-109.8\" font-family=\"Helvetica,sans-Serif\" font-size=\"14.00\">mmr_mms &lt;= 0.017</text>\n<text text-anchor=\"middle\" x=\"94\" y=\"-94.8\" font-family=\"Helvetica,sans-Serif\" font-size=\"14.00\">samples = 29.5%</text>\n<text text-anchor=\"middle\" x=\"94\" y=\"-79.8\" font-family=\"Helvetica,sans-Serif\" font-size=\"14.00\">value = [0.298, 0.313, 0.389]</text>\n</g>\n<!-- 1&#45;&gt;2 -->\n<g id=\"edge2\" class=\"edge\">\n<title>1&#45;&gt;2</title>\n<path fill=\"none\" stroke=\"black\" d=\"M238.88,-160.98C215.2,-150.94 187.87,-139.34 163.36,-128.94\"/>\n<polygon fill=\"black\" stroke=\"black\" points=\"164.69,-125.7 154.12,-125.01 161.96,-132.14 164.69,-125.7\"/>\n</g>\n<!-- 48723 -->\n<g id=\"node6\" class=\"node\">\n<title>48723</title>\n<polygon fill=\"#bc95f1\" stroke=\"black\" points=\"394,-125 206,-125 206,-72 394,-72 394,-125\"/>\n<text text-anchor=\"middle\" x=\"300\" y=\"-109.8\" font-family=\"Helvetica,sans-Serif\" font-size=\"14.00\">trim_code &lt;= 1802.5</text>\n<text text-anchor=\"middle\" x=\"300\" y=\"-94.8\" font-family=\"Helvetica,sans-Serif\" font-size=\"14.00\">samples = 0.8%</text>\n<text text-anchor=\"middle\" x=\"300\" y=\"-79.8\" font-family=\"Helvetica,sans-Serif\" font-size=\"14.00\">value = [0.156, 0.212, 0.632]</text>\n</g>\n<!-- 1&#45;&gt;48723 -->\n<g id=\"edge5\" class=\"edge\">\n<title>1&#45;&gt;48723</title>\n<path fill=\"none\" stroke=\"black\" d=\"M299.29,-160.87C299.39,-152.89 299.49,-143.93 299.59,-135.38\"/>\n<polygon fill=\"black\" stroke=\"black\" points=\"303.09,-135.29 299.7,-125.25 296.09,-135.21 303.09,-135.29\"/>\n</g>\n<!-- 3 -->\n<g id=\"node4\" class=\"node\">\n<title>3</title>\n<polygon fill=\"#c0c0c0\" stroke=\"black\" points=\"85,-36 31,-36 31,0 85,0 85,-36\"/>\n<text text-anchor=\"middle\" x=\"58\" y=\"-14.3\" font-family=\"Helvetica,sans-Serif\" font-size=\"14.00\">(...)</text>\n</g>\n<!-- 2&#45;&gt;3 -->\n<g id=\"edge3\" class=\"edge\">\n<title>2&#45;&gt;3</title>\n<path fill=\"none\" stroke=\"black\" d=\"M82.21,-71.8C78.34,-63.35 74.03,-53.95 70.13,-45.45\"/>\n<polygon fill=\"black\" stroke=\"black\" points=\"73.3,-43.96 65.95,-36.33 66.93,-46.88 73.3,-43.96\"/>\n</g>\n<!-- 17200 -->\n<g id=\"node5\" class=\"node\">\n<title>17200</title>\n<polygon fill=\"#c0c0c0\" stroke=\"black\" points=\"157,-36 103,-36 103,0 157,0 157,-36\"/>\n<text text-anchor=\"middle\" x=\"130\" y=\"-14.3\" font-family=\"Helvetica,sans-Serif\" font-size=\"14.00\">(...)</text>\n</g>\n<!-- 2&#45;&gt;17200 -->\n<g id=\"edge4\" class=\"edge\">\n<title>2&#45;&gt;17200</title>\n<path fill=\"none\" stroke=\"black\" d=\"M105.79,-71.8C109.66,-63.35 113.97,-53.95 117.87,-45.45\"/>\n<polygon fill=\"black\" stroke=\"black\" points=\"121.07,-46.88 122.05,-36.33 114.7,-43.96 121.07,-46.88\"/>\n</g>\n<!-- 48724 -->\n<g id=\"node7\" class=\"node\">\n<title>48724</title>\n<polygon fill=\"#c0c0c0\" stroke=\"black\" points=\"306,-36 252,-36 252,0 306,0 306,-36\"/>\n<text text-anchor=\"middle\" x=\"279\" y=\"-14.3\" font-family=\"Helvetica,sans-Serif\" font-size=\"14.00\">(...)</text>\n</g>\n<!-- 48723&#45;&gt;48724 -->\n<g id=\"edge6\" class=\"edge\">\n<title>48723&#45;&gt;48724</title>\n<path fill=\"none\" stroke=\"black\" d=\"M293.12,-71.8C290.91,-63.53 288.46,-54.35 286.22,-46\"/>\n<polygon fill=\"black\" stroke=\"black\" points=\"289.6,-45.09 283.64,-36.33 282.84,-46.9 289.6,-45.09\"/>\n</g>\n<!-- 48897 -->\n<g id=\"node8\" class=\"node\">\n<title>48897</title>\n<polygon fill=\"#c0c0c0\" stroke=\"black\" points=\"378,-36 324,-36 324,0 378,0 378,-36\"/>\n<text text-anchor=\"middle\" x=\"351\" y=\"-14.3\" font-family=\"Helvetica,sans-Serif\" font-size=\"14.00\">(...)</text>\n</g>\n<!-- 48723&#45;&gt;48897 -->\n<g id=\"edge7\" class=\"edge\">\n<title>48723&#45;&gt;48897</title>\n<path fill=\"none\" stroke=\"black\" d=\"M316.7,-71.8C322.31,-63.17 328.56,-53.54 334.17,-44.9\"/>\n<polygon fill=\"black\" stroke=\"black\" points=\"337.23,-46.62 339.74,-36.33 331.36,-42.81 337.23,-46.62\"/>\n</g>\n<!-- 49663 -->\n<g id=\"node10\" class=\"node\">\n<title>49663</title>\n<polygon fill=\"#f0fdf5\" stroke=\"black\" points=\"594.5,-125 413.5,-125 413.5,-72 594.5,-72 594.5,-125\"/>\n<text text-anchor=\"middle\" x=\"504\" y=\"-109.8\" font-family=\"Helvetica,sans-Serif\" font-size=\"14.00\">sellingprice &lt;= 7875.0</text>\n<text text-anchor=\"middle\" x=\"504\" y=\"-94.8\" font-family=\"Helvetica,sans-Serif\" font-size=\"14.00\">samples = 69.3%</text>\n<text text-anchor=\"middle\" x=\"504\" y=\"-79.8\" font-family=\"Helvetica,sans-Serif\" font-size=\"14.00\">value = [0.313, 0.37, 0.317]</text>\n</g>\n<!-- 49662&#45;&gt;49663 -->\n<g id=\"edge9\" class=\"edge\">\n<title>49662&#45;&gt;49663</title>\n<path fill=\"none\" stroke=\"black\" d=\"M504.71,-160.87C504.61,-152.89 504.51,-143.93 504.41,-135.38\"/>\n<polygon fill=\"black\" stroke=\"black\" points=\"507.91,-135.21 504.3,-125.25 500.91,-135.29 507.91,-135.21\"/>\n</g>\n<!-- 166232 -->\n<g id=\"node13\" class=\"node\">\n<title>166232</title>\n<polygon fill=\"#be99f2\" stroke=\"black\" points=\"801,-125 613,-125 613,-72 801,-72 801,-125\"/>\n<text text-anchor=\"middle\" x=\"707\" y=\"-109.8\" font-family=\"Helvetica,sans-Serif\" font-size=\"14.00\">odometer_mms &lt;= 0.066</text>\n<text text-anchor=\"middle\" x=\"707\" y=\"-94.8\" font-family=\"Helvetica,sans-Serif\" font-size=\"14.00\">samples = 0.4%</text>\n<text text-anchor=\"middle\" x=\"707\" y=\"-79.8\" font-family=\"Helvetica,sans-Serif\" font-size=\"14.00\">value = [0.119, 0.246, 0.635]</text>\n</g>\n<!-- 49662&#45;&gt;166232 -->\n<g id=\"edge12\" class=\"edge\">\n<title>49662&#45;&gt;166232</title>\n<path fill=\"none\" stroke=\"black\" d=\"M564.24,-160.98C587.47,-150.98 614.27,-139.44 638.34,-129.07\"/>\n<polygon fill=\"black\" stroke=\"black\" points=\"639.96,-132.18 647.76,-125.01 637.19,-125.76 639.96,-132.18\"/>\n</g>\n<!-- 49664 -->\n<g id=\"node11\" class=\"node\">\n<title>49664</title>\n<polygon fill=\"#c0c0c0\" stroke=\"black\" points=\"479,-36 425,-36 425,0 479,0 479,-36\"/>\n<text text-anchor=\"middle\" x=\"452\" y=\"-14.3\" font-family=\"Helvetica,sans-Serif\" font-size=\"14.00\">(...)</text>\n</g>\n<!-- 49663&#45;&gt;49664 -->\n<g id=\"edge10\" class=\"edge\">\n<title>49663&#45;&gt;49664</title>\n<path fill=\"none\" stroke=\"black\" d=\"M486.97,-71.8C481.26,-63.17 474.88,-53.54 469.16,-44.9\"/>\n<polygon fill=\"black\" stroke=\"black\" points=\"471.92,-42.73 463.48,-36.33 466.08,-46.6 471.92,-42.73\"/>\n</g>\n<!-- 53641 -->\n<g id=\"node12\" class=\"node\">\n<title>53641</title>\n<polygon fill=\"#c0c0c0\" stroke=\"black\" points=\"551,-36 497,-36 497,0 551,0 551,-36\"/>\n<text text-anchor=\"middle\" x=\"524\" y=\"-14.3\" font-family=\"Helvetica,sans-Serif\" font-size=\"14.00\">(...)</text>\n</g>\n<!-- 49663&#45;&gt;53641 -->\n<g id=\"edge11\" class=\"edge\">\n<title>49663&#45;&gt;53641</title>\n<path fill=\"none\" stroke=\"black\" d=\"M510.55,-71.8C512.63,-63.62 514.94,-54.55 517.05,-46.27\"/>\n<polygon fill=\"black\" stroke=\"black\" points=\"520.51,-46.88 519.58,-36.33 513.72,-45.16 520.51,-46.88\"/>\n</g>\n<!-- 166233 -->\n<g id=\"node14\" class=\"node\">\n<title>166233</title>\n<polygon fill=\"#c0c0c0\" stroke=\"black\" points=\"698,-36 644,-36 644,0 698,0 698,-36\"/>\n<text text-anchor=\"middle\" x=\"671\" y=\"-14.3\" font-family=\"Helvetica,sans-Serif\" font-size=\"14.00\">(...)</text>\n</g>\n<!-- 166232&#45;&gt;166233 -->\n<g id=\"edge13\" class=\"edge\">\n<title>166232&#45;&gt;166233</title>\n<path fill=\"none\" stroke=\"black\" d=\"M695.21,-71.8C691.34,-63.35 687.03,-53.95 683.13,-45.45\"/>\n<polygon fill=\"black\" stroke=\"black\" points=\"686.3,-43.96 678.95,-36.33 679.93,-46.88 686.3,-43.96\"/>\n</g>\n<!-- 166588 -->\n<g id=\"node15\" class=\"node\">\n<title>166588</title>\n<polygon fill=\"#c0c0c0\" stroke=\"black\" points=\"770,-36 716,-36 716,0 770,0 770,-36\"/>\n<text text-anchor=\"middle\" x=\"743\" y=\"-14.3\" font-family=\"Helvetica,sans-Serif\" font-size=\"14.00\">(...)</text>\n</g>\n<!-- 166232&#45;&gt;166588 -->\n<g id=\"edge14\" class=\"edge\">\n<title>166232&#45;&gt;166588</title>\n<path fill=\"none\" stroke=\"black\" d=\"M718.79,-71.8C722.66,-63.35 726.97,-53.95 730.87,-45.45\"/>\n<polygon fill=\"black\" stroke=\"black\" points=\"734.07,-46.88 735.05,-36.33 727.7,-43.96 734.07,-46.88\"/>\n</g>\n</g>\n</svg>\n",
            "text/plain": [
              "<graphviz.sources.Source at 0x7c6cd11508b0>"
            ]
          },
          "metadata": {}
        },
        {
          "output_type": "display_data",
          "data": {
            "image/svg+xml": "<?xml version=\"1.0\" encoding=\"UTF-8\" standalone=\"no\"?>\n<!DOCTYPE svg PUBLIC \"-//W3C//DTD SVG 1.1//EN\"\n \"http://www.w3.org/Graphics/SVG/1.1/DTD/svg11.dtd\">\n<!-- Generated by graphviz version 2.43.0 (0)\n -->\n<!-- Title: Tree Pages: 1 -->\n<svg width=\"801pt\" height=\"311pt\"\n viewBox=\"0.00 0.00 801.00 311.00\" xmlns=\"http://www.w3.org/2000/svg\" xmlns:xlink=\"http://www.w3.org/1999/xlink\">\n<g id=\"graph0\" class=\"graph\" transform=\"scale(1 1) rotate(0) translate(4 307)\">\n<title>Tree</title>\n<polygon fill=\"white\" stroke=\"transparent\" points=\"-4,4 -4,-307 797,-307 797,4 -4,4\"/>\n<!-- 0 -->\n<g id=\"node1\" class=\"node\">\n<title>0</title>\n<polygon fill=\"#fbfffd\" stroke=\"black\" points=\"490,-303 302,-303 302,-250 490,-250 490,-303\"/>\n<text text-anchor=\"middle\" x=\"396\" y=\"-287.8\" font-family=\"Helvetica,sans-Serif\" font-size=\"14.00\">sellingprice &lt;= 7175.0</text>\n<text text-anchor=\"middle\" x=\"396\" y=\"-272.8\" font-family=\"Helvetica,sans-Serif\" font-size=\"14.00\">samples = 100.0%</text>\n<text text-anchor=\"middle\" x=\"396\" y=\"-257.8\" font-family=\"Helvetica,sans-Serif\" font-size=\"14.00\">value = [0.306, 0.353, 0.341]</text>\n</g>\n<!-- 1 -->\n<g id=\"node2\" class=\"node\">\n<title>1</title>\n<polygon fill=\"#efe6fc\" stroke=\"black\" points=\"383.5,-214 210.5,-214 210.5,-161 383.5,-161 383.5,-214\"/>\n<text text-anchor=\"middle\" x=\"297\" y=\"-198.8\" font-family=\"Helvetica,sans-Serif\" font-size=\"14.00\">trim_code &lt;= 1637.0</text>\n<text text-anchor=\"middle\" x=\"297\" y=\"-183.8\" font-family=\"Helvetica,sans-Serif\" font-size=\"14.00\">samples = 28.3%</text>\n<text text-anchor=\"middle\" x=\"297\" y=\"-168.8\" font-family=\"Helvetica,sans-Serif\" font-size=\"14.00\">value = [0.287, 0.313, 0.4]</text>\n</g>\n<!-- 0&#45;&gt;1 -->\n<g id=\"edge1\" class=\"edge\">\n<title>0&#45;&gt;1</title>\n<path fill=\"none\" stroke=\"black\" d=\"M366.83,-249.87C356.55,-240.83 344.85,-230.55 334.01,-221.03\"/>\n<polygon fill=\"black\" stroke=\"black\" points=\"336.12,-218.22 326.3,-214.25 331.5,-223.48 336.12,-218.22\"/>\n<text text-anchor=\"middle\" x=\"327.91\" y=\"-235.5\" font-family=\"Helvetica,sans-Serif\" font-size=\"14.00\">True</text>\n</g>\n<!-- 46146 -->\n<g id=\"node9\" class=\"node\">\n<title>46146</title>\n<polygon fill=\"#f0fdf5\" stroke=\"black\" points=\"590,-214 402,-214 402,-161 590,-161 590,-214\"/>\n<text text-anchor=\"middle\" x=\"496\" y=\"-198.8\" font-family=\"Helvetica,sans-Serif\" font-size=\"14.00\">model_code &lt;= 773.5</text>\n<text text-anchor=\"middle\" x=\"496\" y=\"-183.8\" font-family=\"Helvetica,sans-Serif\" font-size=\"14.00\">samples = 71.7%</text>\n<text text-anchor=\"middle\" x=\"496\" y=\"-168.8\" font-family=\"Helvetica,sans-Serif\" font-size=\"14.00\">value = [0.313, 0.369, 0.318]</text>\n</g>\n<!-- 0&#45;&gt;46146 -->\n<g id=\"edge8\" class=\"edge\">\n<title>0&#45;&gt;46146</title>\n<path fill=\"none\" stroke=\"black\" d=\"M425.46,-249.87C435.85,-240.83 447.66,-230.55 458.61,-221.03\"/>\n<polygon fill=\"black\" stroke=\"black\" points=\"461.16,-223.45 466.4,-214.25 456.56,-218.17 461.16,-223.45\"/>\n<text text-anchor=\"middle\" x=\"464.67\" y=\"-235.49\" font-family=\"Helvetica,sans-Serif\" font-size=\"14.00\">False</text>\n</g>\n<!-- 2 -->\n<g id=\"node3\" class=\"node\">\n<title>2</title>\n<polygon fill=\"#f1e8fc\" stroke=\"black\" points=\"188,-125 0,-125 0,-72 188,-72 188,-125\"/>\n<text text-anchor=\"middle\" x=\"94\" y=\"-109.8\" font-family=\"Helvetica,sans-Serif\" font-size=\"14.00\">model_code &lt;= 780.5</text>\n<text text-anchor=\"middle\" x=\"94\" y=\"-94.8\" font-family=\"Helvetica,sans-Serif\" font-size=\"14.00\">samples = 27.6%</text>\n<text text-anchor=\"middle\" x=\"94\" y=\"-79.8\" font-family=\"Helvetica,sans-Serif\" font-size=\"14.00\">value = [0.291, 0.315, 0.394]</text>\n</g>\n<!-- 1&#45;&gt;2 -->\n<g id=\"edge2\" class=\"edge\">\n<title>1&#45;&gt;2</title>\n<path fill=\"none\" stroke=\"black\" d=\"M237.46,-160.98C214.12,-150.98 187.19,-139.44 163,-129.07\"/>\n<polygon fill=\"black\" stroke=\"black\" points=\"164.1,-125.74 153.53,-125.01 161.35,-132.17 164.1,-125.74\"/>\n</g>\n<!-- 45335 -->\n<g id=\"node6\" class=\"node\">\n<title>45335</title>\n<polygon fill=\"#bd97f1\" stroke=\"black\" points=\"387.5,-125 206.5,-125 206.5,-72 387.5,-72 387.5,-125\"/>\n<text text-anchor=\"middle\" x=\"297\" y=\"-109.8\" font-family=\"Helvetica,sans-Serif\" font-size=\"14.00\">odometer_mms &lt;= 0.146</text>\n<text text-anchor=\"middle\" x=\"297\" y=\"-94.8\" font-family=\"Helvetica,sans-Serif\" font-size=\"14.00\">samples = 0.7%</text>\n<text text-anchor=\"middle\" x=\"297\" y=\"-79.8\" font-family=\"Helvetica,sans-Serif\" font-size=\"14.00\">value = [0.13, 0.232, 0.637]</text>\n</g>\n<!-- 1&#45;&gt;45335 -->\n<g id=\"edge5\" class=\"edge\">\n<title>1&#45;&gt;45335</title>\n<path fill=\"none\" stroke=\"black\" d=\"M297,-160.87C297,-152.89 297,-143.93 297,-135.38\"/>\n<polygon fill=\"black\" stroke=\"black\" points=\"300.5,-135.25 297,-125.25 293.5,-135.25 300.5,-135.25\"/>\n</g>\n<!-- 3 -->\n<g id=\"node4\" class=\"node\">\n<title>3</title>\n<polygon fill=\"#c0c0c0\" stroke=\"black\" points=\"85,-36 31,-36 31,0 85,0 85,-36\"/>\n<text text-anchor=\"middle\" x=\"58\" y=\"-14.3\" font-family=\"Helvetica,sans-Serif\" font-size=\"14.00\">(...)</text>\n</g>\n<!-- 2&#45;&gt;3 -->\n<g id=\"edge3\" class=\"edge\">\n<title>2&#45;&gt;3</title>\n<path fill=\"none\" stroke=\"black\" d=\"M82.21,-71.8C78.34,-63.35 74.03,-53.95 70.13,-45.45\"/>\n<polygon fill=\"black\" stroke=\"black\" points=\"73.3,-43.96 65.95,-36.33 66.93,-46.88 73.3,-43.96\"/>\n</g>\n<!-- 45002 -->\n<g id=\"node5\" class=\"node\">\n<title>45002</title>\n<polygon fill=\"#c0c0c0\" stroke=\"black\" points=\"157,-36 103,-36 103,0 157,0 157,-36\"/>\n<text text-anchor=\"middle\" x=\"130\" y=\"-14.3\" font-family=\"Helvetica,sans-Serif\" font-size=\"14.00\">(...)</text>\n</g>\n<!-- 2&#45;&gt;45002 -->\n<g id=\"edge4\" class=\"edge\">\n<title>2&#45;&gt;45002</title>\n<path fill=\"none\" stroke=\"black\" d=\"M105.79,-71.8C109.66,-63.35 113.97,-53.95 117.87,-45.45\"/>\n<polygon fill=\"black\" stroke=\"black\" points=\"121.07,-46.88 122.05,-36.33 114.7,-43.96 121.07,-46.88\"/>\n</g>\n<!-- 45336 -->\n<g id=\"node7\" class=\"node\">\n<title>45336</title>\n<polygon fill=\"#c0c0c0\" stroke=\"black\" points=\"302,-36 248,-36 248,0 302,0 302,-36\"/>\n<text text-anchor=\"middle\" x=\"275\" y=\"-14.3\" font-family=\"Helvetica,sans-Serif\" font-size=\"14.00\">(...)</text>\n</g>\n<!-- 45335&#45;&gt;45336 -->\n<g id=\"edge6\" class=\"edge\">\n<title>45335&#45;&gt;45336</title>\n<path fill=\"none\" stroke=\"black\" d=\"M289.8,-71.8C287.48,-63.53 284.91,-54.35 282.57,-46\"/>\n<polygon fill=\"black\" stroke=\"black\" points=\"285.93,-45.01 279.86,-36.33 279.19,-46.9 285.93,-45.01\"/>\n</g>\n<!-- 45967 -->\n<g id=\"node8\" class=\"node\">\n<title>45967</title>\n<polygon fill=\"#c0c0c0\" stroke=\"black\" points=\"374,-36 320,-36 320,0 374,0 374,-36\"/>\n<text text-anchor=\"middle\" x=\"347\" y=\"-14.3\" font-family=\"Helvetica,sans-Serif\" font-size=\"14.00\">(...)</text>\n</g>\n<!-- 45335&#45;&gt;45967 -->\n<g id=\"edge7\" class=\"edge\">\n<title>45335&#45;&gt;45967</title>\n<path fill=\"none\" stroke=\"black\" d=\"M313.37,-71.8C318.87,-63.17 325,-53.54 330.5,-44.9\"/>\n<polygon fill=\"black\" stroke=\"black\" points=\"333.54,-46.65 335.96,-36.33 327.64,-42.88 333.54,-46.65\"/>\n</g>\n<!-- 46147 -->\n<g id=\"node10\" class=\"node\">\n<title>46147</title>\n<polygon fill=\"#effdf5\" stroke=\"black\" points=\"586.5,-125 405.5,-125 405.5,-72 586.5,-72 586.5,-125\"/>\n<text text-anchor=\"middle\" x=\"496\" y=\"-109.8\" font-family=\"Helvetica,sans-Serif\" font-size=\"14.00\">seller_code &lt;= 830.5</text>\n<text text-anchor=\"middle\" x=\"496\" y=\"-94.8\" font-family=\"Helvetica,sans-Serif\" font-size=\"14.00\">samples = 71.3%</text>\n<text text-anchor=\"middle\" x=\"496\" y=\"-79.8\" font-family=\"Helvetica,sans-Serif\" font-size=\"14.00\">value = [0.315, 0.37, 0.315]</text>\n</g>\n<!-- 46146&#45;&gt;46147 -->\n<g id=\"edge9\" class=\"edge\">\n<title>46146&#45;&gt;46147</title>\n<path fill=\"none\" stroke=\"black\" d=\"M496,-160.87C496,-152.89 496,-143.93 496,-135.38\"/>\n<polygon fill=\"black\" stroke=\"black\" points=\"499.5,-135.25 496,-125.25 492.5,-135.25 499.5,-135.25\"/>\n</g>\n<!-- 165726 -->\n<g id=\"node13\" class=\"node\">\n<title>165726</title>\n<polygon fill=\"#c29ff2\" stroke=\"black\" points=\"793,-125 605,-125 605,-72 793,-72 793,-125\"/>\n<text text-anchor=\"middle\" x=\"699\" y=\"-109.8\" font-family=\"Helvetica,sans-Serif\" font-size=\"14.00\">seller_code &lt;= 3119.5</text>\n<text text-anchor=\"middle\" x=\"699\" y=\"-94.8\" font-family=\"Helvetica,sans-Serif\" font-size=\"14.00\">samples = 0.5%</text>\n<text text-anchor=\"middle\" x=\"699\" y=\"-79.8\" font-family=\"Helvetica,sans-Serif\" font-size=\"14.00\">value = [0.107, 0.269, 0.624]</text>\n</g>\n<!-- 46146&#45;&gt;165726 -->\n<g id=\"edge12\" class=\"edge\">\n<title>46146&#45;&gt;165726</title>\n<path fill=\"none\" stroke=\"black\" d=\"M555.54,-160.98C578.88,-150.98 605.81,-139.44 630,-129.07\"/>\n<polygon fill=\"black\" stroke=\"black\" points=\"631.65,-132.17 639.47,-125.01 628.9,-125.74 631.65,-132.17\"/>\n</g>\n<!-- 46148 -->\n<g id=\"node11\" class=\"node\">\n<title>46148</title>\n<polygon fill=\"#c0c0c0\" stroke=\"black\" points=\"473,-36 419,-36 419,0 473,0 473,-36\"/>\n<text text-anchor=\"middle\" x=\"446\" y=\"-14.3\" font-family=\"Helvetica,sans-Serif\" font-size=\"14.00\">(...)</text>\n</g>\n<!-- 46147&#45;&gt;46148 -->\n<g id=\"edge10\" class=\"edge\">\n<title>46147&#45;&gt;46148</title>\n<path fill=\"none\" stroke=\"black\" d=\"M479.63,-71.8C474.13,-63.17 468,-53.54 462.5,-44.9\"/>\n<polygon fill=\"black\" stroke=\"black\" points=\"465.36,-42.88 457.04,-36.33 459.46,-46.65 465.36,-42.88\"/>\n</g>\n<!-- 52969 -->\n<g id=\"node12\" class=\"node\">\n<title>52969</title>\n<polygon fill=\"#c0c0c0\" stroke=\"black\" points=\"545,-36 491,-36 491,0 545,0 545,-36\"/>\n<text text-anchor=\"middle\" x=\"518\" y=\"-14.3\" font-family=\"Helvetica,sans-Serif\" font-size=\"14.00\">(...)</text>\n</g>\n<!-- 46147&#45;&gt;52969 -->\n<g id=\"edge11\" class=\"edge\">\n<title>46147&#45;&gt;52969</title>\n<path fill=\"none\" stroke=\"black\" d=\"M503.2,-71.8C505.52,-63.53 508.09,-54.35 510.43,-46\"/>\n<polygon fill=\"black\" stroke=\"black\" points=\"513.81,-46.9 513.14,-36.33 507.07,-45.01 513.81,-46.9\"/>\n</g>\n<!-- 165727 -->\n<g id=\"node14\" class=\"node\">\n<title>165727</title>\n<polygon fill=\"#c0c0c0\" stroke=\"black\" points=\"690,-36 636,-36 636,0 690,0 690,-36\"/>\n<text text-anchor=\"middle\" x=\"663\" y=\"-14.3\" font-family=\"Helvetica,sans-Serif\" font-size=\"14.00\">(...)</text>\n</g>\n<!-- 165726&#45;&gt;165727 -->\n<g id=\"edge13\" class=\"edge\">\n<title>165726&#45;&gt;165727</title>\n<path fill=\"none\" stroke=\"black\" d=\"M687.21,-71.8C683.34,-63.35 679.03,-53.95 675.13,-45.45\"/>\n<polygon fill=\"black\" stroke=\"black\" points=\"678.3,-43.96 670.95,-36.33 671.93,-46.88 678.3,-43.96\"/>\n</g>\n<!-- 165810 -->\n<g id=\"node15\" class=\"node\">\n<title>165810</title>\n<polygon fill=\"#c0c0c0\" stroke=\"black\" points=\"762,-36 708,-36 708,0 762,0 762,-36\"/>\n<text text-anchor=\"middle\" x=\"735\" y=\"-14.3\" font-family=\"Helvetica,sans-Serif\" font-size=\"14.00\">(...)</text>\n</g>\n<!-- 165726&#45;&gt;165810 -->\n<g id=\"edge14\" class=\"edge\">\n<title>165726&#45;&gt;165810</title>\n<path fill=\"none\" stroke=\"black\" d=\"M710.79,-71.8C714.66,-63.35 718.97,-53.95 722.87,-45.45\"/>\n<polygon fill=\"black\" stroke=\"black\" points=\"726.07,-46.88 727.05,-36.33 719.7,-43.96 726.07,-46.88\"/>\n</g>\n</g>\n</svg>\n",
            "text/plain": [
              "<graphviz.sources.Source at 0x7c6cd19fff10>"
            ]
          },
          "metadata": {}
        }
      ]
    },
    {
      "cell_type": "code",
      "source": [],
      "metadata": {
        "id": "__9BsC_r1aQz"
      },
      "execution_count": null,
      "outputs": []
    }
  ],
  "metadata": {
    "colab": {
      "provenance": [],
      "include_colab_link": true
    },
    "kernelspec": {
      "display_name": "Python 3",
      "name": "python3"
    },
    "language_info": {
      "name": "python"
    }
  },
  "nbformat": 4,
  "nbformat_minor": 0
}